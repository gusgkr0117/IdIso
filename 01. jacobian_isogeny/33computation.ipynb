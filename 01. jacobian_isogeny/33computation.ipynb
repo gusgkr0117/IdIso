{
 "cells": [
  {
   "cell_type": "code",
   "execution_count": 1,
   "metadata": {},
   "outputs": [
    {
     "name": "stdout",
     "output_type": "stream",
     "text": [
      "22_isogeny.sage      33_isogeny.sage      composition.ipynb\n",
      "22computation.ipynb  33computation.ipynb  params.sage\n"
     ]
    }
   ],
   "source": [
    "ls"
   ]
  },
  {
   "cell_type": "code",
   "execution_count": 2,
   "metadata": {},
   "outputs": [],
   "source": [
    "prime = 20*3^80 - 1\n",
    "assert(prime.is_prime())"
   ]
  },
  {
   "cell_type": "code",
   "execution_count": 3,
   "metadata": {},
   "outputs": [],
   "source": [
    "K = GF(prime)\n",
    "Kx.<x> = PolynomialRing(K)\n",
    "K.<twist> = K.extension(x^2 + 3)\n",
    "Kx.<x> = PolynomialRing(K)\n",
    "\n",
    "INV2 = K(1/2); INV3 = K(1/3); INV4 = K(1/4); INV16 = K(1/16); INV216 = K(1/216); INV864 = K(1/864);\n",
    "INV103680 = K(1/103680); INV213408 = K(1/213408); INV13837824 = K(1/13837824); INV8115344640 = K(1/8115344640); INV327019680 = K(1/327019680);"
   ]
  },
  {
   "cell_type": "code",
   "execution_count": 4,
   "metadata": {},
   "outputs": [],
   "source": [
    "f = (1553371936413153072743907537770247355840*twist + 2082337710644265386807243814325583099509)*x^6 + (297507054352813646945159546041942422624*twist + 2152493905806207414873849811330295195801)*x^5 + (1575004021715451089672123283798420131272*twist + 693873685380562641426671061694799418061)*x^4 + (2464593207674982589580695219370419406165*twist + 488635973198613181188407474574241908970)*x^3 + (2506348069544373361693935842513198675337*twist + 1389065747312376943875999815111443432343)*x^2 + (1269085104740582058526622761247889959503*twist + 2216921303657040404420212823114606971197)*x + 1160822072619205705134779893309325900028*twist + 118765667139638179259147731752279069473"
   ]
  },
  {
   "cell_type": "code",
   "execution_count": 5,
   "metadata": {},
   "outputs": [],
   "source": [
    "C = HyperellipticCurve(f)\n",
    "J = C.jacobian()"
   ]
  },
  {
   "cell_type": "code",
   "execution_count": 6,
   "metadata": {},
   "outputs": [],
   "source": [
    "P1 = J([x^2 + (2764653499373027320641011583870164748991*twist + 1591210230433450263934922023028619581904)*x + 1577943139698643136937585397941634444804*twist + 453801353912036043527336113709833929736, (967986290832185334972034005304407008909*twist + 1572156633867205171746009432509033013626)*x + 182928102136811691466878049069020189800*twist + 1007618304149301569984086823138032043187])\n",
    "P2 = J([x^2 + (1563896044945573641907197332984905186711*twist + 615309634900300028762231090923349632519)*x + 1468924704688126517798551775203494864263*twist + 2332333517485259892795780192352524727639, (1432399167343654265463612147923380327781*twist + 648888872541621034641367061701748386261)*x + 196653646156254538356772124364016805939*twist + 1488356948688330853391887215000508174718])\n",
    "Q1 = J([x^2 + (643697117906860804067557287695832272421*twist + 324855874973310655645492539237251873778)*x + 874009044412247157074633316842363310309*twist + 1529568043878433725852871172382026801981, (2551174313693266290559839465873371904224*twist + 922484229541153409564323103262705841864)*x + 354790912279988900088143888567738853820*twist + 2116031478365706410765748568343545560036])\n",
    "Q2 = J([x^2 + (545938022548915977489156937715868573221*twist + 2170930186183655350283733857370416272716)*x + 1583846819465859431472359170864144110666*twist + 1176152816848288119793507114686490463784, (829021274608714861587494146544415369950*twist + 1998074480778719310172617722293052644638)*x + 1625921754338385675799920061464951714596*twist + 1314236608225757200692046681238390489170])"
   ]
  },
  {
   "cell_type": "code",
   "execution_count": 42,
   "metadata": {},
   "outputs": [],
   "source": [
    "Fp = K\n",
    "import random\n",
    "load('33_isogeny.sage')\n",
    "\n",
    "for case in range(100):\n",
    "    randomP = random.randint(-10,10)*P1 + random.randint(-10,10)*P2 + random.randint(-10,10)*Q1 + random.randint(-10,10)*Q2\n",
    "    kum = KummerToJac(JacToKummer(randomP, f),f )\n",
    "    assert randomP[0] == kum[0]"
   ]
  },
  {
   "cell_type": "code",
   "execution_count": 69,
   "metadata": {},
   "outputs": [
    {
     "data": {
      "text/plain": [
       "4"
      ]
     },
     "execution_count": 69,
     "metadata": {},
     "output_type": "execute_result"
    }
   ],
   "source": [
    "sqrt(mod(3,13))"
   ]
  },
  {
   "cell_type": "code",
   "execution_count": 84,
   "metadata": {},
   "outputs": [
    {
     "name": "stdout",
     "output_type": "stream",
     "text": [
      "(455044226777679370589292475072012660036*twist + 2747227726661254207221168822403393268810, 291966734777263404474157083856838160094*twist + 443988639222097694248888020103989253864, 66228992988546073312118603589801813835*twist + 1079088802787548167196881276474195278279, 225488166563383602831959477864154160300*twist + 210854731321539920214316356231375510449)\n"
     ]
    }
   ],
   "source": [
    "print(J.curve().clebsch_invariants())"
   ]
  },
  {
   "cell_type": "code",
   "execution_count": 7,
   "metadata": {},
   "outputs": [],
   "source": [
    "load('33_isogeny.sage')\n",
    "message = [randrange(1, 3^(valuation(prime + 1, 3))) for i in range(3)]\n",
    "kern = [P1 + JacMul(Q1,message[0]) + JacMul(Q2,message[1]), P2 + JacMul(Q1,message[1]) + JacMul(Q2,message[2])]\n",
    "kern = [JacMul(D, 3^79) for D in kern]"
   ]
  },
  {
   "cell_type": "code",
   "execution_count": 10,
   "metadata": {},
   "outputs": [
    {
     "name": "stdout",
     "output_type": "stream",
     "text": [
      "0-th curve : (2821872044826531256877018314112068830148*twist + 1201331376093673215478457804332390176518, 1890331106324461816363075513908634961649*twist + 794343059335987287011293061163371918747, 1947724801010312355432643384511603551939*twist + 2791266578837522484233502111231877479840)\n"
     ]
    },
    {
     "ename": "KeyboardInterrupt",
     "evalue": "",
     "output_type": "error",
     "traceback": [
      "\u001b[0;31m---------------------------------------------------------------------------\u001b[0m",
      "\u001b[0;31mKeyError\u001b[0m                                  Traceback (most recent call last)",
      "File \u001b[0;32m/private/var/tmp/sage-10.1-current/local/var/lib/sage/venv-python3.11.1/lib/python3.11/site-packages/sage/misc/cachefunc.pyx:1934\u001b[0m, in \u001b[0;36msage.misc.cachefunc.CachedMethodCaller.__call__ (build/cythonized/sage/misc/cachefunc.c:10142)\u001b[0;34m()\u001b[0m\n\u001b[1;32m   1933\u001b[0m try:\n\u001b[0;32m-> 1934\u001b[0m     return cache[k]\n\u001b[1;32m   1935\u001b[0m except TypeError:  # k is not hashable\n",
      "\u001b[0;31mKeyError\u001b[0m: (('', None, None, False), ())",
      "\nDuring handling of the above exception, another exception occurred:\n",
      "\u001b[0;31mTypeError\u001b[0m                                 Traceback (most recent call last)",
      "File \u001b[0;32m/private/var/tmp/sage-10.1-current/local/var/lib/sage/venv-python3.11.1/lib/python3.11/site-packages/sage/rings/polynomial/multi_polynomial_ideal.py:4652\u001b[0m, in \u001b[0;36mMPolynomialIdeal.groebner_basis\u001b[0;34m(self, algorithm, deg_bound, mult_bound, prot, *args, **kwds)\u001b[0m\n\u001b[1;32m   4651\u001b[0m \u001b[39mtry\u001b[39;00m:\n\u001b[0;32m-> 4652\u001b[0m     gb \u001b[39m=\u001b[39m \u001b[39mself\u001b[39;49m\u001b[39m.\u001b[39;49m_groebner_basis_libsingular(\u001b[39m\"\u001b[39;49m\u001b[39mgroebner\u001b[39;49m\u001b[39m\"\u001b[39;49m, deg_bound\u001b[39m=\u001b[39;49mdeg_bound, mult_bound\u001b[39m=\u001b[39;49mmult_bound, \u001b[39m*\u001b[39;49margs, \u001b[39m*\u001b[39;49m\u001b[39m*\u001b[39;49mkwds)\n\u001b[1;32m   4653\u001b[0m \u001b[39mexcept\u001b[39;00m (\u001b[39mTypeError\u001b[39;00m, \u001b[39mNameError\u001b[39;00m, \u001b[39mImportError\u001b[39;00m):  \u001b[39m# conversion to Singular not supported\u001b[39;00m\n",
      "File \u001b[0;32m/private/var/tmp/sage-10.1-current/local/var/lib/sage/venv-python3.11.1/lib/python3.11/site-packages/sage/libs/singular/standard_options.py:143\u001b[0m, in \u001b[0;36mlibsingular_gb_standard_options.<locals>.wrapper\u001b[0;34m(*args, **kwds)\u001b[0m\n\u001b[1;32m    142\u001b[0m \u001b[39mwith\u001b[39;00m LibSingularGBDefaultContext():\n\u001b[0;32m--> 143\u001b[0m     \u001b[39mreturn\u001b[39;00m func(\u001b[39m*\u001b[39;49margs, \u001b[39m*\u001b[39;49m\u001b[39m*\u001b[39;49mkwds)\n",
      "File \u001b[0;32m/private/var/tmp/sage-10.1-current/local/var/lib/sage/venv-python3.11.1/lib/python3.11/site-packages/sage/rings/polynomial/multi_polynomial_ideal.py:549\u001b[0m, in \u001b[0;36mMPolynomialIdeal_singular_base_repr._groebner_basis_libsingular\u001b[0;34m(self, algorithm, *args, **kwds)\u001b[0m\n\u001b[1;32m    548\u001b[0m \u001b[39melif\u001b[39;00m algorithm \u001b[39m==\u001b[39m \u001b[39m\"\u001b[39m\u001b[39mgroebner\u001b[39m\u001b[39m\"\u001b[39m:\n\u001b[0;32m--> 549\u001b[0m     S \u001b[39m=\u001b[39m groebner(\u001b[39mself\u001b[39;49m)\n\u001b[1;32m    550\u001b[0m \u001b[39melse\u001b[39;00m:\n",
      "File \u001b[0;32m/private/var/tmp/sage-10.1-current/local/var/lib/sage/venv-python3.11.1/lib/python3.11/site-packages/sage/libs/singular/function.pyx:1307\u001b[0m, in \u001b[0;36msage.libs.singular.function.SingularFunction.__call__ (build/cythonized/sage/libs/singular/function.cpp:15722)\u001b[0;34m()\u001b[0m\n\u001b[1;32m   1306\u001b[0m if not (isinstance(ring, MPolynomialRing_libsingular) or isinstance(ring, NCPolynomialRing_plural)):\n\u001b[0;32m-> 1307\u001b[0m     raise TypeError(\"cannot call Singular function '%s' with ring parameter of type '%s'\" % (self._name,type(ring)))\n\u001b[1;32m   1308\u001b[0m return call_function(self, args, ring, interruptible, attributes)\n",
      "\u001b[0;31mTypeError\u001b[0m: cannot call Singular function 'groebner' with ring parameter of type '<class 'sage.rings.polynomial.multi_polynomial_ring.MPolynomialRing_polydict_domain_with_category'>'",
      "\nDuring handling of the above exception, another exception occurred:\n",
      "\u001b[0;31mKeyError\u001b[0m                                  Traceback (most recent call last)",
      "File \u001b[0;32m/private/var/tmp/sage-10.1-current/local/var/lib/sage/venv-python3.11.1/lib/python3.11/site-packages/sage/misc/cachefunc.pyx:1934\u001b[0m, in \u001b[0;36msage.misc.cachefunc.CachedMethodCaller.__call__ (build/cythonized/sage/misc/cachefunc.c:10142)\u001b[0;34m()\u001b[0m\n\u001b[1;32m   1933\u001b[0m try:\n\u001b[0;32m-> 1934\u001b[0m     return cache[k]\n\u001b[1;32m   1935\u001b[0m except TypeError:  # k is not hashable\n",
      "\u001b[0;31mKeyError\u001b[0m: (('groebner', Singular), (('deg_bound', None), ('mult_bound', None)))",
      "\nDuring handling of the above exception, another exception occurred:\n",
      "\u001b[0;31mKeyError\u001b[0m                                  Traceback (most recent call last)",
      "File \u001b[0;32m/private/var/tmp/sage-10.1-current/local/var/lib/sage/venv-python3.11.1/lib/python3.11/site-packages/sage/structure/category_object.pyx:842\u001b[0m, in \u001b[0;36msage.structure.category_object.CategoryObject.getattr_from_category (build/cythonized/sage/structure/category_object.c:7201)\u001b[0;34m()\u001b[0m\n\u001b[1;32m    841\u001b[0m try:\n\u001b[0;32m--> 842\u001b[0m     return self.__cached_methods[name]\n\u001b[1;32m    843\u001b[0m except KeyError:\n",
      "\u001b[0;31mKeyError\u001b[0m: '_PolynomialRing_singular_repr__singular'",
      "\nDuring handling of the above exception, another exception occurred:\n",
      "\u001b[0;31mAttributeError\u001b[0m                            Traceback (most recent call last)",
      "File \u001b[0;32m/private/var/tmp/sage-10.1-current/local/var/lib/sage/venv-python3.11.1/lib/python3.11/site-packages/sage/rings/polynomial/polynomial_singular_interface.py:335\u001b[0m, in \u001b[0;36mPolynomialRing_singular_repr._singular_\u001b[0;34m(self, singular)\u001b[0m\n\u001b[1;32m    334\u001b[0m \u001b[39mtry\u001b[39;00m:\n\u001b[0;32m--> 335\u001b[0m     R \u001b[39m=\u001b[39m \u001b[39mself\u001b[39;49m\u001b[39m.\u001b[39;49m__singular\n\u001b[1;32m    336\u001b[0m     \u001b[39mif\u001b[39;00m \u001b[39mnot\u001b[39;00m (R\u001b[39m.\u001b[39mparent() \u001b[39mis\u001b[39;00m singular):\n",
      "File \u001b[0;32m/private/var/tmp/sage-10.1-current/local/var/lib/sage/venv-python3.11.1/lib/python3.11/site-packages/sage/structure/category_object.pyx:836\u001b[0m, in \u001b[0;36msage.structure.category_object.CategoryObject.__getattr__ (build/cythonized/sage/structure/category_object.c:7120)\u001b[0;34m()\u001b[0m\n\u001b[1;32m    835\u001b[0m \"\"\"\n\u001b[0;32m--> 836\u001b[0m return self.getattr_from_category(name)\n\u001b[1;32m    837\u001b[0m \n",
      "File \u001b[0;32m/private/var/tmp/sage-10.1-current/local/var/lib/sage/venv-python3.11.1/lib/python3.11/site-packages/sage/structure/category_object.pyx:851\u001b[0m, in \u001b[0;36msage.structure.category_object.CategoryObject.getattr_from_category (build/cythonized/sage/structure/category_object.c:7286)\u001b[0;34m()\u001b[0m\n\u001b[1;32m    850\u001b[0m \n\u001b[0;32m--> 851\u001b[0m             attr = getattr_from_other_class(self, cls, name)\n\u001b[1;32m    852\u001b[0m             self.__cached_methods[name] = attr\n",
      "File \u001b[0;32m/private/var/tmp/sage-10.1-current/local/var/lib/sage/venv-python3.11.1/lib/python3.11/site-packages/sage/cpython/getattr.pyx:357\u001b[0m, in \u001b[0;36msage.cpython.getattr.getattr_from_other_class (build/cythonized/sage/cpython/getattr.c:2706)\u001b[0;34m()\u001b[0m\n\u001b[1;32m    356\u001b[0m     dummy_error_message.name = name\n\u001b[0;32m--> 357\u001b[0m     raise AttributeError(dummy_error_message)\n\u001b[1;32m    358\u001b[0m cdef PyObject* attr = instance_getattr(cls, name)\n",
      "\u001b[0;31mAttributeError\u001b[0m: 'MPolynomial_polydict' object has no attribute '_MPolynomial_polydict__lm'",
      "\nDuring handling of the above exception, another exception occurred:\n",
      "\u001b[0;31mTypeError\u001b[0m                                 Traceback (most recent call last)",
      "File \u001b[0;32m/private/var/tmp/sage-10.1-current/local/var/lib/sage/venv-python3.11.1/lib/python3.11/site-packages/sage/rings/polynomial/multi_polynomial_ideal.py:4655\u001b[0m, in \u001b[0;36mMPolynomialIdeal.groebner_basis\u001b[0;34m(self, algorithm, deg_bound, mult_bound, prot, *args, **kwds)\u001b[0m\n\u001b[1;32m   4654\u001b[0m \u001b[39mtry\u001b[39;00m:\n\u001b[0;32m-> 4655\u001b[0m     gb \u001b[39m=\u001b[39m \u001b[39mself\u001b[39;49m\u001b[39m.\u001b[39;49m_groebner_basis_singular(\u001b[39m\"\u001b[39;49m\u001b[39mgroebner\u001b[39;49m\u001b[39m\"\u001b[39;49m, deg_bound\u001b[39m=\u001b[39;49mdeg_bound, mult_bound\u001b[39m=\u001b[39;49mmult_bound, \u001b[39m*\u001b[39;49margs, \u001b[39m*\u001b[39;49m\u001b[39m*\u001b[39;49mkwds)\n\u001b[1;32m   4656\u001b[0m \u001b[39mexcept\u001b[39;00m (\u001b[39mTypeError\u001b[39;00m, \u001b[39mNameError\u001b[39;00m, \u001b[39mNotImplementedError\u001b[39;00m, \u001b[39mImportError\u001b[39;00m):  \u001b[39m# conversion to Singular not supported\u001b[39;00m\n",
      "File \u001b[0;32m/private/var/tmp/sage-10.1-current/local/var/lib/sage/venv-python3.11.1/lib/python3.11/site-packages/sage/interfaces/singular.py:2818\u001b[0m, in \u001b[0;36msingular_gb_standard_options.<locals>.wrapper\u001b[0;34m(*args, **kwds)\u001b[0m\n\u001b[1;32m   2817\u001b[0m \u001b[39mwith\u001b[39;00m SingularGBDefaultContext():\n\u001b[0;32m-> 2818\u001b[0m     \u001b[39mreturn\u001b[39;00m func(\u001b[39m*\u001b[39;49margs, \u001b[39m*\u001b[39;49m\u001b[39m*\u001b[39;49mkwds)\n",
      "File \u001b[0;32m/private/var/tmp/sage-10.1-current/local/var/lib/sage/venv-python3.11.1/lib/python3.11/site-packages/sage/rings/polynomial/multi_polynomial_ideal.py:1474\u001b[0m, in \u001b[0;36mMPolynomialIdeal_singular_repr._groebner_basis_singular\u001b[0;34m(self, algorithm, *args, **kwds)\u001b[0m\n\u001b[1;32m   1473\u001b[0m R \u001b[39m=\u001b[39m \u001b[39mself\u001b[39m\u001b[39m.\u001b[39mring()\n\u001b[0;32m-> 1474\u001b[0m S \u001b[39m=\u001b[39m \u001b[39mself\u001b[39;49m\u001b[39m.\u001b[39;49m_groebner_basis_singular_raw(algorithm\u001b[39m=\u001b[39;49malgorithm, \u001b[39m*\u001b[39;49margs, \u001b[39m*\u001b[39;49m\u001b[39m*\u001b[39;49mkwds)\n\u001b[1;32m   1475\u001b[0m S \u001b[39m=\u001b[39m PolynomialSequence([R(S[i\u001b[39m+\u001b[39m\u001b[39m1\u001b[39m]) \u001b[39mfor\u001b[39;00m i \u001b[39min\u001b[39;00m \u001b[39mrange\u001b[39m(\u001b[39mlen\u001b[39m(S))], R, immutable\u001b[39m=\u001b[39m\u001b[39mTrue\u001b[39;00m)\n",
      "File \u001b[0;32m/private/var/tmp/sage-10.1-current/local/var/lib/sage/venv-python3.11.1/lib/python3.11/site-packages/sage/misc/cachefunc.pyx:1939\u001b[0m, in \u001b[0;36msage.misc.cachefunc.CachedMethodCaller.__call__ (build/cythonized/sage/misc/cachefunc.c:10278)\u001b[0;34m()\u001b[0m\n\u001b[1;32m   1938\u001b[0m except KeyError:\n\u001b[0;32m-> 1939\u001b[0m     w = self._instance_call(*args, **kwds)\n\u001b[1;32m   1940\u001b[0m     cache[k] = w\n",
      "File \u001b[0;32m/private/var/tmp/sage-10.1-current/local/var/lib/sage/venv-python3.11.1/lib/python3.11/site-packages/sage/misc/cachefunc.pyx:1815\u001b[0m, in \u001b[0;36msage.misc.cachefunc.CachedMethodCaller._instance_call (build/cythonized/sage/misc/cachefunc.c:9744)\u001b[0;34m()\u001b[0m\n\u001b[1;32m   1814\u001b[0m \"\"\"\n\u001b[0;32m-> 1815\u001b[0m return self.f(self._instance, *args, **kwds)\n\u001b[1;32m   1816\u001b[0m \n",
      "File \u001b[0;32m/private/var/tmp/sage-10.1-current/local/var/lib/sage/venv-python3.11.1/lib/python3.11/site-packages/sage/rings/polynomial/multi_polynomial_ideal.py:1509\u001b[0m, in \u001b[0;36mMPolynomialIdeal_singular_repr._groebner_basis_singular_raw\u001b[0;34m(self, algorithm, singular, *args, **kwds)\u001b[0m\n\u001b[1;32m   1508\u001b[0m \u001b[39mfrom\u001b[39;00m \u001b[39msage\u001b[39;00m\u001b[39m.\u001b[39;00m\u001b[39mlibs\u001b[39;00m\u001b[39m.\u001b[39;00m\u001b[39msingular\u001b[39;00m\u001b[39m.\u001b[39;00m\u001b[39moption\u001b[39;00m \u001b[39mimport\u001b[39;00m _options_py_to_singular\n\u001b[0;32m-> 1509\u001b[0m S \u001b[39m=\u001b[39m \u001b[39mself\u001b[39;49m\u001b[39m.\u001b[39;49m_singular_()   \u001b[39m# for degBound, we need to ensure\u001b[39;00m\n\u001b[1;32m   1510\u001b[0m                         \u001b[39m# that a ring is defined\u001b[39;00m\n",
      "File \u001b[0;32m/private/var/tmp/sage-10.1-current/local/var/lib/sage/venv-python3.11.1/lib/python3.11/site-packages/sage/rings/polynomial/multi_polynomial_ideal.py:628\u001b[0m, in \u001b[0;36mMPolynomialIdeal_singular_repr._singular_\u001b[0;34m(self, singular)\u001b[0m\n\u001b[1;32m    627\u001b[0m \u001b[39mtry\u001b[39;00m:\n\u001b[0;32m--> 628\u001b[0m     \u001b[39mself\u001b[39;49m\u001b[39m.\u001b[39;49mring()\u001b[39m.\u001b[39;49m_singular_(singular)\u001b[39m.\u001b[39mset_ring()\n\u001b[1;32m    629\u001b[0m     I \u001b[39m=\u001b[39m \u001b[39mself\u001b[39m\u001b[39m.\u001b[39m__singular\n",
      "File \u001b[0;32m/private/var/tmp/sage-10.1-current/local/var/lib/sage/venv-python3.11.1/lib/python3.11/site-packages/sage/rings/polynomial/polynomial_singular_interface.py:349\u001b[0m, in \u001b[0;36mPolynomialRing_singular_repr._singular_\u001b[0;34m(self, singular)\u001b[0m\n\u001b[1;32m    348\u001b[0m \u001b[39mexcept\u001b[39;00m (\u001b[39mAttributeError\u001b[39;00m, \u001b[39mValueError\u001b[39;00m):\n\u001b[0;32m--> 349\u001b[0m     \u001b[39mreturn\u001b[39;00m \u001b[39mself\u001b[39;49m\u001b[39m.\u001b[39;49m_singular_init_(singular)\n",
      "File \u001b[0;32m/private/var/tmp/sage-10.1-current/local/var/lib/sage/venv-python3.11.1/lib/python3.11/site-packages/sage/rings/polynomial/polynomial_singular_interface.py:366\u001b[0m, in \u001b[0;36mPolynomialRing_singular_repr._singular_init_\u001b[0;34m(self, singular)\u001b[0m\n\u001b[1;32m    365\u001b[0m \u001b[39mif\u001b[39;00m \u001b[39mnot\u001b[39;00m can_convert_to_singular(\u001b[39mself\u001b[39m):\n\u001b[0;32m--> 366\u001b[0m     \u001b[39mraise\u001b[39;00m \u001b[39mTypeError\u001b[39;00m(\u001b[39m\"\u001b[39m\u001b[39mno conversion of this ring to a Singular ring defined\u001b[39m\u001b[39m\"\u001b[39m)\n\u001b[1;32m    368\u001b[0m \u001b[39mif\u001b[39;00m \u001b[39mself\u001b[39m\u001b[39m.\u001b[39mngens() \u001b[39m==\u001b[39m \u001b[39m1\u001b[39m:\n",
      "\u001b[0;31mTypeError\u001b[0m: no conversion of this ring to a Singular ring defined",
      "\nDuring handling of the above exception, another exception occurred:\n",
      "\u001b[0;31mKeyboardInterrupt\u001b[0m                         Traceback (most recent call last)",
      "\u001b[1;32m/Users/hyeonhak/Documents/works/01. Development/01. Isogeny/IdIso/01. jacobian_isogeny/33computation.ipynb 셀 11\u001b[0m line \u001b[0;36m5\n\u001b[1;32m      <a href='vscode-notebook-cell:/Users/hyeonhak/Documents/works/01.%20Development/01.%20Isogeny/IdIso/01.%20jacobian_isogeny/33computation.ipynb#X13sZmlsZQ%3D%3D?line=2'>3</a>\u001b[0m Fp \u001b[39m=\u001b[39m K\n\u001b[1;32m      <a href='vscode-notebook-cell:/Users/hyeonhak/Documents/works/01.%20Development/01.%20Isogeny/IdIso/01.%20jacobian_isogeny/33computation.ipynb#X13sZmlsZQ%3D%3D?line=3'>4</a>\u001b[0m \u001b[39mfor\u001b[39;00m i \u001b[39min\u001b[39;00m \u001b[39mrange\u001b[39m(Integer(\u001b[39m5\u001b[39m)):\n\u001b[0;32m----> <a href='vscode-notebook-cell:/Users/hyeonhak/Documents/works/01.%20Development/01.%20Isogeny/IdIso/01.%20jacobian_isogeny/33computation.ipynb#X13sZmlsZQ%3D%3D?line=4'>5</a>\u001b[0m     isogeny_33(kern, [P1, P2], Integer(\u001b[39m1\u001b[39;49m))\n",
      "File \u001b[0;32m<string>:951\u001b[0m, in \u001b[0;36misogeny_33\u001b[0;34m(J_kernel, eval_points, n)\u001b[0m\n",
      "File \u001b[0;32m<string>:896\u001b[0m, in \u001b[0;36mBFT_evaluation\u001b[0;34m(kernel, points)\u001b[0m\n",
      "File \u001b[0;32m<string>:717\u001b[0m, in \u001b[0;36mget_rst_transform\u001b[0;34m(Ti)\u001b[0m\n",
      "File \u001b[0;32m/private/var/tmp/sage-10.1-current/local/var/lib/sage/venv-python3.11.1/lib/python3.11/site-packages/sage/misc/cachefunc.pyx:1939\u001b[0m, in \u001b[0;36msage.misc.cachefunc.CachedMethodCaller.__call__ (build/cythonized/sage/misc/cachefunc.c:10278)\u001b[0;34m()\u001b[0m\n\u001b[1;32m   1937\u001b[0m         return cache[k]\n\u001b[1;32m   1938\u001b[0m except KeyError:\n\u001b[0;32m-> 1939\u001b[0m     w = self._instance_call(*args, **kwds)\n\u001b[1;32m   1940\u001b[0m     cache[k] = w\n\u001b[1;32m   1941\u001b[0m     return w\n",
      "File \u001b[0;32m/private/var/tmp/sage-10.1-current/local/var/lib/sage/venv-python3.11.1/lib/python3.11/site-packages/sage/misc/cachefunc.pyx:1815\u001b[0m, in \u001b[0;36msage.misc.cachefunc.CachedMethodCaller._instance_call (build/cythonized/sage/misc/cachefunc.c:9744)\u001b[0;34m()\u001b[0m\n\u001b[1;32m   1813\u001b[0m         True\n\u001b[1;32m   1814\u001b[0m     \"\"\"\n\u001b[0;32m-> 1815\u001b[0m     return self.f(self._instance, *args, **kwds)\n\u001b[1;32m   1816\u001b[0m \n\u001b[1;32m   1817\u001b[0m cdef fix_args_kwds(self, tuple args, dict kwds):\n",
      "File \u001b[0;32m/private/var/tmp/sage-10.1-current/local/var/lib/sage/venv-python3.11.1/lib/python3.11/site-packages/sage/rings/qqbar_decorators.py:96\u001b[0m, in \u001b[0;36mhandle_AA_and_QQbar.<locals>.wrapper\u001b[0;34m(*args, **kwds)\u001b[0m\n\u001b[1;32m     90\u001b[0m \u001b[39mfrom\u001b[39;00m \u001b[39msage\u001b[39;00m\u001b[39m.\u001b[39;00m\u001b[39mrings\u001b[39;00m\u001b[39m.\u001b[39;00m\u001b[39mabc\u001b[39;00m \u001b[39mimport\u001b[39;00m AlgebraicField_common\n\u001b[1;32m     92\u001b[0m \u001b[39mif\u001b[39;00m \u001b[39mnot\u001b[39;00m \u001b[39many\u001b[39m(\u001b[39misinstance\u001b[39m(a, (Polynomial, MPolynomial, Ideal_generic))\n\u001b[1;32m     93\u001b[0m            \u001b[39mand\u001b[39;00m \u001b[39misinstance\u001b[39m(a\u001b[39m.\u001b[39mbase_ring(), AlgebraicField_common)\n\u001b[1;32m     94\u001b[0m            \u001b[39mor\u001b[39;00m is_PolynomialSequence(a)\n\u001b[1;32m     95\u001b[0m            \u001b[39mand\u001b[39;00m \u001b[39misinstance\u001b[39m(a\u001b[39m.\u001b[39mring()\u001b[39m.\u001b[39mbase_ring(), AlgebraicField_common) \u001b[39mfor\u001b[39;00m a \u001b[39min\u001b[39;00m args):\n\u001b[0;32m---> 96\u001b[0m     \u001b[39mreturn\u001b[39;00m func(\u001b[39m*\u001b[39;49margs, \u001b[39m*\u001b[39;49m\u001b[39m*\u001b[39;49mkwds)\n\u001b[1;32m     98\u001b[0m polynomials \u001b[39m=\u001b[39m []\n\u001b[1;32m    100\u001b[0m \u001b[39mfor\u001b[39;00m a \u001b[39min\u001b[39;00m flatten(args, ltypes\u001b[39m=\u001b[39m(\u001b[39mlist\u001b[39m, \u001b[39mtuple\u001b[39m, \u001b[39mset\u001b[39m)):\n",
      "File \u001b[0;32m/private/var/tmp/sage-10.1-current/local/var/lib/sage/venv-python3.11.1/lib/python3.11/site-packages/sage/rings/polynomial/multi_polynomial_ideal.py:4687\u001b[0m, in \u001b[0;36mMPolynomialIdeal.groebner_basis\u001b[0;34m(self, algorithm, deg_bound, mult_bound, prot, *args, **kwds)\u001b[0m\n\u001b[1;32m   4685\u001b[0m \u001b[39melif\u001b[39;00m R\u001b[39m.\u001b[39mterm_order()\u001b[39m.\u001b[39mis_global():\n\u001b[1;32m   4686\u001b[0m     verbose(\u001b[39m\"\u001b[39m\u001b[39mWarning: falling back to very slow toy implementation.\u001b[39m\u001b[39m\"\u001b[39m, level\u001b[39m=\u001b[39m\u001b[39m0\u001b[39m)\n\u001b[0;32m-> 4687\u001b[0m     gb \u001b[39m=\u001b[39m toy_buchberger\u001b[39m.\u001b[39;49mbuchberger_improved(\u001b[39mself\u001b[39;49m, \u001b[39m*\u001b[39;49margs, \u001b[39m*\u001b[39;49m\u001b[39m*\u001b[39;49mkwds)\n\u001b[1;32m   4688\u001b[0m \u001b[39melse\u001b[39;00m:\n\u001b[1;32m   4689\u001b[0m     \u001b[39mraise\u001b[39;00m \u001b[39mTypeError\u001b[39;00m(\u001b[39m\"\u001b[39m\u001b[39mLocal/unknown orderings not supported by \u001b[39m\u001b[39m'\u001b[39m\u001b[39mtoy_buchberger\u001b[39m\u001b[39m'\u001b[39m\u001b[39m implementation.\u001b[39m\u001b[39m\"\u001b[39m)\n",
      "File \u001b[0;32m/private/var/tmp/sage-10.1-current/local/var/lib/sage/venv-python3.11.1/lib/python3.11/site-packages/sage/rings/polynomial/toy_buchberger.py:279\u001b[0m, in \u001b[0;36mbuchberger_improved\u001b[0;34m(F)\u001b[0m\n\u001b[1;32m    277\u001b[0m h \u001b[39m=\u001b[39m spol(g1, g2)\u001b[39m.\u001b[39mreduce(G)\n\u001b[1;32m    278\u001b[0m \u001b[39mif\u001b[39;00m h \u001b[39m!=\u001b[39m \u001b[39m0\u001b[39m:\n\u001b[0;32m--> 279\u001b[0m     G, B \u001b[39m=\u001b[39m update(G, B, h)\n\u001b[1;32m    281\u001b[0m \u001b[39mif\u001b[39;00m get_verbose() \u001b[39m>\u001b[39m\u001b[39m=\u001b[39m \u001b[39m1\u001b[39m:\n\u001b[1;32m    282\u001b[0m     \u001b[39mprint\u001b[39m(\u001b[39m\"\u001b[39m\u001b[39m(\u001b[39m\u001b[39m%s\u001b[39;00m\u001b[39m, \u001b[39m\u001b[39m%s\u001b[39;00m\u001b[39m) => \u001b[39m\u001b[39m%s\u001b[39;00m\u001b[39m\"\u001b[39m \u001b[39m%\u001b[39m (g1, g2, h))\n",
      "File \u001b[0;32m/private/var/tmp/sage-10.1-current/local/var/lib/sage/venv-python3.11.1/lib/python3.11/site-packages/sage/rings/polynomial/toy_buchberger.py:360\u001b[0m, in \u001b[0;36mupdate\u001b[0;34m(G, B, h)\u001b[0m\n\u001b[1;32m    356\u001b[0m     g1, g2 \u001b[39m=\u001b[39m B\u001b[39m.\u001b[39mpop()\n\u001b[1;32m    357\u001b[0m     \u001b[39mif\u001b[39;00m \u001b[39mnot\u001b[39;00m R\u001b[39m.\u001b[39mmonomial_divides(LM(h), LCM(LM(g1), LM(g2))) \u001b[39mor\u001b[39;00m \\\n\u001b[1;32m    358\u001b[0m        R\u001b[39m.\u001b[39mmonomial_lcm(LM(g1), LM(h)) \u001b[39m==\u001b[39m LCM(LM(g1), LM(g2)) \u001b[39mor\u001b[39;00m \\\n\u001b[1;32m    359\u001b[0m        R\u001b[39m.\u001b[39mmonomial_lcm(LM(h), LM(g2)) \u001b[39m==\u001b[39m LCM(LM(g1), LM(g2)):\n\u001b[0;32m--> 360\u001b[0m         B_new\u001b[39m.\u001b[39madd((g1, g2))\n\u001b[1;32m    362\u001b[0m B_new \u001b[39m=\u001b[39m B_new\u001b[39m.\u001b[39munion(E)\n\u001b[1;32m    364\u001b[0m G_new \u001b[39m=\u001b[39m \u001b[39mset\u001b[39m()\n",
      "File \u001b[0;32m/private/var/tmp/sage-10.1-current/local/var/lib/sage/venv-python3.11.1/lib/python3.11/site-packages/sage/rings/polynomial/multi_polynomial.pyx:601\u001b[0m, in \u001b[0;36msage.rings.polynomial.multi_polynomial.MPolynomial.__hash__ (build/cythonized/sage/rings/polynomial/multi_polynomial.c:9764)\u001b[0;34m()\u001b[0m\n\u001b[1;32m    599\u001b[0m # explains how __richcmp__, __hash__, and __cmp__ are tied together.\n\u001b[1;32m    600\u001b[0m def __hash__(self):\n\u001b[0;32m--> 601\u001b[0m     return self._hash_c()\n\u001b[1;32m    602\u001b[0m \n\u001b[1;32m    603\u001b[0m def args(self):\n",
      "File \u001b[0;32m/private/var/tmp/sage-10.1-current/local/var/lib/sage/venv-python3.11.1/lib/python3.11/site-packages/sage/rings/polynomial/multi_polynomial.pyx:584\u001b[0m, in \u001b[0;36msage.rings.polynomial.multi_polynomial.MPolynomial._hash_c (build/cythonized/sage/rings/polynomial/multi_polynomial.c:9500)\u001b[0;34m()\u001b[0m\n\u001b[1;32m    582\u001b[0m # it allows us to write fast code that omits terms with 0 coefficients.  This is\n\u001b[1;32m    583\u001b[0m # important if we want to maintain the '==' relationship with sparse polys.\n\u001b[0;32m--> 584\u001b[0m c_hash = hash(c)\n\u001b[1;32m    585\u001b[0m if c_hash != 0: # this is always going to be true, because we are sparse (correct?)\n\u001b[1;32m    586\u001b[0m     # Hash (self[i], gen_a, exp_a, gen_b, exp_b, gen_c, exp_c, ...) as a tuple according to the algorithm.\n",
      "File \u001b[0;32m/private/var/tmp/sage-10.1-current/local/var/lib/sage/venv-python3.11.1/lib/python3.11/site-packages/sage/rings/finite_rings/element_pari_ffelt.pyx:561\u001b[0m, in \u001b[0;36msage.rings.finite_rings.element_pari_ffelt.FiniteFieldElement_pari_ffelt.__hash__ (build/cythonized/sage/rings/finite_rings/element_pari_ffelt.c:6445)\u001b[0;34m()\u001b[0m\n\u001b[1;32m    559\u001b[0m         True\n\u001b[1;32m    560\u001b[0m     \"\"\"\n\u001b[0;32m--> 561\u001b[0m     return hash(self.polynomial())\n\u001b[1;32m    562\u001b[0m \n\u001b[1;32m    563\u001b[0m def __reduce__(self):\n",
      "File \u001b[0;32m/private/var/tmp/sage-10.1-current/local/var/lib/sage/venv-python3.11.1/lib/python3.11/site-packages/sage/rings/finite_rings/element_pari_ffelt.pyx:955\u001b[0m, in \u001b[0;36msage.rings.finite_rings.element_pari_ffelt.FiniteFieldElement_pari_ffelt.polynomial (build/cythonized/sage/rings/finite_rings/element_pari_ffelt.c:8872)\u001b[0;34m()\u001b[0m\n\u001b[1;32m    953\u001b[0m     sig_on()\n\u001b[1;32m    954\u001b[0m     pol = new_gen(FF_to_FpXQ(self.val))\n\u001b[0;32m--> 955\u001b[0m     return self._parent.polynomial_ring(name)(pol)\n\u001b[1;32m    956\u001b[0m \n\u001b[1;32m    957\u001b[0m def minpoly(self, var='x'):\n",
      "File \u001b[0;32m/private/var/tmp/sage-10.1-current/local/var/lib/sage/venv-python3.11.1/lib/python3.11/site-packages/sage/structure/parent.pyx:901\u001b[0m, in \u001b[0;36msage.structure.parent.Parent.__call__ (build/cythonized/sage/structure/parent.c:9450)\u001b[0;34m()\u001b[0m\n\u001b[1;32m    899\u001b[0m if mor is not None:\n\u001b[1;32m    900\u001b[0m     if no_extra_args:\n\u001b[0;32m--> 901\u001b[0m         return mor._call_(x)\n\u001b[1;32m    902\u001b[0m     else:\n\u001b[1;32m    903\u001b[0m         return mor._call_with_args(x, args, kwds)\n",
      "File \u001b[0;32m/private/var/tmp/sage-10.1-current/local/var/lib/sage/venv-python3.11.1/lib/python3.11/site-packages/sage/structure/coerce_maps.pyx:158\u001b[0m, in \u001b[0;36msage.structure.coerce_maps.DefaultConvertMap_unique._call_ (build/cythonized/sage/structure/coerce_maps.c:4730)\u001b[0;34m()\u001b[0m\n\u001b[1;32m    156\u001b[0m cdef Parent C = self._codomain\n\u001b[1;32m    157\u001b[0m try:\n\u001b[0;32m--> 158\u001b[0m     return C._element_constructor(x)\n\u001b[1;32m    159\u001b[0m except Exception:\n\u001b[1;32m    160\u001b[0m     if print_warnings:\n",
      "File \u001b[0;32m/private/var/tmp/sage-10.1-current/local/var/lib/sage/venv-python3.11.1/lib/python3.11/site-packages/sage/rings/polynomial/polynomial_ring.py:465\u001b[0m, in \u001b[0;36mPolynomialRing_general._element_constructor_\u001b[0;34m(self, x, check, is_gen, construct, **kwds)\u001b[0m\n\u001b[1;32m    463\u001b[0m     \u001b[39mif\u001b[39;00m x\u001b[39m.\u001b[39mtype() \u001b[39m==\u001b[39m \u001b[39m'\u001b[39m\u001b[39mt_RFRAC\u001b[39m\u001b[39m'\u001b[39m:\n\u001b[1;32m    464\u001b[0m         \u001b[39mraise\u001b[39;00m \u001b[39mTypeError\u001b[39;00m(\u001b[39m\"\u001b[39m\u001b[39mdenominator must be a unit\u001b[39m\u001b[39m\"\u001b[39m)\n\u001b[0;32m--> 465\u001b[0m     \u001b[39mif\u001b[39;00m x\u001b[39m.\u001b[39;49mtype() \u001b[39m!=\u001b[39m \u001b[39m'\u001b[39m\u001b[39mt_POL\u001b[39m\u001b[39m'\u001b[39m:\n\u001b[1;32m    466\u001b[0m         x \u001b[39m=\u001b[39m x\u001b[39m.\u001b[39mPolrev()\n\u001b[1;32m    467\u001b[0m \u001b[39melif\u001b[39;00m \u001b[39misinstance\u001b[39m(x, FiniteRingElement):\n",
      "File \u001b[0;32mcypari2/gen.pyx:4515\u001b[0m, in \u001b[0;36mcypari2.gen.Gen.type\u001b[0;34m()\u001b[0m\n",
      "\u001b[0;31mKeyboardInterrupt\u001b[0m: "
     ]
    }
   ],
   "source": [
    "load('33_isogeny.sage')\n",
    "set_verbose(-1)\n",
    "Fp = K\n",
    "for i in range(5):\n",
    "    isogeny_33(kern, [P1, P2], 1)"
   ]
  },
  {
   "cell_type": "code",
   "execution_count": 94,
   "metadata": {},
   "outputs": [
    {
     "name": "stdout",
     "output_type": "stream",
     "text": [
      "(2326346598199328522080663034190360573096*twist + 29689390346379809256824962026475565853)*x^3 + (986935046770695501769208727625704449102*twist + 2012587289110215570439040593037392007258)*x^2 + (1179457109946389906716982520589549287742*twist + 2119852854119581792259479824045789929478)*x + 2591211451065323996964937671330272262361*twist + 2000646411843882931360152230180659285583\n"
     ]
    }
   ],
   "source": [
    "a = (629829990087589944241001169937305378923*twist + 2926487197940538657064839242101190386166)*x^3 + (1969241541516222964552455476501961502917*twist + 943589299176702895882623611090273944761)*x^2 + (1776719478340528559604681683538116664277*twist + 836323734167336674062184380081876022541)*x + 364965137221594469356726532797393689658*twist + 955530176443035534961511973947006666436\n",
    "print(-a)"
   ]
  },
  {
   "cell_type": "code",
   "execution_count": 22,
   "metadata": {},
   "outputs": [
    {
     "data": {
      "text/plain": [
       "(1)"
      ]
     },
     "execution_count": 22,
     "metadata": {},
     "output_type": "execute_result"
    }
   ],
   "source": [
    "3^10*P1 - JacMul(P1,3^10)"
   ]
  },
  {
   "cell_type": "code",
   "execution_count": 16,
   "metadata": {},
   "outputs": [
    {
     "data": {
      "text/plain": [
       "(1)"
      ]
     },
     "execution_count": 16,
     "metadata": {},
     "output_type": "execute_result"
    }
   ],
   "source": [
    "J(0)"
   ]
  },
  {
   "cell_type": "code",
   "execution_count": 73,
   "metadata": {},
   "outputs": [
    {
     "data": {
      "text/plain": [
       "(2010821858133995270656790526892254384904*twist + 2371234011382302288745404515008511927197)*x + 534487974076639932069655430107567657304*twist + 625859399646429834462922451484469373281"
      ]
     },
     "execution_count": 73,
     "metadata": {},
     "output_type": "execute_result"
    }
   ],
   "source": [
    "T2[1]"
   ]
  },
  {
   "cell_type": "code",
   "execution_count": 79,
   "metadata": {},
   "outputs": [
    {
     "data": {
      "text/plain": [
       "(2539717635610562434726199932047381638784*twist + 1670330716989675106546180858563856584285)*x + 2067970049453249147711017973089144604108*twist + 1124945936386549232656202111094112779251"
      ]
     },
     "execution_count": 79,
     "metadata": {},
     "output_type": "execute_result"
    }
   ],
   "source": [
    "T1[1]"
   ]
  },
  {
   "cell_type": "code",
   "execution_count": 80,
   "metadata": {},
   "outputs": [
    {
     "data": {
      "text/plain": [
       "(416458952676356031595464272080284313235*twist + 1285845871297243359775483345563809367734)*x + 888206538833669318610646231038521347911*twist + 1831230651900369233665462093033553172768"
      ]
     },
     "execution_count": 80,
     "metadata": {},
     "output_type": "execute_result"
    }
   ],
   "source": [
    "(-T1)[1]"
   ]
  },
  {
   "cell_type": "code",
   "execution_count": 81,
   "metadata": {},
   "outputs": [
    {
     "data": {
      "text/plain": [
       "0"
      ]
     },
     "execution_count": 81,
     "metadata": {},
     "output_type": "execute_result"
    }
   ],
   "source": [
    "T1[1] + (-T1)[1]"
   ]
  },
  {
   "cell_type": "code",
   "execution_count": null,
   "metadata": {},
   "outputs": [],
   "source": []
  }
 ],
 "metadata": {
  "kernelspec": {
   "display_name": "SageMath 10.1",
   "language": "sage",
   "name": "SageMath-10.1"
  },
  "language_info": {
   "codemirror_mode": {
    "name": "ipython",
    "version": 3
   },
   "file_extension": ".py",
   "mimetype": "text/x-python",
   "name": "python",
   "nbconvert_exporter": "python",
   "pygments_lexer": "ipython3",
   "version": "3.11.1"
  },
  "orig_nbformat": 4
 },
 "nbformat": 4,
 "nbformat_minor": 2
}
