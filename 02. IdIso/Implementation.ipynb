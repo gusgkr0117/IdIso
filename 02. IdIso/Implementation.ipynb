{
 "cells": [
  {
   "cell_type": "code",
   "execution_count": 2,
   "metadata": {},
   "outputs": [
    {
     "name": "stdout",
     "output_type": "stream",
     "text": [
      "/home/sage/Documents/works/12. Developments/07. sage/02. IdIso\n"
     ]
    }
   ],
   "source": [
    "cd \"/home/sage/Documents/works/12. Developments/07. sage/02. IdIso/\""
   ]
  },
  {
   "cell_type": "markdown",
   "metadata": {},
   "source": [
    "#  <font color=\"green\">Implementation of IdealToIsogeny algorithm</font>"
   ]
  },
  {
   "cell_type": "markdown",
   "metadata": {},
   "source": [
    "## <font color=\"green\">0. Prime Search</font>"
   ]
  },
  {
   "cell_type": "code",
   "execution_count": 17,
   "metadata": {},
   "outputs": [
    {
     "name": "stdout",
     "output_type": "stream",
     "text": [
      "5 1\n",
      "8 2\n",
      "17 3\n",
      "32 4\n",
      "65 5\n",
      "128 6\n",
      "257 7\n",
      "512 8\n",
      "1025 9\n",
      "2048 10\n",
      "4097 11\n",
      "8192 12\n",
      "16385 13\n",
      "32768 14\n",
      "65537 15\n",
      "131072 16\n",
      "262145 17\n",
      "524288 18\n",
      "1048577 19\n"
     ]
    },
    {
     "ename": "SystemError",
     "evalue": "Real Interval Field with 32 bits of precision returned a result with an error set",
     "output_type": "error",
     "traceback": [
      "\u001b[0;31m---------------------------------------------------------------------------\u001b[0m",
      "\u001b[0;31mKeyboardInterrupt\u001b[0m                         Traceback (most recent call last)",
      "\u001b[0;32m/opt/sagemath-9.3/local/lib/python3.7/site-packages/sage/rings/real_mpfi.pyx\u001b[0m in \u001b[0;36msage.rings.real_mpfi.RealIntervalFieldElement.__hash__ (build/cythonized/sage/rings/real_mpfi.c:10576)\u001b[0;34m()\u001b[0m\n\u001b[1;32m   1416\u001b[0m         \"\"\"\n\u001b[0;32m-> 1417\u001b[0;31m         \u001b[0;32mreturn\u001b[0m \u001b[0mhash\u001b[0m\u001b[0;34m(\u001b[0m\u001b[0mself\u001b[0m\u001b[0;34m.\u001b[0m\u001b[0mstr\u001b[0m\u001b[0;34m(\u001b[0m\u001b[0;36m16\u001b[0m\u001b[0;34m)\u001b[0m\u001b[0;34m)\u001b[0m\u001b[0;34m\u001b[0m\u001b[0;34m\u001b[0m\u001b[0m\n\u001b[0m\u001b[1;32m   1418\u001b[0m \u001b[0;34m\u001b[0m\u001b[0m\n",
      "\u001b[0;32m/opt/sagemath-9.3/local/lib/python3.7/site-packages/sage/rings/real_mpfi.pyx\u001b[0m in \u001b[0;36msage.rings.real_mpfi.RealIntervalFieldElement.str (build/cythonized/sage/rings/real_mpfi.c:11564)\u001b[0;34m()\u001b[0m\n\u001b[1;32m   1692\u001b[0m                 \u001b[0mprefer_sci\u001b[0m \u001b[0;34m=\u001b[0m \u001b[0;32mFalse\u001b[0m\u001b[0;34m\u001b[0m\u001b[0;34m\u001b[0m\u001b[0m\n\u001b[0;32m-> 1693\u001b[0;31m             \u001b[0;32mreturn\u001b[0m \u001b[0mself\u001b[0m\u001b[0;34m.\u001b[0m\u001b[0m_str_question_style\u001b[0m\u001b[0;34m(\u001b[0m\u001b[0mbase\u001b[0m\u001b[0;34m,\u001b[0m \u001b[0merror_digits\u001b[0m\u001b[0;34m,\u001b[0m \u001b[0me\u001b[0m\u001b[0;34m,\u001b[0m \u001b[0mprefer_sci\u001b[0m\u001b[0;34m)\u001b[0m\u001b[0;34m\u001b[0m\u001b[0;34m\u001b[0m\u001b[0m\n\u001b[0m\u001b[1;32m   1694\u001b[0m \u001b[0;34m\u001b[0m\u001b[0m\n",
      "\u001b[0;32m/opt/sagemath-9.3/local/lib/python3.7/site-packages/sage/rings/real_mpfi.pyx\u001b[0m in \u001b[0;36msage.rings.real_mpfi.RealIntervalFieldElement._str_question_style (build/cythonized/sage/rings/real_mpfi.c:12343)\u001b[0;34m()\u001b[0m\n\u001b[1;32m   1955\u001b[0m \u001b[0;34m\u001b[0m\u001b[0m\n\u001b[0;32m-> 1956\u001b[0;31m         \u001b[0msig_on\u001b[0m\u001b[0;34m(\u001b[0m\u001b[0;34m)\u001b[0m\u001b[0;34m\u001b[0m\u001b[0;34m\u001b[0m\u001b[0m\n\u001b[0m\u001b[1;32m   1957\u001b[0m         \u001b[0mmpz_init_set_str\u001b[0m\u001b[0;34m(\u001b[0m\u001b[0mlower_mpz\u001b[0m\u001b[0;34m,\u001b[0m \u001b[0mlower_s\u001b[0m\u001b[0;34m,\u001b[0m \u001b[0mbase\u001b[0m\u001b[0;34m)\u001b[0m\u001b[0;34m\u001b[0m\u001b[0;34m\u001b[0m\u001b[0m\n",
      "\u001b[0;31mKeyboardInterrupt\u001b[0m: ",
      "\nThe above exception was the direct cause of the following exception:\n",
      "\u001b[0;31mSystemError\u001b[0m                               Traceback (most recent call last)",
      "\u001b[0;32m<ipython-input-17-dd6b82456ff3>\u001b[0m in \u001b[0;36m<module>\u001b[0;34m\u001b[0m\n\u001b[1;32m      1\u001b[0m \u001b[0mload\u001b[0m\u001b[0;34m(\u001b[0m\u001b[0;34m'primegen.sage'\u001b[0m\u001b[0;34m)\u001b[0m\u001b[0;34m\u001b[0m\u001b[0;34m\u001b[0m\u001b[0m\n\u001b[0;32m----> 2\u001b[0;31m \u001b[0mfind_prime\u001b[0m\u001b[0;34m(\u001b[0m\u001b[0mInteger\u001b[0m\u001b[0;34m(\u001b[0m\u001b[0;36m15\u001b[0m\u001b[0;34m)\u001b[0m\u001b[0;34m,\u001b[0m \u001b[0mInteger\u001b[0m\u001b[0;34m(\u001b[0m\u001b[0;36m5\u001b[0m\u001b[0;34m)\u001b[0m\u001b[0;34m)\u001b[0m\u001b[0;34m\u001b[0m\u001b[0;34m\u001b[0m\u001b[0m\n\u001b[0m",
      "\u001b[0;32m<string>\u001b[0m in \u001b[0;36mfind_prime\u001b[0;34m(n, ell)\u001b[0m\n",
      "\u001b[0;32m/opt/sagemath-9.3/local/lib/python3.7/site-packages/sage/functions/other.py\u001b[0m in \u001b[0;36m__call__\u001b[0;34m(self, x, **kwds)\u001b[0m\n\u001b[1;32m    582\u001b[0m             \u001b[0;34m-\u001b[0m\u001b[0;36m3\u001b[0m\u001b[0;34m\u001b[0m\u001b[0;34m\u001b[0m\u001b[0m\n\u001b[1;32m    583\u001b[0m         \"\"\"\n\u001b[0;32m--> 584\u001b[0;31m         \u001b[0;32mreturn\u001b[0m \u001b[0m_eval_floor_ceil\u001b[0m\u001b[0;34m(\u001b[0m\u001b[0mself\u001b[0m\u001b[0;34m,\u001b[0m \u001b[0mx\u001b[0m\u001b[0;34m,\u001b[0m \u001b[0;34m\"floor\"\u001b[0m\u001b[0;34m,\u001b[0m \u001b[0;34m**\u001b[0m\u001b[0mkwds\u001b[0m\u001b[0;34m)\u001b[0m\u001b[0;34m\u001b[0m\u001b[0;34m\u001b[0m\u001b[0m\n\u001b[0m\u001b[1;32m    585\u001b[0m \u001b[0;34m\u001b[0m\u001b[0m\n\u001b[1;32m    586\u001b[0m     \u001b[0;32mdef\u001b[0m \u001b[0m_eval_\u001b[0m\u001b[0;34m(\u001b[0m\u001b[0mself\u001b[0m\u001b[0;34m,\u001b[0m \u001b[0mx\u001b[0m\u001b[0;34m)\u001b[0m\u001b[0;34m:\u001b[0m\u001b[0;34m\u001b[0m\u001b[0;34m\u001b[0m\u001b[0m\n",
      "\u001b[0;32m/opt/sagemath-9.3/local/lib/python3.7/site-packages/sage/functions/other.py\u001b[0m in \u001b[0;36m_eval_floor_ceil\u001b[0;34m(self, x, method, bits, **kwds)\u001b[0m\n\u001b[1;32m    240\u001b[0m             \u001b[0my\u001b[0m \u001b[0;34m=\u001b[0m \u001b[0mx\u001b[0m\u001b[0;34m\u001b[0m\u001b[0;34m\u001b[0m\u001b[0m\n\u001b[1;32m    241\u001b[0m         \u001b[0;32mtry\u001b[0m\u001b[0;34m:\u001b[0m\u001b[0;34m\u001b[0m\u001b[0;34m\u001b[0m\u001b[0m\n\u001b[0;32m--> 242\u001b[0;31m             \u001b[0my_interval\u001b[0m \u001b[0;34m=\u001b[0m \u001b[0mRIF\u001b[0m\u001b[0;34m(\u001b[0m\u001b[0my\u001b[0m\u001b[0;34m)\u001b[0m\u001b[0;34m\u001b[0m\u001b[0;34m\u001b[0m\u001b[0m\n\u001b[0m\u001b[1;32m    243\u001b[0m         \u001b[0;32mexcept\u001b[0m \u001b[0mTypeError\u001b[0m\u001b[0;34m:\u001b[0m\u001b[0;34m\u001b[0m\u001b[0;34m\u001b[0m\u001b[0m\n\u001b[1;32m    244\u001b[0m             \u001b[0;31m# If we cannot compute a numerical enclosure, leave the\u001b[0m\u001b[0;34m\u001b[0m\u001b[0;34m\u001b[0m\u001b[0;34m\u001b[0m\u001b[0m\n",
      "\u001b[0;31mSystemError\u001b[0m: Real Interval Field with 32 bits of precision returned a result with an error set"
     ]
    }
   ],
   "source": [
    "load('primegen.sage')\n",
    "find_prime(20, 5)"
   ]
  },
  {
   "cell_type": "markdown",
   "metadata": {},
   "source": [
    "## <font color=\"green\">1. Prerequisites</font>"
   ]
  },
  {
   "cell_type": "markdown",
   "metadata": {},
   "source": [
    "### Load required libraries"
   ]
  },
  {
   "cell_type": "code",
   "execution_count": 3,
   "metadata": {},
   "outputs": [],
   "source": [
    "load('quaternion_tools.sage')\n",
    "load('isogeny.sage')\n",
    "load('richelot.sage')\n",
    "load('const.sage')"
   ]
  },
  {
   "cell_type": "markdown",
   "metadata": {},
   "source": [
    "### Cornaccia algorithm"
   ]
  },
  {
   "cell_type": "code",
   "execution_count": 8,
   "metadata": {},
   "outputs": [],
   "source": [
    "def cornacchia(d, m):\n",
    "    try: \n",
    "        (x,y) = DiagonalQuadraticForm(QQ, [1,d]).solve(m)\n",
    "        if not x.is_integer() or not y.is_integer() : raise Exception(\"No solution\")\n",
    "        return x, y\n",
    "    except: raise Exception(\"No solution\")"
   ]
  },
  {
   "cell_type": "markdown",
   "metadata": {},
   "source": [
    "## <font color=\"green\">2. Setting the lab environment</font>"
   ]
  },
  {
   "cell_type": "markdown",
   "metadata": {},
   "source": [
    "### 1. Get a random ideal $I$ of norm $\\ell^e$"
   ]
  },
  {
   "cell_type": "code",
   "execution_count": 9,
   "metadata": {},
   "outputs": [],
   "source": [
    "I = GetRandomIdealElle()\n",
    "assert(I.norm() == ell^6)"
   ]
  },
  {
   "cell_type": "markdown",
   "metadata": {},
   "source": [
    "### 2. Extract the first ideal factor $I_1$\n",
    "+ $I = I_1 \\cdot I_2 \\cdot ... \\cdot I_k$ and $n(I_i) = \\ell$"
   ]
  },
  {
   "cell_type": "code",
   "execution_count": 12,
   "metadata": {},
   "outputs": [],
   "source": [
    "ellO0 = QA.ideal(O0.basis()).scale(ell)\n",
    "I1 = AddIdeal(I, ellO0)"
   ]
  },
  {
   "cell_type": "markdown",
   "metadata": {},
   "source": [
    "### 3. Compute corresponding isogeny $\\phi_1$ to $I_1$\n",
    "+ $ker(\\phi_1) = ker(I_1)$"
   ]
  },
  {
   "cell_type": "code",
   "execution_count": 13,
   "metadata": {},
   "outputs": [],
   "source": [
    "phi1_kernel_generator = left_O0_ideal_to_isogeny_kernel(I1)\n",
    "phi1 = Isogeny(Fp(0), phi1_kernel_generator)\n",
    "assert(I1.norm() == ell)"
   ]
  },
  {
   "cell_type": "markdown",
   "metadata": {},
   "source": [
    "### 4. Get the codomain curve $E_1$ of $\\phi_1$ and the dual isogeny $\\hat{\\phi}_1$"
   ]
  },
  {
   "cell_type": "code",
   "execution_count": 14,
   "metadata": {},
   "outputs": [],
   "source": [
    "E1 = phi1.codomain_curve\n",
    "phi1_dual = phi1.dual_isogeny()"
   ]
  },
  {
   "cell_type": "markdown",
   "metadata": {},
   "source": [
    "### 5. Compute the right order $\\mathcal{O}_1$ of $I_1$\n",
    "+ $\\mathcal{O}_1 \\cong End(E_1)$"
   ]
  },
  {
   "cell_type": "code",
   "execution_count": 15,
   "metadata": {},
   "outputs": [],
   "source": [
    "O1 = I1.right_order()"
   ]
  },
  {
   "cell_type": "markdown",
   "metadata": {},
   "source": [
    "### 6. Extract the second ideal factor $I_2$\n",
    "+ $\\bar{I_1} I \\cap \\ell \\mathcal{O}_1 = I_2$"
   ]
  },
  {
   "cell_type": "code",
   "execution_count": 16,
   "metadata": {},
   "outputs": [],
   "source": [
    "I2 = I1.conjugate() * I\n",
    "I2 = I2.scale(1/ell)\n",
    "ellO1 = QA.ideal(O1.basis()).scale(ell)\n",
    "I2 = AddIdeal(I2, ellO1)\n",
    "\n",
    "assert(I2.norm() == ell and I2.left_order() == O1)"
   ]
  },
  {
   "cell_type": "markdown",
   "metadata": {},
   "source": [
    "## <font color=\"green\">3. Experiments</font>"
   ]
  },
  {
   "cell_type": "markdown",
   "metadata": {},
   "source": [
    "+ Compute the generator $\\alpha_2$ of $I_2$ such that $I_2 = \\alpha_2 \\mathcal{O_1} + \\ell \\mathcal{O_1}$\n",
    "+ Hopefully $n(\\alpha_2)$ is as small as possible\n",
    "+ Note that $\\alpha_2 \\in I_2 \\subset \\mathcal{O}_1$"
   ]
  },
  {
   "cell_type": "code",
   "execution_count": 18,
   "metadata": {},
   "outputs": [],
   "source": [
    "I2_generator = ideal_generator(I2)"
   ]
  },
  {
   "cell_type": "markdown",
   "metadata": {},
   "source": [
    "+ Compute the reduced basis $\\{o_{11}, o_{12}, o_{13}, o_{14}\\}$ of $\\mathcal{O_1}$"
   ]
  },
  {
   "cell_type": "code",
   "execution_count": 20,
   "metadata": {},
   "outputs": [],
   "source": [
    "O1_basis = GetReducedBasis(O1.basis())"
   ]
  },
  {
   "cell_type": "markdown",
   "metadata": {},
   "source": [
    "+ Try to find the $\\beta \\in \\mathcal{O}_1$ such that $n(\\alpha_2) + n(\\beta) = 2^e | \\sqrt{\\#E_1(\\mathbb{F}_{p^k})}$\n",
    "+ $\\mathrm{ord}_{2}(\\#E_1(\\mathbb{F}_{p^k})) \\approx \\mathrm{ord}_2(\\#E_1(\\mathbb{F}_{p^2}))=2 \\times \\mathrm{ord}_2(p+1)$ regardless of the extension size $k$\n",
    "    + So it must be satisfied that $2^e < (p+1)$\n",
    "+ Find the coefficients $\\{c_1, c_2, c_3, c_4\\}$ such that $n(\\beta) = n(\\sum_{i}{c_i o_{1i}}) = 2^e - n(\\alpha_2)$"
   ]
  },
  {
   "cell_type": "code",
   "execution_count": 35,
   "metadata": {},
   "outputs": [
    {
     "name": "stdout",
     "output_type": "stream",
     "text": [
      "2^42 * 3^2 * 5^2 * 17^2 * 37^2 * 313^2 * 9769^2 * 218453^2 * 23216004013^2 * 28389975360007889^2\n",
      "2^36 * 5^2\n"
     ]
    }
   ],
   "source": [
    "testFp = GF(prime^16)\n",
    "testE0 = EllipticCurve(testFp, [0, 0, 0, 1, 0])\n",
    "print(testE0.cardinality().factor())\n",
    "print(((prime + 1)^2).factor())"
   ]
  },
  {
   "cell_type": "code",
   "execution_count": null,
   "metadata": {},
   "outputs": [],
   "source": []
  }
 ],
 "metadata": {
  "kernelspec": {
   "display_name": "SageMath 9.3",
   "language": "sage",
   "name": "sagemath"
  },
  "language_info": {
   "codemirror_mode": {
    "name": "ipython",
    "version": 3
   },
   "file_extension": ".py",
   "mimetype": "text/x-python",
   "name": "python",
   "nbconvert_exporter": "python",
   "pygments_lexer": "ipython3",
   "version": "3.7.10"
  }
 },
 "nbformat": 4,
 "nbformat_minor": 4
}
