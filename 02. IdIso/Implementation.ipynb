{
 "cells": [
  {
   "cell_type": "code",
   "execution_count": 151,
   "metadata": {},
   "outputs": [
    {
     "name": "stdout",
     "output_type": "stream",
     "text": [
      "/home/sage/Documents/works/12. Developments/07. sage/02. IdIso\n"
     ]
    }
   ],
   "source": [
    "cd \"/home/sage/Documents/works/12. Developments/07. sage/02. IdIso/\""
   ]
  },
  {
   "cell_type": "markdown",
   "metadata": {},
   "source": [
    "#  <font color=\"green\">Implementation of IdealToIsogeny algorithm</font>"
   ]
  },
  {
   "cell_type": "markdown",
   "metadata": {},
   "source": [
    "## <font color=\"green\">0. Prime Search</font>"
   ]
  },
  {
   "cell_type": "markdown",
   "metadata": {},
   "source": [
    "## <font color=\"green\">1. Prerequisites</font>"
   ]
  },
  {
   "cell_type": "markdown",
   "metadata": {},
   "source": [
    "### Load required libraries"
   ]
  },
  {
   "cell_type": "code",
   "execution_count": 152,
   "metadata": {},
   "outputs": [],
   "source": [
    "load('quaternion_tools.sage')\n",
    "load('isogeny.sage')\n",
    "load('richelot.sage')\n",
    "load('const.sage')"
   ]
  },
  {
   "cell_type": "markdown",
   "metadata": {},
   "source": [
    "### Cornaccia algorithm"
   ]
  },
  {
   "cell_type": "code",
   "execution_count": 153,
   "metadata": {},
   "outputs": [],
   "source": [
    "def cornacchia(d, m):\n",
    "    try: \n",
    "        (x,y) = DiagonalQuadraticForm(QQ, [1,d]).solve(m)\n",
    "        if not x.is_integer() or not y.is_integer() : raise Exception(\"No solution\")\n",
    "        return x, y\n",
    "    except: raise Exception(\"No solution\")"
   ]
  },
  {
   "cell_type": "markdown",
   "metadata": {},
   "source": [
    "## <font color=\"green\">2. Setting the lab environment</font>"
   ]
  },
  {
   "cell_type": "markdown",
   "metadata": {},
   "source": [
    "### 1. Get a random ideal $I$ of norm $\\ell^e$"
   ]
  },
  {
   "cell_type": "code",
   "execution_count": 154,
   "metadata": {},
   "outputs": [],
   "source": [
    "I = GetRandomIdealElle()\n",
    "assert(I.norm() == ell^6)"
   ]
  },
  {
   "cell_type": "markdown",
   "metadata": {},
   "source": [
    "### 2. Extract the first ideal factor $I_1$\n",
    "+ $I = I_1 \\cdot I_2 \\cdot ... \\cdot I_k$ and $n(I_i) = \\ell$"
   ]
  },
  {
   "cell_type": "code",
   "execution_count": 155,
   "metadata": {},
   "outputs": [],
   "source": [
    "ellO0 = QA.ideal(O0.basis()).scale(ell)\n",
    "I1 = AddIdeal(I, ellO0)"
   ]
  },
  {
   "cell_type": "markdown",
   "metadata": {},
   "source": [
    "### 3. Compute corresponding isogeny $\\phi_1$ to $I_1$\n",
    "+ $ker(\\phi_1) = ker(I_1)$"
   ]
  },
  {
   "cell_type": "code",
   "execution_count": 156,
   "metadata": {},
   "outputs": [],
   "source": [
    "phi1_kernel_generator = left_O0_ideal_to_isogeny_kernel(I1)\n",
    "phi1 = Isogeny(Fp(0), phi1_kernel_generator)\n",
    "assert(I1.norm() == ell)"
   ]
  },
  {
   "cell_type": "markdown",
   "metadata": {},
   "source": [
    "### 4. Get the codomain curve $E_1$ of $\\phi_1$ and the dual isogeny $\\hat{\\phi}_1$"
   ]
  },
  {
   "cell_type": "code",
   "execution_count": 157,
   "metadata": {},
   "outputs": [],
   "source": [
    "E1 = phi1.codomain_curve\n",
    "phi1_dual = phi1.dual_isogeny()"
   ]
  },
  {
   "cell_type": "code",
   "execution_count": 158,
   "metadata": {},
   "outputs": [],
   "source": [
    "cofactor = phi1_dual.domain_P.order() // 3^16\n",
    "T = cofactor * phi1_dual.codomain_P\n",
    "ellT = phi1.eval(T)\n",
    "if ellT != phi1.degree * cofactor * phi1_dual.domain_P:\n",
    "    phi1_dual.codomain_P *= -1\n",
    "    phi1_dual.codomain_Q *= -1\n",
    "    assert -ellT == phi1.degree * cofactor * phi1_dual.domain_P\n",
    "else: assert ellT == phi1.degree * cofactor * phi1_dual.domain_P\n",
    "\n",
    "T = cofactor * phi1.codomain_P\n",
    "ellT = phi1_dual.eval(T)\n",
    "assert ellT == phi1_dual.degree * cofactor * phi1.domain_P"
   ]
  },
  {
   "cell_type": "code",
   "execution_count": 159,
   "metadata": {},
   "outputs": [
    {
     "name": "stdout",
     "output_type": "stream",
     "text": [
      "(362750233691548140798995600727614572686366654846789*Fp2_i^2 + 350789259401479485449374434308266133683402966752001 : 211974081782683066240323151608656360520265412250364*Fp2_i^3 + 112976886149074134416097968040078717520779001172653*Fp2_i : 1)\n",
      "(19393888032629786834706910273510803357420530885399*Fp2_i^2 + 53359580631560546077816198963595015852988586891890 : 117279626687547657424506532914207390915449117221240*Fp2_i^3 + 84706836072486172756874772705305850077387248615495*Fp2_i : 1)\n"
     ]
    }
   ],
   "source": [
    "print(ellT)\n",
    "print(phi1.degree * cofactor * phi1_dual.domain_P)"
   ]
  },
  {
   "cell_type": "markdown",
   "metadata": {},
   "source": [
    "### 5. Compute the right order $\\mathcal{O}_1$ of $I_1$\n",
    "+ $\\mathcal{O}_1 \\cong End(E_1)$"
   ]
  },
  {
   "cell_type": "code",
   "execution_count": 202,
   "metadata": {},
   "outputs": [],
   "source": [
    "O1 = I1.right_order()"
   ]
  },
  {
   "cell_type": "markdown",
   "metadata": {},
   "source": [
    "### 6. Extract the second ideal factor $I_2$\n",
    "+ $\\bar{I_1} I \\cap \\ell \\mathcal{O}_1 = I_2$"
   ]
  },
  {
   "cell_type": "code",
   "execution_count": 203,
   "metadata": {},
   "outputs": [],
   "source": [
    "I2 = I1.conjugate() * I\n",
    "I2 = I2.scale(1/ell)\n",
    "ellO1 = QA.ideal(O1.basis()).scale(ell)\n",
    "I2 = AddIdeal(I2, ellO1)\n",
    "\n",
    "assert(I2.norm() == ell and I2.left_order() == O1)"
   ]
  },
  {
   "cell_type": "markdown",
   "metadata": {},
   "source": [
    "## <font color=\"green\">3. Experiments</font>"
   ]
  },
  {
   "cell_type": "markdown",
   "metadata": {},
   "source": [
    "+ Compute the generator $\\alpha_2$ of $I_2$ such that $I_2 = \\alpha_2 \\mathcal{O_1} + \\ell \\mathcal{O_1}$\n",
    "+ Hopefully $n(\\alpha_2)$ is as small as possible\n",
    "+ Note that $\\alpha_2 \\in I_2 \\subset \\mathcal{O}_1$"
   ]
  },
  {
   "cell_type": "code",
   "execution_count": 162,
   "metadata": {},
   "outputs": [],
   "source": [
    "I2_generator = ideal_generator(I2)"
   ]
  },
  {
   "cell_type": "markdown",
   "metadata": {},
   "source": [
    "+ Compute the reduced basis $\\{o_{11}, o_{12}, o_{13}, o_{14}\\}$ of $\\mathcal{O_1}$"
   ]
  },
  {
   "cell_type": "code",
   "execution_count": 163,
   "metadata": {},
   "outputs": [],
   "source": [
    "O1_basis = GetReducedBasis(O1.basis())"
   ]
  },
  {
   "cell_type": "markdown",
   "metadata": {},
   "source": [
    "+ Try to find the $\\beta \\in \\mathcal{O}_1$ such that $n(\\alpha_2) + n(\\beta) = 2^{e_1}\\cdot 3^{e_2} | \\sqrt{\\#E_1(\\mathbb{F}_{p^k})}$\n",
    "+ $\\mathrm{ord}_{2}(\\#E_1(\\mathbb{F}_{p^k})) \\approx \\mathrm{ord}_2(\\#E_1(\\mathbb{F}_{p^2}))=2 \\times \\mathrm{ord}_2(p+1)$ regardless of the extension size $k$\n",
    "    + So it must be satisfied that $2^e < (p+1)$\n",
    "+ Find the coefficients $\\{c_1, c_2, c_3, c_4\\}$ such that $n(\\beta) = n(\\sum_{i}{c_i o_{1i}}) = 2^e - n(\\alpha_2)$"
   ]
  },
  {
   "cell_type": "code",
   "execution_count": 164,
   "metadata": {},
   "outputs": [
    {
     "name": "stdout",
     "output_type": "stream",
     "text": [
      "no solution of cornacchia algorithm\n",
      "no solution of cornacchia algorithm\n",
      "no solution of cornacchia algorithm\n",
      "no solution of cornacchia algorithm\n",
      "no solution of cornacchia algorithm\n",
      "no solution of cornacchia algorithm\n",
      "no solution of cornacchia algorithm\n",
      "no solution of cornacchia algorithm\n",
      "no solution of cornacchia algorithm\n",
      "no solution of cornacchia algorithm\n",
      "no solution of cornacchia algorithm\n",
      "no solution of cornacchia algorithm\n",
      "no solution of cornacchia algorithm\n",
      "no solution of cornacchia algorithm\n",
      "2^148 * 3^16\n"
     ]
    }
   ],
   "source": [
    "import random\n",
    "I2_basis = GetReducedBasis(I2.basis())\n",
    "I2_generator = I2_basis[2]\n",
    "e1 = 148\n",
    "e2 = 16\n",
    "gram = matrix([[1,0,0,0],[0,1,0,0],[0,0,prime,0],[0,0,0,prime]])\n",
    "M_O1 = matrix([vector(v.coefficient_tuple()) for v in O1_basis])\n",
    "G = M_O1 * gram * M_O1.transpose()\n",
    "\n",
    "x,y = 0, 0\n",
    "k = 100\n",
    "for i in range(k^2):\n",
    "    I2_gen = I2_generator + random.randint(-k, k) * I2_basis[1] + random.randint(-k, k) * I2_basis[0]\n",
    "    if gcd(I2_gen.reduced_norm() ,6) != 1: continue\n",
    "    target = 2^e1*3^e2 - I2_gen.reduced_norm()\n",
    "    assert target > 0\n",
    "    if kronecker(-G[1][1], target) != 1: continue\n",
    "    try:\n",
    "        x,y = cornacchia(G[1][1], target)\n",
    "        break\n",
    "    except:\n",
    "        print(\"no solution of cornacchia algorithm\")\n",
    "beta = O1_basis[0]*x + O1_basis[1]*y\n",
    "print((beta.reduced_norm() + I2_gen.reduced_norm()).factor())\n",
    "assert gcd(beta.reduced_norm(), I2_gen.reduced_norm()) == 1"
   ]
  },
  {
   "cell_type": "code",
   "execution_count": 165,
   "metadata": {},
   "outputs": [],
   "source": [
    "N = 2^e1*3^e2\n",
    "N_alpha = I2_gen.reduced_norm()\n",
    "N_beta = beta.reduced_norm()\n",
    "x_value = Integer(mod(N_beta, N)^-1)"
   ]
  },
  {
   "cell_type": "code",
   "execution_count": 166,
   "metadata": {},
   "outputs": [
    {
     "data": {
      "text/plain": [
       "True"
      ]
     },
     "execution_count": 166,
     "metadata": {},
     "output_type": "execute_result"
    }
   ],
   "source": [
    "P1, Q1 = phi1.codomain_curve.gens()\n",
    "cofactor = Integer((prime^2 - 1) / N)\n",
    "P1, Q1 = cofactor*P1, cofactor*Q1\n",
    "E1.is_on_curve(P1[0], P1[1])"
   ]
  },
  {
   "cell_type": "code",
   "execution_count": 167,
   "metadata": {},
   "outputs": [
    {
     "name": "stdout",
     "output_type": "stream",
     "text": [
      "(-7815875918828717155939129214263518379603823795150873276163660284588277964080234765, -2220381682337876288311106669088578353382715389120267563798303109715070869225966603, 60129113454054068752346367638309679255725017276692681251815610532684339276078, 1373318059240740907631034951502314569950945651840298867340008449481028010292485)\n",
      "(-7815875918828717155939129214263518379603823795150873276163660284588277964080234765, -2220381682337876288311106669088578353382715389120267563798303109715070869225966603, 60129113454054068752346367638309679255725017276692681251815610532684339276078, 1373318059240740907631034951502314569950945651840298867340008449481028010292485)\n"
     ]
    }
   ],
   "source": [
    "load('isogeny.sage')\n",
    "psi_P1 = eval_endomorphism(x_value * I2_gen * beta, P1, phi1, phi1_dual)\n",
    "psi_Q1 = eval_endomorphism(x_value * I2_gen * beta, Q1, phi1, phi1_dual)"
   ]
  },
  {
   "cell_type": "code",
   "execution_count": 168,
   "metadata": {},
   "outputs": [],
   "source": [
    "points = [P1, Q1, psi_P1, psi_Q1]\n",
    "points = [E1((e[0], e[1])) for e in points]\n",
    "assert points[0].weil_pairing(points[1], N)*points[2].weil_pairing(points[3], N) == 1\n",
    "ell_cofactor = sqrt(phi1.codomain_curve.cardinality()) // ell\n",
    "[ell_P, ell_Q] = [point * ell_cofactor for point in E1.gens()]\n",
    "points = points + [ell_P, ell_Q]\n"
   ]
  },
  {
   "cell_type": "code",
   "execution_count": 169,
   "metadata": {},
   "outputs": [],
   "source": [
    "load('../01. jacobian_isogeny/22_isogeny.sage')\n",
    "points = [(points[0], points[2]), (points[1], points[3]), (points[4], E1(0)), (points[5], E1(0))]\n",
    "a, b = 148, 16\n",
    "kernel2 = [(3^b*2^(a-1)*D[0], 3^b*2^(a-1)*D[1]) for D in [points[0], points[1]]]\n",
    "E_start = E1\n",
    "h, points, isog = Gluing22(E_start, E_start, kernel2, eval_points = points)"
   ]
  },
  {
   "cell_type": "code",
   "execution_count": 170,
   "metadata": {},
   "outputs": [],
   "source": [
    "kernel22 = [3^b * 2 * D for D in points[:2]]\n",
    "j, points = isogeny_22(kernel22, points, a-2)"
   ]
  },
  {
   "cell_type": "code",
   "execution_count": 171,
   "metadata": {},
   "outputs": [],
   "source": [
    "load('../01. jacobian_isogeny/33_isogeny.sage')\n",
    "kernel33 = [2 * D for D in points[:2]]\n",
    "K = Fp\n",
    "j, points = isogeny_33(kernel33, points, b)"
   ]
  },
  {
   "cell_type": "code",
   "execution_count": 172,
   "metadata": {},
   "outputs": [],
   "source": [
    "G1 = points[0][0]\n",
    "G2 = points[1][0]\n",
    "h = j.curve().hyperelliptic_polynomials()[0]\n",
    "G3, r3 = h.quo_rem(G1*G2)\n",
    "assert r3 == 0\n",
    "delta = Matrix(G.padded_list(3) for G in (G1, G2, G3))\n",
    "assert delta.determinant() == 0"
   ]
  },
  {
   "cell_type": "code",
   "execution_count": 173,
   "metadata": {},
   "outputs": [],
   "source": [
    "load('../01. jacobian_isogeny/22_isogeny.sage')\n",
    "kernel22 = [D for D in points[:2]]\n",
    "prodE, eval_points = Splitting22(kernel22, [points[2], points[3]])"
   ]
  },
  {
   "cell_type": "code",
   "execution_count": 174,
   "metadata": {},
   "outputs": [
    {
     "data": {
      "text/plain": [
       "(0 : 1 : 0)"
      ]
     },
     "execution_count": 174,
     "metadata": {},
     "output_type": "execute_result"
    }
   ],
   "source": [
    "eval_points[1][1] * 5"
   ]
  },
  {
   "cell_type": "code",
   "execution_count": 175,
   "metadata": {},
   "outputs": [
    {
     "name": "stdout",
     "output_type": "stream",
     "text": [
      "second kernel : (56004228921922556418156105857225276178464519711839*Fp2_i^2 + 225095929295850743235266709851260428747426821946082 : 383778502041296658666916190570502519238220336948971*Fp2_i^2 + 9330114020321753822818836852433738044600044132628 : 1)\n"
     ]
    }
   ],
   "source": [
    "assert E1.j_invariant() in [T.j_invariant() for T in prodE]\n",
    "P, Q = E1(0), E1(0)\n",
    "if prodE[0].j_invariant() == E1.j_invariant():\n",
    "    P, Q = eval_points[0][0], eval_points[1][0]\n",
    "else:\n",
    "    P, Q = eval_points[0][1], eval_points[1][1]\n",
    "\n",
    "second_kernel = E1(0)\n",
    "if P.is_zero(): second_kernel = ell_Q\n",
    "elif Q.is_zero(): second_kernel = ell_P\n",
    "else:\n",
    "    assert P.weil_pairing(Q, P.order()) == 1\n",
    "\n",
    "    r = P.discrete_log(Q)\n",
    "    second_kernel = ell_P * r - ell_Q\n",
    "print(\"second kernel :\", second_kernel)\n"
   ]
  },
  {
   "cell_type": "code",
   "execution_count": 198,
   "metadata": {},
   "outputs": [],
   "source": [
    "O2 = I2.right_order()"
   ]
  },
  {
   "cell_type": "code",
   "execution_count": 207,
   "metadata": {},
   "outputs": [],
   "source": [
    "I3 = I2.conjugate() * I1.conjugate() * I\n",
    "I3 = I3.scale(ell^-2)\n",
    "ellO2 = QA.ideal(O2.basis()).scale(ell)\n",
    "I3 = AddIdeal(I3, ellO2)\n",
    "assert I3.norm() == ell and I3.left_order() == O2"
   ]
  },
  {
   "cell_type": "code",
   "execution_count": 215,
   "metadata": {},
   "outputs": [],
   "source": [
    "phi2 = Isogeny(phi1.codomain_coeff, second_kernel)"
   ]
  },
  {
   "cell_type": "code",
   "execution_count": 182,
   "metadata": {},
   "outputs": [],
   "source": [
    "E2 = phi2.codomain_curve\n",
    "phi2_dual = phi2.dual_isogeny()"
   ]
  },
  {
   "cell_type": "code",
   "execution_count": 183,
   "metadata": {},
   "outputs": [],
   "source": [
    "cofactor = phi2_dual.domain_P.order() // 3^16\n",
    "T = cofactor * phi2_dual.codomain_P\n",
    "ellT = phi2.eval(T)\n",
    "if ellT != phi2.degree * cofactor * phi2_dual.domain_P:\n",
    "    phi2_dual.codomain_P *= -1\n",
    "    phi2_dual.codomain_Q *= -1\n",
    "    assert -ellT == phi2.degree * cofactor * phi2_dual.domain_P\n",
    "else: assert ellT == phi2.degree * cofactor * phi2_dual.domain_P\n",
    "\n",
    "T = cofactor * phi2.codomain_P\n",
    "ellT = phi2_dual.eval(T)\n",
    "assert ellT == phi2_dual.degree * cofactor * phi2.domain_P"
   ]
  },
  {
   "cell_type": "code",
   "execution_count": 208,
   "metadata": {},
   "outputs": [],
   "source": [
    "I3_generator = ideal_generator(I3)"
   ]
  },
  {
   "cell_type": "code",
   "execution_count": 209,
   "metadata": {},
   "outputs": [],
   "source": [
    "O2_basis = GetReducedBasis(O2.basis())"
   ]
  },
  {
   "cell_type": "code",
   "execution_count": 211,
   "metadata": {},
   "outputs": [
    {
     "name": "stdout",
     "output_type": "stream",
     "text": [
      "no solution of cornacchia algorithm\n",
      "2^148 * 3^16\n"
     ]
    }
   ],
   "source": [
    "import random\n",
    "I3_basis = GetReducedBasis(I3.basis())\n",
    "I3_generator = I3_basis[2]\n",
    "e1 = 148\n",
    "e2 = 16\n",
    "gram = matrix([[1,0,0,0],[0,1,0,0],[0,0,prime,0],[0,0,0,prime]])\n",
    "M_O2 = matrix([vector(v.coefficient_tuple()) for v in O2_basis])\n",
    "G = M_O2 * gram * M_O2.transpose()\n",
    "\n",
    "x,y = 0, 0\n",
    "k = 100\n",
    "for i in range(k^2):\n",
    "    I3_gen = I3_generator + random.randint(-k, k) * I3_basis[1] + random.randint(-k, k) * I3_basis[0]\n",
    "    if gcd(I3_gen.reduced_norm() ,6) != 1: continue\n",
    "    target = 2^e1*3^e2 - I3_gen.reduced_norm()\n",
    "    assert target > 0\n",
    "    if kronecker(-G[1][1], target) != 1: continue\n",
    "    try:\n",
    "        x,y = cornacchia(G[1][1], target)\n",
    "        break\n",
    "    except:\n",
    "        print(\"no solution of cornacchia algorithm\")\n",
    "beta = O2_basis[0]*x + O2_basis[1]*y\n",
    "print((beta.reduced_norm() + I3_gen.reduced_norm()).factor())\n",
    "assert gcd(beta.reduced_norm(), I3_gen.reduced_norm()) == 1"
   ]
  },
  {
   "cell_type": "code",
   "execution_count": 212,
   "metadata": {},
   "outputs": [],
   "source": [
    "N = 2^e1*3^e2\n",
    "N_alpha = I3_gen.reduced_norm()\n",
    "N_beta = beta.reduced_norm()\n",
    "x_value = Integer(mod(N_beta, N)^-1)"
   ]
  },
  {
   "cell_type": "code",
   "execution_count": 214,
   "metadata": {},
   "outputs": [
    {
     "data": {
      "text/plain": [
       "True"
      ]
     },
     "execution_count": 214,
     "metadata": {},
     "output_type": "execute_result"
    }
   ],
   "source": [
    "P1, Q1 = phi2.codomain_curve.gens()\n",
    "cofactor = Integer((prime^2 - 1) / N)\n",
    "P1, Q1 = cofactor*P1, cofactor*Q1\n",
    "E2.is_on_curve(P1[0], P1[1])"
   ]
  },
  {
   "cell_type": "code",
   "execution_count": 219,
   "metadata": {},
   "outputs": [
    {
     "data": {
      "text/plain": [
       "10"
      ]
     },
     "execution_count": 219,
     "metadata": {},
     "output_type": "execute_result"
    }
   ],
   "source": [
    "isog.degree"
   ]
  },
  {
   "cell_type": "code",
   "execution_count": 220,
   "metadata": {},
   "outputs": [
    {
     "name": "stdout",
     "output_type": "stream",
     "text": [
      "(9577189349370202754395396983200777808006952565366903104647770042848722475610954725, 1871591708508902461735605546743572375511272768875286812832383512279633377428846135, -770332200569311491715019318826689902421428299823988638305411746112375335479260, -1628031967550975416674128012296162024047675830337436349744819150978613864548875)\n"
     ]
    },
    {
     "ename": "KeyboardInterrupt",
     "evalue": "",
     "output_type": "error",
     "traceback": [
      "\u001b[0;31m---------------------------------------------------------------------------\u001b[0m",
      "\u001b[0;31mKeyboardInterrupt\u001b[0m                         Traceback (most recent call last)",
      "\u001b[0;32m<ipython-input-220-d30900065e1c>\u001b[0m in \u001b[0;36m<module>\u001b[0;34m\u001b[0m\n\u001b[1;32m      2\u001b[0m \u001b[0misog\u001b[0m \u001b[0;34m=\u001b[0m \u001b[0mIsogenyChain\u001b[0m\u001b[0;34m(\u001b[0m\u001b[0;34m[\u001b[0m\u001b[0mphi1\u001b[0m\u001b[0;34m,\u001b[0m \u001b[0mphi2\u001b[0m\u001b[0;34m]\u001b[0m\u001b[0;34m)\u001b[0m\u001b[0;34m\u001b[0m\u001b[0;34m\u001b[0m\u001b[0m\n\u001b[1;32m      3\u001b[0m \u001b[0misog_dual\u001b[0m \u001b[0;34m=\u001b[0m \u001b[0mIsogenyChain\u001b[0m\u001b[0;34m(\u001b[0m\u001b[0;34m[\u001b[0m\u001b[0mphi2_dual\u001b[0m\u001b[0;34m,\u001b[0m \u001b[0mphi1_dual\u001b[0m\u001b[0;34m]\u001b[0m\u001b[0;34m)\u001b[0m\u001b[0;34m\u001b[0m\u001b[0;34m\u001b[0m\u001b[0m\n\u001b[0;32m----> 4\u001b[0;31m \u001b[0mpsi_P1\u001b[0m \u001b[0;34m=\u001b[0m \u001b[0meval_endomorphism\u001b[0m\u001b[0;34m(\u001b[0m\u001b[0mx_value\u001b[0m \u001b[0;34m*\u001b[0m \u001b[0mI3_gen\u001b[0m \u001b[0;34m*\u001b[0m \u001b[0mbeta\u001b[0m\u001b[0;34m,\u001b[0m \u001b[0mP1\u001b[0m\u001b[0;34m,\u001b[0m \u001b[0misog\u001b[0m\u001b[0;34m,\u001b[0m \u001b[0misog_dual\u001b[0m\u001b[0;34m)\u001b[0m\u001b[0;34m\u001b[0m\u001b[0;34m\u001b[0m\u001b[0m\n\u001b[0m\u001b[1;32m      5\u001b[0m \u001b[0mpsi_Q1\u001b[0m \u001b[0;34m=\u001b[0m \u001b[0meval_endomorphism\u001b[0m\u001b[0;34m(\u001b[0m\u001b[0mx_value\u001b[0m \u001b[0;34m*\u001b[0m \u001b[0mI3_gen\u001b[0m \u001b[0;34m*\u001b[0m \u001b[0mbeta\u001b[0m\u001b[0;34m,\u001b[0m \u001b[0mQ1\u001b[0m\u001b[0;34m,\u001b[0m \u001b[0misog\u001b[0m\u001b[0;34m,\u001b[0m \u001b[0misog_dual\u001b[0m\u001b[0;34m)\u001b[0m\u001b[0;34m\u001b[0m\u001b[0;34m\u001b[0m\u001b[0m\n",
      "\u001b[0;32m<string>\u001b[0m in \u001b[0;36meval_endomorphism\u001b[0;34m(O1_element, point, E0_isogeny, E0_dual_isogeny)\u001b[0m\n",
      "\u001b[0;32m<string>\u001b[0m in \u001b[0;36meval\u001b[0;34m(self, point)\u001b[0m\n",
      "\u001b[0;32m<string>\u001b[0m in \u001b[0;36meval\u001b[0;34m(self, point)\u001b[0m\n",
      "\u001b[0;32m<string>\u001b[0m in \u001b[0;36mxyBIDIM\u001b[0;34m(P, Q, R)\u001b[0m\n",
      "\u001b[0;32m/opt/sagemath-9.3/local/lib/python3.7/site-packages/sage/schemes/elliptic_curves/ell_point.py\u001b[0m in \u001b[0;36mdiscrete_log\u001b[0;34m(self, Q, ord)\u001b[0m\n\u001b[1;32m   3479\u001b[0m             \u001b[0mord\u001b[0m \u001b[0;34m=\u001b[0m \u001b[0mself\u001b[0m\u001b[0;34m.\u001b[0m\u001b[0morder\u001b[0m\u001b[0;34m(\u001b[0m\u001b[0;34m)\u001b[0m\u001b[0;34m\u001b[0m\u001b[0;34m\u001b[0m\u001b[0m\n\u001b[1;32m   3480\u001b[0m         \u001b[0;32mtry\u001b[0m\u001b[0;34m:\u001b[0m\u001b[0;34m\u001b[0m\u001b[0;34m\u001b[0m\u001b[0m\n\u001b[0;32m-> 3481\u001b[0;31m             \u001b[0;32mreturn\u001b[0m \u001b[0mgeneric\u001b[0m\u001b[0;34m.\u001b[0m\u001b[0mdiscrete_log\u001b[0m\u001b[0;34m(\u001b[0m\u001b[0mQ\u001b[0m\u001b[0;34m,\u001b[0m \u001b[0mself\u001b[0m\u001b[0;34m,\u001b[0m \u001b[0mord\u001b[0m\u001b[0;34m,\u001b[0m \u001b[0moperation\u001b[0m\u001b[0;34m=\u001b[0m\u001b[0;34m'+'\u001b[0m\u001b[0;34m)\u001b[0m\u001b[0;34m\u001b[0m\u001b[0;34m\u001b[0m\u001b[0m\n\u001b[0m\u001b[1;32m   3482\u001b[0m         \u001b[0;32mexcept\u001b[0m \u001b[0mException\u001b[0m\u001b[0;34m:\u001b[0m\u001b[0;34m\u001b[0m\u001b[0;34m\u001b[0m\u001b[0m\n\u001b[1;32m   3483\u001b[0m             \u001b[0;32mraise\u001b[0m \u001b[0mValueError\u001b[0m\u001b[0;34m(\u001b[0m\u001b[0;34m\"ECDLog problem has no solution\"\u001b[0m\u001b[0;34m)\u001b[0m\u001b[0;34m\u001b[0m\u001b[0;34m\u001b[0m\u001b[0m\n",
      "\u001b[0;32m/opt/sagemath-9.3/local/lib/python3.7/site-packages/sage/groups/generic.py\u001b[0m in \u001b[0;36mdiscrete_log\u001b[0;34m(a, base, ord, bounds, operation, identity, inverse, op)\u001b[0m\n\u001b[1;32m    826\u001b[0m                 \u001b[0;32melif\u001b[0m \u001b[0moperation\u001b[0m \u001b[0;32min\u001b[0m \u001b[0maddition_names\u001b[0m\u001b[0;34m:\u001b[0m\u001b[0;34m\u001b[0m\u001b[0;34m\u001b[0m\u001b[0m\n\u001b[1;32m    827\u001b[0m                     c = bsgs(base * (ord // pi),\n\u001b[0;32m--> 828\u001b[0;31m                              \u001b[0;34m(\u001b[0m\u001b[0ma\u001b[0m \u001b[0;34m-\u001b[0m \u001b[0mbase\u001b[0m \u001b[0;34m*\u001b[0m \u001b[0ml\u001b[0m\u001b[0;34m[\u001b[0m\u001b[0mi\u001b[0m\u001b[0;34m]\u001b[0m\u001b[0;34m)\u001b[0m \u001b[0;34m*\u001b[0m \u001b[0;34m(\u001b[0m\u001b[0mord\u001b[0m \u001b[0;34m//\u001b[0m \u001b[0mpi\u001b[0m\u001b[0;34m**\u001b[0m\u001b[0;34m(\u001b[0m\u001b[0mj\u001b[0m \u001b[0;34m+\u001b[0m \u001b[0;36m1\u001b[0m\u001b[0;34m)\u001b[0m\u001b[0;34m)\u001b[0m\u001b[0;34m,\u001b[0m\u001b[0;34m\u001b[0m\u001b[0;34m\u001b[0m\u001b[0m\n\u001b[0m\u001b[1;32m    829\u001b[0m                              \u001b[0;34m(\u001b[0m\u001b[0;36m0\u001b[0m\u001b[0;34m,\u001b[0m \u001b[0mpi\u001b[0m\u001b[0;34m)\u001b[0m\u001b[0;34m,\u001b[0m\u001b[0;34m\u001b[0m\u001b[0;34m\u001b[0m\u001b[0m\n\u001b[1;32m    830\u001b[0m                              operation=operation)\n",
      "\u001b[0;32m/opt/sagemath-9.3/local/lib/python3.7/site-packages/sage/schemes/generic/morphism.py\u001b[0m in \u001b[0;36m__mul__\u001b[0;34m(self, right)\u001b[0m\n\u001b[1;32m    396\u001b[0m         \"\"\"\n\u001b[1;32m    397\u001b[0m         \u001b[0;32mif\u001b[0m \u001b[0;32mnot\u001b[0m \u001b[0misinstance\u001b[0m\u001b[0;34m(\u001b[0m\u001b[0mright\u001b[0m\u001b[0;34m,\u001b[0m \u001b[0mSchemeMorphism\u001b[0m\u001b[0;34m)\u001b[0m\u001b[0;34m:\u001b[0m\u001b[0;34m\u001b[0m\u001b[0;34m\u001b[0m\u001b[0m\n\u001b[0;32m--> 398\u001b[0;31m             \u001b[0;32mreturn\u001b[0m \u001b[0mcoercion_model\u001b[0m\u001b[0;34m.\u001b[0m\u001b[0mbin_op\u001b[0m\u001b[0;34m(\u001b[0m\u001b[0mself\u001b[0m\u001b[0;34m,\u001b[0m \u001b[0mright\u001b[0m\u001b[0;34m,\u001b[0m \u001b[0moperator\u001b[0m\u001b[0;34m.\u001b[0m\u001b[0mmul\u001b[0m\u001b[0;34m)\u001b[0m\u001b[0;34m\u001b[0m\u001b[0;34m\u001b[0m\u001b[0m\n\u001b[0m\u001b[1;32m    399\u001b[0m         \u001b[0;32mif\u001b[0m \u001b[0mright\u001b[0m\u001b[0;34m.\u001b[0m\u001b[0mcodomain\u001b[0m\u001b[0;34m(\u001b[0m\u001b[0;34m)\u001b[0m \u001b[0;34m!=\u001b[0m \u001b[0mself\u001b[0m\u001b[0;34m.\u001b[0m\u001b[0mdomain\u001b[0m\u001b[0;34m(\u001b[0m\u001b[0;34m)\u001b[0m\u001b[0;34m:\u001b[0m\u001b[0;34m\u001b[0m\u001b[0;34m\u001b[0m\u001b[0m\n\u001b[1;32m    400\u001b[0m             \u001b[0;32mraise\u001b[0m \u001b[0mTypeError\u001b[0m\u001b[0;34m(\u001b[0m\u001b[0;34m\"self (=%s) domain must equal right (=%s) codomain\"\u001b[0m\u001b[0;34m%\u001b[0m\u001b[0;34m(\u001b[0m\u001b[0mself\u001b[0m\u001b[0;34m,\u001b[0m \u001b[0mright\u001b[0m\u001b[0;34m)\u001b[0m\u001b[0;34m)\u001b[0m\u001b[0;34m\u001b[0m\u001b[0;34m\u001b[0m\u001b[0m\n",
      "\u001b[0;32m/opt/sagemath-9.3/local/lib/python3.7/site-packages/sage/structure/coerce.pyx\u001b[0m in \u001b[0;36msage.structure.coerce.CoercionModel.bin_op (build/cythonized/sage/structure/coerce.c:11825)\u001b[0;34m()\u001b[0m\n\u001b[1;32m   1102\u001b[0m         \u001b[0;32mreturn\u001b[0m \u001b[0mret\u001b[0m\u001b[0;34m\u001b[0m\u001b[0;34m\u001b[0m\u001b[0m\n\u001b[1;32m   1103\u001b[0m \u001b[0;34m\u001b[0m\u001b[0m\n\u001b[0;32m-> 1104\u001b[0;31m     \u001b[0mcpdef\u001b[0m \u001b[0mbin_op\u001b[0m\u001b[0;34m(\u001b[0m\u001b[0mself\u001b[0m\u001b[0;34m,\u001b[0m \u001b[0mx\u001b[0m\u001b[0;34m,\u001b[0m \u001b[0my\u001b[0m\u001b[0;34m,\u001b[0m \u001b[0mop\u001b[0m\u001b[0;34m)\u001b[0m\u001b[0;34m:\u001b[0m\u001b[0;34m\u001b[0m\u001b[0;34m\u001b[0m\u001b[0m\n\u001b[0m\u001b[1;32m   1105\u001b[0m         \"\"\"\n\u001b[1;32m   1106\u001b[0m         \u001b[0mExecute\u001b[0m \u001b[0mthe\u001b[0m \u001b[0moperation\u001b[0m \u001b[0mop\u001b[0m \u001b[0mon\u001b[0m \u001b[0mx\u001b[0m \u001b[0;32mand\u001b[0m \u001b[0my\u001b[0m\u001b[0;34m.\u001b[0m \u001b[0mIt\u001b[0m \u001b[0mfirst\u001b[0m \u001b[0mlooks\u001b[0m \u001b[0;32mfor\u001b[0m \u001b[0man\u001b[0m \u001b[0maction\u001b[0m\u001b[0;34m\u001b[0m\u001b[0;34m\u001b[0m\u001b[0m\n",
      "\u001b[0;32m/opt/sagemath-9.3/local/lib/python3.7/site-packages/sage/structure/coerce.pyx\u001b[0m in \u001b[0;36msage.structure.coerce.CoercionModel.bin_op (build/cythonized/sage/structure/coerce.c:10609)\u001b[0;34m()\u001b[0m\n\u001b[1;32m   1194\u001b[0m                 \u001b[0;32mreturn\u001b[0m \u001b[0;34m(\u001b[0m\u001b[0;34m<\u001b[0m\u001b[0mAction\u001b[0m\u001b[0;34m>\u001b[0m\u001b[0maction\u001b[0m\u001b[0;34m)\u001b[0m\u001b[0;34m.\u001b[0m\u001b[0m_act_\u001b[0m\u001b[0;34m(\u001b[0m\u001b[0mx\u001b[0m\u001b[0;34m,\u001b[0m \u001b[0my\u001b[0m\u001b[0;34m)\u001b[0m\u001b[0;34m\u001b[0m\u001b[0;34m\u001b[0m\u001b[0m\n\u001b[1;32m   1195\u001b[0m             \u001b[0;32melse\u001b[0m\u001b[0;34m:\u001b[0m\u001b[0;34m\u001b[0m\u001b[0;34m\u001b[0m\u001b[0m\n\u001b[0;32m-> 1196\u001b[0;31m                 \u001b[0;32mreturn\u001b[0m \u001b[0;34m(\u001b[0m\u001b[0;34m<\u001b[0m\u001b[0mAction\u001b[0m\u001b[0;34m>\u001b[0m\u001b[0maction\u001b[0m\u001b[0;34m)\u001b[0m\u001b[0;34m.\u001b[0m\u001b[0m_act_\u001b[0m\u001b[0;34m(\u001b[0m\u001b[0my\u001b[0m\u001b[0;34m,\u001b[0m \u001b[0mx\u001b[0m\u001b[0;34m)\u001b[0m\u001b[0;34m\u001b[0m\u001b[0;34m\u001b[0m\u001b[0m\n\u001b[0m\u001b[1;32m   1197\u001b[0m \u001b[0;34m\u001b[0m\u001b[0m\n\u001b[1;32m   1198\u001b[0m         \u001b[0;31m# Now coerce to a common parent and do the operation there\u001b[0m\u001b[0;34m\u001b[0m\u001b[0;34m\u001b[0m\u001b[0;34m\u001b[0m\u001b[0m\n",
      "\u001b[0;32m/opt/sagemath-9.3/local/lib/python3.7/site-packages/sage/structure/coerce_actions.pyx\u001b[0m in \u001b[0;36msage.structure.coerce_actions.IntegerMulAction._act_ (build/cythonized/sage/structure/coerce_actions.c:9827)\u001b[0;34m()\u001b[0m\n\u001b[1;32m    789\u001b[0m             \u001b[0;32mreturn\u001b[0m \u001b[0mfast_mul_long\u001b[0m\u001b[0;34m(\u001b[0m\u001b[0ma\u001b[0m\u001b[0;34m,\u001b[0m \u001b[0mn_long\u001b[0m\u001b[0;34m)\u001b[0m\u001b[0;34m\u001b[0m\u001b[0;34m\u001b[0m\u001b[0m\n\u001b[1;32m    790\u001b[0m \u001b[0;34m\u001b[0m\u001b[0m\n\u001b[0;32m--> 791\u001b[0;31m         \u001b[0;32mreturn\u001b[0m \u001b[0mfast_mul\u001b[0m\u001b[0;34m(\u001b[0m\u001b[0ma\u001b[0m\u001b[0;34m,\u001b[0m \u001b[0mnn\u001b[0m\u001b[0;34m)\u001b[0m\u001b[0;34m\u001b[0m\u001b[0;34m\u001b[0m\u001b[0m\n\u001b[0m\u001b[1;32m    792\u001b[0m \u001b[0;34m\u001b[0m\u001b[0m\n\u001b[1;32m    793\u001b[0m     \u001b[0;32mdef\u001b[0m \u001b[0m_repr_name_\u001b[0m\u001b[0;34m(\u001b[0m\u001b[0mself\u001b[0m\u001b[0;34m)\u001b[0m\u001b[0;34m:\u001b[0m\u001b[0;34m\u001b[0m\u001b[0;34m\u001b[0m\u001b[0m\n",
      "\u001b[0;32m/opt/sagemath-9.3/local/lib/python3.7/site-packages/sage/structure/coerce_actions.pyx\u001b[0m in \u001b[0;36msage.structure.coerce_actions.fast_mul (build/cythonized/sage/structure/coerce_actions.c:10962)\u001b[0;34m()\u001b[0m\n\u001b[1;32m    919\u001b[0m         \u001b[0mpow2a\u001b[0m \u001b[0;34m+=\u001b[0m \u001b[0mpow2a\u001b[0m\u001b[0;34m\u001b[0m\u001b[0;34m\u001b[0m\u001b[0m\n\u001b[1;32m    920\u001b[0m         \u001b[0;32mif\u001b[0m \u001b[0mn\u001b[0m \u001b[0;34m&\u001b[0m \u001b[0;36m1\u001b[0m\u001b[0;34m:\u001b[0m\u001b[0;34m\u001b[0m\u001b[0;34m\u001b[0m\u001b[0m\n\u001b[0;32m--> 921\u001b[0;31m             \u001b[0msum\u001b[0m \u001b[0;34m+=\u001b[0m \u001b[0mpow2a\u001b[0m\u001b[0;34m\u001b[0m\u001b[0;34m\u001b[0m\u001b[0m\n\u001b[0m\u001b[1;32m    922\u001b[0m         \u001b[0mn\u001b[0m \u001b[0;34m=\u001b[0m \u001b[0mn\u001b[0m \u001b[0;34m>>\u001b[0m \u001b[0;36m1\u001b[0m\u001b[0;34m\u001b[0m\u001b[0;34m\u001b[0m\u001b[0m\n\u001b[1;32m    923\u001b[0m     \u001b[0;32mreturn\u001b[0m \u001b[0msum\u001b[0m\u001b[0;34m\u001b[0m\u001b[0;34m\u001b[0m\u001b[0m\n",
      "\u001b[0;32m/opt/sagemath-9.3/local/lib/python3.7/site-packages/sage/structure/element.pyx\u001b[0m in \u001b[0;36msage.structure.element.Element.__add__ (build/cythonized/sage/structure/element.c:10954)\u001b[0;34m()\u001b[0m\n\u001b[1;32m   1227\u001b[0m         \u001b[0mcdef\u001b[0m \u001b[0mint\u001b[0m \u001b[0mcl\u001b[0m \u001b[0;34m=\u001b[0m \u001b[0mclassify_elements\u001b[0m\u001b[0;34m(\u001b[0m\u001b[0mleft\u001b[0m\u001b[0;34m,\u001b[0m \u001b[0mright\u001b[0m\u001b[0;34m)\u001b[0m\u001b[0;34m\u001b[0m\u001b[0;34m\u001b[0m\u001b[0m\n\u001b[1;32m   1228\u001b[0m         \u001b[0;32mif\u001b[0m \u001b[0mHAVE_SAME_PARENT\u001b[0m\u001b[0;34m(\u001b[0m\u001b[0mcl\u001b[0m\u001b[0;34m)\u001b[0m\u001b[0;34m:\u001b[0m\u001b[0;34m\u001b[0m\u001b[0;34m\u001b[0m\u001b[0m\n\u001b[0;32m-> 1229\u001b[0;31m             \u001b[0;32mreturn\u001b[0m \u001b[0;34m(\u001b[0m\u001b[0;34m<\u001b[0m\u001b[0mElement\u001b[0m\u001b[0;34m>\u001b[0m\u001b[0mleft\u001b[0m\u001b[0;34m)\u001b[0m\u001b[0;34m.\u001b[0m\u001b[0m_add_\u001b[0m\u001b[0;34m(\u001b[0m\u001b[0mright\u001b[0m\u001b[0;34m)\u001b[0m\u001b[0;34m\u001b[0m\u001b[0;34m\u001b[0m\u001b[0m\n\u001b[0m\u001b[1;32m   1230\u001b[0m         \u001b[0;31m# Left and right are Sage elements => use coercion model\u001b[0m\u001b[0;34m\u001b[0m\u001b[0;34m\u001b[0m\u001b[0;34m\u001b[0m\u001b[0m\n\u001b[1;32m   1231\u001b[0m         \u001b[0;32mif\u001b[0m \u001b[0mBOTH_ARE_ELEMENT\u001b[0m\u001b[0;34m(\u001b[0m\u001b[0mcl\u001b[0m\u001b[0;34m)\u001b[0m\u001b[0;34m:\u001b[0m\u001b[0;34m\u001b[0m\u001b[0;34m\u001b[0m\u001b[0m\n",
      "\u001b[0;32m/opt/sagemath-9.3/local/lib/python3.7/site-packages/sage/structure/element.pyx\u001b[0m in \u001b[0;36msage.structure.element.ModuleElement._add_ (build/cythonized/sage/structure/element.c:15565)\u001b[0;34m()\u001b[0m\n\u001b[1;32m   2363\u001b[0m     \u001b[0mGeneric\u001b[0m \u001b[0melement\u001b[0m \u001b[0mof\u001b[0m \u001b[0ma\u001b[0m \u001b[0mmodule\u001b[0m\u001b[0;34m.\u001b[0m\u001b[0;34m\u001b[0m\u001b[0;34m\u001b[0m\u001b[0m\n\u001b[1;32m   2364\u001b[0m     \"\"\"\n\u001b[0;32m-> 2365\u001b[0;31m     \u001b[0mcpdef\u001b[0m \u001b[0m_add_\u001b[0m\u001b[0;34m(\u001b[0m\u001b[0mself\u001b[0m\u001b[0;34m,\u001b[0m \u001b[0mother\u001b[0m\u001b[0;34m)\u001b[0m\u001b[0;34m:\u001b[0m\u001b[0;34m\u001b[0m\u001b[0;34m\u001b[0m\u001b[0m\n\u001b[0m\u001b[1;32m   2366\u001b[0m         \"\"\"\n\u001b[1;32m   2367\u001b[0m         \u001b[0mAbstract\u001b[0m \u001b[0maddition\u001b[0m \u001b[0mmethod\u001b[0m\u001b[0;34m\u001b[0m\u001b[0;34m\u001b[0m\u001b[0m\n",
      "\u001b[0;32m/opt/sagemath-9.3/local/lib/python3.7/site-packages/sage/schemes/elliptic_curves/ell_point.py\u001b[0m in \u001b[0;36m_add_\u001b[0;34m(self, right)\u001b[0m\n\u001b[1;32m    671\u001b[0m         \u001b[0;32melse\u001b[0m\u001b[0;34m:\u001b[0m\u001b[0;34m\u001b[0m\u001b[0;34m\u001b[0m\u001b[0m\n\u001b[1;32m    672\u001b[0m             \u001b[0;32mtry\u001b[0m\u001b[0;34m:\u001b[0m\u001b[0;34m\u001b[0m\u001b[0;34m\u001b[0m\u001b[0m\n\u001b[0;32m--> 673\u001b[0;31m                 \u001b[0mm\u001b[0m \u001b[0;34m=\u001b[0m \u001b[0;34m(\u001b[0m\u001b[0my1\u001b[0m\u001b[0;34m-\u001b[0m\u001b[0my2\u001b[0m\u001b[0;34m)\u001b[0m\u001b[0;34m/\u001b[0m\u001b[0;34m(\u001b[0m\u001b[0mx1\u001b[0m\u001b[0;34m-\u001b[0m\u001b[0mx2\u001b[0m\u001b[0;34m)\u001b[0m\u001b[0;34m\u001b[0m\u001b[0;34m\u001b[0m\u001b[0m\n\u001b[0m\u001b[1;32m    674\u001b[0m             \u001b[0;32mexcept\u001b[0m \u001b[0mZeroDivisionError\u001b[0m\u001b[0;34m:\u001b[0m\u001b[0;34m\u001b[0m\u001b[0;34m\u001b[0m\u001b[0m\n\u001b[1;32m    675\u001b[0m                 \u001b[0mR\u001b[0m \u001b[0;34m=\u001b[0m \u001b[0mE\u001b[0m\u001b[0;34m.\u001b[0m\u001b[0mbase_ring\u001b[0m\u001b[0;34m(\u001b[0m\u001b[0;34m)\u001b[0m\u001b[0;34m\u001b[0m\u001b[0;34m\u001b[0m\u001b[0m\n",
      "\u001b[0;32m/opt/sagemath-9.3/local/lib/python3.7/site-packages/sage/structure/element.pyx\u001b[0m in \u001b[0;36msage.structure.element.Element.__sub__ (build/cythonized/sage/structure/element.c:11520)\u001b[0;34m()\u001b[0m\n\u001b[1;32m   1353\u001b[0m         \u001b[0mcdef\u001b[0m \u001b[0mint\u001b[0m \u001b[0mcl\u001b[0m \u001b[0;34m=\u001b[0m \u001b[0mclassify_elements\u001b[0m\u001b[0;34m(\u001b[0m\u001b[0mleft\u001b[0m\u001b[0;34m,\u001b[0m \u001b[0mright\u001b[0m\u001b[0;34m)\u001b[0m\u001b[0;34m\u001b[0m\u001b[0;34m\u001b[0m\u001b[0m\n\u001b[1;32m   1354\u001b[0m         \u001b[0;32mif\u001b[0m \u001b[0mHAVE_SAME_PARENT\u001b[0m\u001b[0;34m(\u001b[0m\u001b[0mcl\u001b[0m\u001b[0;34m)\u001b[0m\u001b[0;34m:\u001b[0m\u001b[0;34m\u001b[0m\u001b[0;34m\u001b[0m\u001b[0m\n\u001b[0;32m-> 1355\u001b[0;31m             \u001b[0;32mreturn\u001b[0m \u001b[0;34m(\u001b[0m\u001b[0;34m<\u001b[0m\u001b[0mElement\u001b[0m\u001b[0;34m>\u001b[0m\u001b[0mleft\u001b[0m\u001b[0;34m)\u001b[0m\u001b[0;34m.\u001b[0m\u001b[0m_sub_\u001b[0m\u001b[0;34m(\u001b[0m\u001b[0mright\u001b[0m\u001b[0;34m)\u001b[0m\u001b[0;34m\u001b[0m\u001b[0;34m\u001b[0m\u001b[0m\n\u001b[0m\u001b[1;32m   1356\u001b[0m         \u001b[0;32mif\u001b[0m \u001b[0mBOTH_ARE_ELEMENT\u001b[0m\u001b[0;34m(\u001b[0m\u001b[0mcl\u001b[0m\u001b[0;34m)\u001b[0m\u001b[0;34m:\u001b[0m\u001b[0;34m\u001b[0m\u001b[0;34m\u001b[0m\u001b[0m\n\u001b[1;32m   1357\u001b[0m             \u001b[0;32mreturn\u001b[0m \u001b[0mcoercion_model\u001b[0m\u001b[0;34m.\u001b[0m\u001b[0mbin_op\u001b[0m\u001b[0;34m(\u001b[0m\u001b[0mleft\u001b[0m\u001b[0;34m,\u001b[0m \u001b[0mright\u001b[0m\u001b[0;34m,\u001b[0m \u001b[0msub\u001b[0m\u001b[0;34m)\u001b[0m\u001b[0;34m\u001b[0m\u001b[0;34m\u001b[0m\u001b[0m\n",
      "\u001b[0;32m/opt/sagemath-9.3/local/lib/python3.7/site-packages/sage/rings/finite_rings/element_pari_ffelt.pyx\u001b[0m in \u001b[0;36msage.rings.finite_rings.element_pari_ffelt.FiniteFieldElement_pari_ffelt._sub_ (build/cythonized/sage/rings/finite_rings/element_pari_ffelt.c:6774)\u001b[0;34m()\u001b[0m\n\u001b[1;32m    661\u001b[0m         \"\"\"\n\u001b[1;32m    662\u001b[0m         \u001b[0mcdef\u001b[0m \u001b[0mFiniteFieldElement_pari_ffelt\u001b[0m \u001b[0mx\u001b[0m \u001b[0;34m=\u001b[0m \u001b[0mself\u001b[0m\u001b[0;34m.\u001b[0m\u001b[0m_new\u001b[0m\u001b[0;34m(\u001b[0m\u001b[0;34m)\u001b[0m\u001b[0;34m\u001b[0m\u001b[0;34m\u001b[0m\u001b[0m\n\u001b[0;32m--> 663\u001b[0;31m         \u001b[0msig_on\u001b[0m\u001b[0;34m(\u001b[0m\u001b[0;34m)\u001b[0m\u001b[0;34m\u001b[0m\u001b[0;34m\u001b[0m\u001b[0m\n\u001b[0m\u001b[1;32m    664\u001b[0m         x.construct(FF_sub((<FiniteFieldElement_pari_ffelt>self).val,\n\u001b[1;32m    665\u001b[0m                            (<FiniteFieldElement_pari_ffelt>right).val))\n",
      "\u001b[0;31mKeyboardInterrupt\u001b[0m: "
     ]
    }
   ],
   "source": [
    "load('isogeny.sage')\n",
    "isog = IsogenyChain([phi1, phi2])\n",
    "isog_dual = IsogenyChain([phi2_dual, phi1_dual])\n",
    "psi_P1 = eval_endomorphism(x_value * I3_gen * beta, P1, isog, isog_dual)\n",
    "psi_Q1 = eval_endomorphism(x_value * I3_gen * beta, Q1, isog, isog_dual)"
   ]
  }
 ],
 "metadata": {
  "kernelspec": {
   "display_name": "SageMath 9.3",
   "language": "sage",
   "name": "sagemath"
  },
  "language_info": {
   "codemirror_mode": {
    "name": "ipython",
    "version": 3
   },
   "file_extension": ".py",
   "mimetype": "text/x-python",
   "name": "python",
   "nbconvert_exporter": "python",
   "pygments_lexer": "ipython3",
   "version": "3.7.10"
  }
 },
 "nbformat": 4,
 "nbformat_minor": 4
}
