{
 "cells": [
  {
   "attachments": {},
   "cell_type": "markdown",
   "metadata": {},
   "source": [
    "#  <font color=\"green\">Implementation of IdealToIsogeny algorithm</font>"
   ]
  },
  {
   "attachments": {},
   "cell_type": "markdown",
   "metadata": {},
   "source": [
    "## <font color=\"green\">0. Prime Search</font>"
   ]
  },
  {
   "attachments": {},
   "cell_type": "markdown",
   "metadata": {},
   "source": [
    "## <font color=\"green\">1. Prerequisites</font>"
   ]
  },
  {
   "attachments": {},
   "cell_type": "markdown",
   "metadata": {},
   "source": [
    "### Load required libraries"
   ]
  },
  {
   "cell_type": "code",
   "execution_count": 272,
   "metadata": {},
   "outputs": [],
   "source": [
    "load('const.sage')\n",
    "load('quaternion_tools.sage')\n",
    "load('isogeny.sage')"
   ]
  },
  {
   "cell_type": "code",
   "execution_count": 3,
   "metadata": {},
   "outputs": [
    {
     "data": {
      "text/plain": [
       "Multivariate Polynomial Ring in x, y, z over Finite Field in Fp2_i of size 393108616061618412489735027422936257282820381081599^4"
      ]
     },
     "execution_count": 3,
     "metadata": {},
     "output_type": "execute_result"
    }
   ],
   "source": [
    "E0.defining_polynomial().parent()"
   ]
  },
  {
   "cell_type": "code",
   "execution_count": null,
   "metadata": {},
   "outputs": [],
   "source": [
    "set_verbose(-1)\n",
    "load('idiso.sage')"
   ]
  },
  {
   "attachments": {},
   "cell_type": "markdown",
   "metadata": {},
   "source": [
    "### Cornaccia algorithm"
   ]
  },
  {
   "cell_type": "code",
   "execution_count": 273,
   "metadata": {},
   "outputs": [],
   "source": [
    "def cornacchia(d, m):\n",
    "    try: \n",
    "        (x,y) = DiagonalQuadraticForm(QQ, [1,d]).solve(m)\n",
    "        if not x.is_integer() or not y.is_integer() : raise Exception(\"No solution\")\n",
    "        return x, y\n",
    "    except: raise Exception(\"No solution\")"
   ]
  },
  {
   "attachments": {},
   "cell_type": "markdown",
   "metadata": {},
   "source": [
    "## <font color=\"green\">2. Setting the lab environment</font>"
   ]
  },
  {
   "attachments": {},
   "cell_type": "markdown",
   "metadata": {},
   "source": [
    "### 1. Get a random ideal $I$ of norm $\\ell^e$"
   ]
  },
  {
   "cell_type": "code",
   "execution_count": 274,
   "metadata": {},
   "outputs": [],
   "source": [
    "I = GetRandomIdealElle()\n",
    "assert(I.norm() == ell^6)"
   ]
  },
  {
   "attachments": {},
   "cell_type": "markdown",
   "metadata": {},
   "source": [
    "### 2. Extract the first ideal factor $I_1$\n",
    "+ $I = I_1 \\cdot I_2 \\cdot ... \\cdot I_k$ and $n(I_i) = \\ell$"
   ]
  },
  {
   "cell_type": "code",
   "execution_count": 275,
   "metadata": {},
   "outputs": [],
   "source": [
    "ellO0 = QA.ideal(O0.basis()).scale(ell)\n",
    "I1 = AddIdeal(I, ellO0)"
   ]
  },
  {
   "attachments": {},
   "cell_type": "markdown",
   "metadata": {},
   "source": [
    "### 3. Compute corresponding isogeny $\\phi_1$ to $I_1$\n",
    "+ $ker(\\phi_1) = ker(I_1)$"
   ]
  },
  {
   "cell_type": "code",
   "execution_count": 276,
   "metadata": {},
   "outputs": [],
   "source": [
    "#load('isogeny.sage')\n",
    "phi1_kernel_generator = left_O0_ideal_to_isogeny_kernel(I1)\n",
    "phi1 = Isogeny(Fp(0), phi1_kernel_generator, 2^e1*3^e2*ell)\n",
    "assert(I1.norm() == ell)"
   ]
  },
  {
   "attachments": {},
   "cell_type": "markdown",
   "metadata": {},
   "source": [
    "### 4. Get the codomain curve $E_1$ of $\\phi_1$ and the dual isogeny $\\hat{\\phi}_1$"
   ]
  },
  {
   "cell_type": "code",
   "execution_count": 277,
   "metadata": {},
   "outputs": [],
   "source": [
    "E1 = phi1.codomain_curve\n",
    "phi1_dual = phi1.dual_isogeny()"
   ]
  },
  {
   "cell_type": "code",
   "execution_count": 278,
   "metadata": {},
   "outputs": [],
   "source": [
    "cofactor = phi1_dual.domain_P.order() // 3^16\n",
    "T = cofactor * phi1_dual.codomain_P\n",
    "ellT = phi1.eval(T)\n",
    "if ellT != phi1.degree * cofactor * phi1_dual.domain_P:\n",
    "    phi1_dual.codomain_P *= -1\n",
    "    phi1_dual.codomain_Q *= -1\n",
    "    assert -ellT == phi1.degree * cofactor * phi1_dual.domain_P\n",
    "else: assert ellT == phi1.degree * cofactor * phi1_dual.domain_P\n",
    "\n",
    "T = cofactor * phi1.codomain_P\n",
    "ellT = phi1_dual.eval(T)\n",
    "assert ellT == phi1_dual.degree * cofactor * phi1.domain_P"
   ]
  },
  {
   "attachments": {},
   "cell_type": "markdown",
   "metadata": {},
   "source": [
    "### 5. Compute the right order $\\mathcal{O}_1$ of $I_1$\n",
    "+ $\\mathcal{O}_1 \\cong End(E_1)$"
   ]
  },
  {
   "cell_type": "code",
   "execution_count": 279,
   "metadata": {},
   "outputs": [],
   "source": [
    "O1 = I1.right_order()"
   ]
  },
  {
   "attachments": {},
   "cell_type": "markdown",
   "metadata": {},
   "source": [
    "### 6. Extract the second ideal factor $I_2$\n",
    "+ $\\bar{I_1} I \\cap \\ell \\mathcal{O}_1 = I_2$"
   ]
  },
  {
   "cell_type": "code",
   "execution_count": 280,
   "metadata": {},
   "outputs": [],
   "source": [
    "I2 = I1.conjugate() * I\n",
    "I2 = I2.scale(1/ell)\n",
    "ellO1 = QA.ideal(O1.basis()).scale(ell)\n",
    "I2 = AddIdeal(I2, ellO1)\n",
    "\n",
    "assert(I2.norm() == ell and I2.left_order() == O1)"
   ]
  },
  {
   "attachments": {},
   "cell_type": "markdown",
   "metadata": {},
   "source": [
    "## <font color=\"green\">3. Experiments</font>"
   ]
  },
  {
   "attachments": {},
   "cell_type": "markdown",
   "metadata": {},
   "source": [
    "+ Compute the generator $\\alpha_2$ of $I_2$ such that $I_2 = \\alpha_2 \\mathcal{O_1} + \\ell \\mathcal{O_1}$\n",
    "+ Hopefully $n(\\alpha_2)$ is as small as possible\n",
    "+ Note that $\\alpha_2 \\in I_2 \\subset \\mathcal{O}_1$"
   ]
  },
  {
   "cell_type": "code",
   "execution_count": 281,
   "metadata": {},
   "outputs": [],
   "source": [
    "I2_generator = ideal_generator(I2)"
   ]
  },
  {
   "attachments": {},
   "cell_type": "markdown",
   "metadata": {},
   "source": [
    "+ Compute the reduced basis $\\{o_{11}, o_{12}, o_{13}, o_{14}\\}$ of $\\mathcal{O_1}$"
   ]
  },
  {
   "cell_type": "code",
   "execution_count": 282,
   "metadata": {},
   "outputs": [],
   "source": [
    "O1_basis = GetReducedBasis(O1.basis())"
   ]
  },
  {
   "attachments": {},
   "cell_type": "markdown",
   "metadata": {},
   "source": [
    "+ Try to find the $\\beta \\in \\mathcal{O}_1$ such that $n(\\alpha_2) + n(\\beta) = 2^{e_1}\\cdot 3^{e_2} | \\sqrt{\\#E_1(\\mathbb{F}_{p^k})}$\n",
    "+ $\\mathrm{ord}_{2}(\\#E_1(\\mathbb{F}_{p^k})) \\approx \\mathrm{ord}_2(\\#E_1(\\mathbb{F}_{p^2}))=2 \\times \\mathrm{ord}_2(p+1)$ regardless of the extension size $k$\n",
    "    + So it must be satisfied that $2^e < (p+1)$\n",
    "+ Find the coefficients $\\{c_1, c_2, c_3, c_4\\}$ such that $n(\\beta) = n(\\sum_{i}{c_i o_{1i}}) = 2^e - n(\\alpha_2)$"
   ]
  },
  {
   "cell_type": "code",
   "execution_count": 283,
   "metadata": {},
   "outputs": [
    {
     "name": "stdout",
     "output_type": "stream",
     "text": [
      "no solution of cornacchia algorithm\n",
      "no solution of cornacchia algorithm\n",
      "no solution of cornacchia algorithm\n",
      "no solution of cornacchia algorithm\n",
      "no solution of cornacchia algorithm\n",
      "no solution of cornacchia algorithm\n",
      "no solution of cornacchia algorithm\n",
      "2^148 * 3^16\n"
     ]
    }
   ],
   "source": [
    "import random\n",
    "I2_basis = GetReducedBasis(I2.basis())\n",
    "I2_generator = I2_basis[2]\n",
    "e1 = 148\n",
    "e2 = 16\n",
    "gram = matrix([[1,0,0,0],[0,1,0,0],[0,0,prime,0],[0,0,0,prime]])\n",
    "M_O1 = matrix([vector(v.coefficient_tuple()) for v in O1_basis])\n",
    "G = M_O1 * gram * M_O1.transpose()\n",
    "\n",
    "x0,x1 = 0, 0\n",
    "k = 100\n",
    "for i in range(k^2):\n",
    "    I2_gen = I2_generator + random.randint(-k, k) * I2_basis[1] + random.randint(-k, k) * I2_basis[0]\n",
    "    if gcd(I2_gen.reduced_norm() ,6) != 1: continue\n",
    "    target = 2^e1*3^e2 - I2_gen.reduced_norm()\n",
    "    assert target > 0\n",
    "    if kronecker(-G[1][1], target) != 1: continue\n",
    "    try:\n",
    "        x0,x1 = cornacchia(G[1][1], target)\n",
    "        break\n",
    "    except:\n",
    "        print(\"no solution of cornacchia algorithm\")\n",
    "beta = O1_basis[0]*x0 + O1_basis[1]*x1\n",
    "print((beta.reduced_norm() + I2_gen.reduced_norm()).factor())\n",
    "assert gcd(beta.reduced_norm(), I2_gen.reduced_norm()) == 1"
   ]
  },
  {
   "cell_type": "code",
   "execution_count": 284,
   "metadata": {},
   "outputs": [],
   "source": [
    "N = 2^e1*3^e2\n",
    "N_alpha = I2_gen.reduced_norm()\n",
    "N_beta = beta.reduced_norm()\n",
    "x_value = Integer(mod(N_beta, N)^-1)"
   ]
  },
  {
   "cell_type": "code",
   "execution_count": 285,
   "metadata": {},
   "outputs": [],
   "source": [
    "P1, Q1 = get_basis(E1, N)"
   ]
  },
  {
   "cell_type": "code",
   "execution_count": 286,
   "metadata": {},
   "outputs": [],
   "source": [
    "psi_P1 = eval_endomorphism(x_value * I2_gen * beta, P1, N, phi1, phi1_dual)\n",
    "psi_Q1 = eval_endomorphism(x_value * I2_gen * beta, Q1, N, phi1, phi1_dual)"
   ]
  },
  {
   "cell_type": "code",
   "execution_count": 287,
   "metadata": {},
   "outputs": [],
   "source": [
    "points = [P1, Q1, psi_P1, psi_Q1]\n",
    "points = [E1((e[0], e[1])) for e in points]\n",
    "assert points[0].weil_pairing(points[1], N)*points[2].weil_pairing(points[3], N) == 1\n",
    "ell_P, ell_Q = get_basis(E1, ell)\n",
    "points = points + [ell_P, ell_Q]\n"
   ]
  },
  {
   "cell_type": "code",
   "execution_count": 288,
   "metadata": {},
   "outputs": [],
   "source": [
    "load('../01. jacobian_isogeny/22_isogeny.sage')\n",
    "points = [(points[0], points[2]), (points[1], points[3]), (points[4], E1(0)), (points[5], E1(0))]\n",
    "a, b = 148, 16\n",
    "kernel2 = [(3^b*2^(a-1)*D[0], 3^b*2^(a-1)*D[1]) for D in [points[0], points[1]]]\n",
    "E_start = E1\n",
    "h, points, isog = Gluing22(E_start, E_start, kernel2, eval_points = points)"
   ]
  },
  {
   "cell_type": "code",
   "execution_count": 289,
   "metadata": {},
   "outputs": [],
   "source": [
    "kernel22 = [3^b * 2 * D for D in points[:2]]\n",
    "j, points = isogeny_22(kernel22, points, a-2)"
   ]
  },
  {
   "cell_type": "code",
   "execution_count": 290,
   "metadata": {},
   "outputs": [],
   "source": [
    "load('../01. jacobian_isogeny/33_isogeny.sage')\n",
    "kernel33 = [2 * D for D in points[:2]]\n",
    "j, points = isogeny_33(kernel33, points, b)"
   ]
  },
  {
   "cell_type": "code",
   "execution_count": 291,
   "metadata": {},
   "outputs": [
    {
     "ename": "AssertionError",
     "evalue": "",
     "output_type": "error",
     "traceback": [
      "\u001b[0;31m---------------------------------------------------------------------------\u001b[0m",
      "\u001b[0;31mAssertionError\u001b[0m                            Traceback (most recent call last)",
      "\u001b[1;32m/Users/hyeonhak/Documents/works/01. Development/01. Isogeny/IdIso/02. IdIso/Implementation.ipynb 셀 37\u001b[0m in \u001b[0;36m7\n\u001b[1;32m      <a href='vscode-notebook-cell:/Users/hyeonhak/Documents/works/01.%20Development/01.%20Isogeny/IdIso/02.%20IdIso/Implementation.ipynb#X51sZmlsZQ%3D%3D?line=4'>5</a>\u001b[0m \u001b[39massert\u001b[39;00m r3 \u001b[39m==\u001b[39m Integer(\u001b[39m0\u001b[39m)\n\u001b[1;32m      <a href='vscode-notebook-cell:/Users/hyeonhak/Documents/works/01.%20Development/01.%20Isogeny/IdIso/02.%20IdIso/Implementation.ipynb#X51sZmlsZQ%3D%3D?line=5'>6</a>\u001b[0m delta \u001b[39m=\u001b[39m Matrix(G\u001b[39m.\u001b[39mpadded_list(Integer(\u001b[39m3\u001b[39m)) \u001b[39mfor\u001b[39;00m G \u001b[39min\u001b[39;00m (G1, G2, G3))\n\u001b[0;32m----> <a href='vscode-notebook-cell:/Users/hyeonhak/Documents/works/01.%20Development/01.%20Isogeny/IdIso/02.%20IdIso/Implementation.ipynb#X51sZmlsZQ%3D%3D?line=6'>7</a>\u001b[0m \u001b[39massert\u001b[39;00m delta\u001b[39m.\u001b[39mdeterminant() \u001b[39m==\u001b[39m Integer(\u001b[39m0\u001b[39m)\n",
      "\u001b[0;31mAssertionError\u001b[0m: "
     ]
    }
   ],
   "source": [
    "G1 = points[0][0]\n",
    "G2 = points[1][0]\n",
    "h = j.curve().hyperelliptic_polynomials()[0]\n",
    "G3, r3 = h.quo_rem(G1*G2)\n",
    "assert r3 == 0\n",
    "delta = Matrix(G.padded_list(3) for G in (G1, G2, G3))\n",
    "assert delta.determinant() == 0"
   ]
  },
  {
   "cell_type": "code",
   "execution_count": null,
   "metadata": {},
   "outputs": [],
   "source": [
    "assert False"
   ]
  },
  {
   "cell_type": "code",
   "execution_count": 292,
   "metadata": {},
   "outputs": [
    {
     "name": "stdout",
     "output_type": "stream",
     "text": [
      "-119/2 + 8187/5*QA_i + 1/10*QA_k\n",
      "5 * 617 * 3095231 * 254477753 * 6143867688449 * 263313212863566673\n",
      "-54397141268751875176457746 - 111340034318652124964365095*QA_i\n",
      "17 * 903273660017128313244259286235441518771084269279973\n",
      "(275163641574147341286342636615268997963025253443512*Fp2_i^2 + 127258123306713697290654408996451444021032234320713, 51849276886004677844110823478614362619037642476950*Fp2_i^2 + 126581677345831093266058328756978088780713505522484, 137753882013535313180246968109314666939050388323212*Fp2_i^2 + 259644353601331498907500495596110649496776198672506, 343621639322740477319632199096065844233355806854537*Fp2_i^2 + 289051410753426258211847701543361084118248948184545)\n",
      "(164025938127979491722251243836773452666487762158528*Fp2_i^2 + 226194617743853738522896606325183714635902096980253, 149647007282438276133983737949388803637845117594139*Fp2_i^2 + 320757210107259860435924711308399126343809765009848, 77185444335740032711463886266687454760667777161615*Fp2_i^2 + 279129412198046800221786655004005932361705153653535, 255312187333684768815020933786499962617679626522094*Fp2_i^2 + 6630801986243237852719257130083976874186230232552)\n",
      "(85191039226620187838217635472760268825874714915846*Fp2_i^2 + 176512563438526476933247740829465423735929502423907, 175004134559435354230552393251036480131182697351884*Fp2_i^2 + 122159603375297026662818888972795874609734074341158, 89440872302247254506508898498104958404003783878683*Fp2_i^2 + 228288016425144815008038603912251471284346710325926, 285603656616074638816012847656677091128398661622939*Fp2_i^2 + 118078539718902001189747116012711966816074824453440)\n",
      "0 : failed\n",
      "391/2 - 9813/5*QA_i + 1/10*QA_k\n",
      "5 * 786217232123236824979470054845872514565641540167\n",
      "4919649745080433992852171 - 123820229634243981020730970*QA_i\n",
      "241 * 281 * 421 * 538595609963738721238309994398300117107859601\n",
      "(380147933332286504119559624320998096809221672322785, 353669363363499928383217845784295782231190606994094, 232941040307718912515102572601288910536989866625562, 264509889470853971996514002553999036743493405805840)\n",
      "(72728176143583469482892867966874499510209918192647*Fp2_i^2 + 231242294606375834196412469016309871050252398383682, 209817068378039229435683327597528955922019576986315*Fp2_i^2 + 207341424574774250440943587609276380763184205135521, 279399920419019672205813364222140161092581242476813*Fp2_i^2 + 242720889269337884924581005240992935642896353426285, 210738679832880631861675809804296458854215784882957*Fp2_i^2 + 205362717663760217634306889802120529759773115787159)\n",
      "(337413122966651084783278069528764836790973797033841*Fp2_i^2 + 197567249310724118801676509834381987948836367628246, 303646661489801804358835531335138554798864988405855*Fp2_i^2 + 201784821283170473322201704594353925462268384661955, 43553510205946550849607886015053301703901376818840*Fp2_i^2 + 173094984846579289332993231182852374456020897857702, 139067154297458734349303652518974113737209000361451*Fp2_i^2 + 93907803820233868063779396400848449912810430967052)\n",
      "1 : failed\n",
      "-639/2 - 2063/5*QA_i + 1/10*QA_k\n",
      "5 * 7 * 157 * 1598587414607164978111 * 447515906417491867215943\n",
      "-83035000054718702384047521 + 91982829844509819892812080*QA_i\n",
      "17 * 7993 * 113008089580523997653479205083878583607041695161\n",
      "(380147933332286504119559624320998096809221672322785, 353669363363499928383217845784295782231190606994094, 232941040307718912515102572601288910536989866625562, 264509889470853971996514002553999036743493405805840)\n",
      "(199001477076588159763670840461991723245068007557563*Fp2_i^2 + 183584759280287272695341757913854448972741793237167, 326928465455939132309471123167930094731790998185989*Fp2_i^2 + 140672662913969323582176570354074039935289987812237, 152594085720619163056832659660870583392935493737957*Fp2_i^2 + 351668498712771966960802745399139598047300093740892, 74173237341682647589857259223220056250175056426502*Fp2_i^2 + 83902136008250988373290870800200433868336095242273)\n",
      "(94612798919566802247975796212560032142915716815177*Fp2_i^2 + 218514653685936962244516950207296905452531753919849, 134224027273578004845292498023028751782741928748739*Fp2_i^2 + 188694260389713112431503333835306470201048351955400, 226167080584390488024721609722034364598788774962115*Fp2_i^2 + 287532863863693468961106698442150078196859000063465, 125208654181730553818054731940684604389734612296840*Fp2_i^2 + 264868990000207791298487982550404375183372392882364)\n",
      "2 : failed\n",
      "441/2 - 2813/5*QA_i + 1/10*QA_k\n",
      "5 * 7^2 * 199 * 727 * 110907008461621024441110481081525940141383\n",
      "86490066690129791276596386 - 88741876159049524890697805*QA_i\n",
      "17 * 1117 * 249448572914078929 * 3241792023424954404286319685041\n",
      "(275163641574147341286342636615268997963025253443512*Fp2_i^2 + 127258123306713697290654408996451444021032234320713, 51849276886004677844110823478614362619037642476950*Fp2_i^2 + 126581677345831093266058328756978088780713505522484, 137753882013535313180246968109314666939050388323212*Fp2_i^2 + 259644353601331498907500495596110649496776198672506, 343621639322740477319632199096065844233355806854537*Fp2_i^2 + 289051410753426258211847701543361084118248948184545)\n",
      "(45300554330495931537541759145742460640756224057156*Fp2_i^2 + 108039928982690639687585880959969182293191868312940, 306195574399520178184565103211309025910422867544022*Fp2_i^2 + 106430687504109838148861408589733697607220057217309, 89371481514455368315814254796339066588303007483527*Fp2_i^2 + 108319503198102641994974517719134855684486186841692, 94466743661609680350768739426425750354031831679691*Fp2_i^2 + 393027948426365554856163293501621825590044280417798)\n",
      "(289556649049324037328378748754155764465972441887923*Fp2_i^2 + 209832687641954654422804845612447325478370896595187, 266172697515780587619779704976848750083747232585710*Fp2_i^2 + 29979865156340896769854377041555124522896122455514, 228336431150885613103404836378978713022666136903051*Fp2_i^2 + 343896207321020204714508373593332941098578431128889, 165500102376208033049271415065166374980524659868116*Fp2_i^2 + 194534910505098240780680570951475573137860303760139)\n",
      "3 : failed\n",
      "-519/2 - 1063/5*QA_i + 1/10*QA_k\n",
      "5 * 991 * 236143 * 32170251657882788243 * 104433388436399517269\n",
      "27073913949335346364219086 - 120924172123505423953127215*QA_i\n",
      "12867709381 * 1193347764207729842352460560750560350187041\n",
      "(275163641574147341286342636615268997963025253443512*Fp2_i^2 + 127258123306713697290654408996451444021032234320713, 51849276886004677844110823478614362619037642476950*Fp2_i^2 + 126581677345831093266058328756978088780713505522484, 137753882013535313180246968109314666939050388323212*Fp2_i^2 + 259644353601331498907500495596110649496776198672506, 343621639322740477319632199096065844233355806854537*Fp2_i^2 + 289051410753426258211847701543361084118248948184545)\n",
      "(156235451868610769943873862968215384812386310117924*Fp2_i^2 + 21050908101118639372480802529637962383336147689942, 100343379287105596202072732624356320921220675175149*Fp2_i^2 + 114486245779222154791284159770349744443330945984115, 49400923929080001343266971811243705760821425170020*Fp2_i^2 + 87540482469043610304581171772589612886040675014298, 374321669114200276219651378261811657382594970288857*Fp2_i^2 + 130762490663373399557823005534544308508216501317953)\n",
      "(347865127469656905803998076197868191682171262696820*Fp2_i^2 + 114842669906400501279064165348098025064508418040555, 170026343593180711040846884016319859009937997817050*Fp2_i^2 + 45254157545425412169325142873510959331591196323843, 145713876884371181555534058105654448204359442059719*Fp2_i^2 + 275415927913814095897172144308014231206964568123096, 158157039204352564717940496402862558825292306996853*Fp2_i^2 + 54070805585567150530581588097275069962351928838424)\n",
      "4 : failed\n",
      "-479/2 - 9813/5*QA_i + 1/10*QA_k\n",
      "5^2 * 47 * 396709 * 7840848092813917 * 1075572284693184633189889\n",
      "-9824661122293220934299 - 123917924949408409456069440*QA_i\n",
      "5189 * 71444024104273 * 41420819638504128438416358081266933\n",
      "(380147933332286504119559624320998096809221672322785, 353669363363499928383217845784295782231190606994094, 232941040307718912515102572601288910536989866625562, 264509889470853971996514002553999036743493405805840)\n",
      "(92705807155839885273974151423285520301717744388897*Fp2_i^2 + 301225219211287457140249734295800358117858546638597, 21565346041607168607749794222197799467057318299199*Fp2_i^2 + 129392951087498838299859673088318830932722454042207, 102917143603865203773647287160080480393781454621755*Fp2_i^2 + 209237312936867992901058050504633066362042406140337, 82298776851356239441096801860165512924924787585154*Fp2_i^2 + 127760278170920404529165902914402887713857650719298)\n"
     ]
    },
    {
     "ename": "KeyboardInterrupt",
     "evalue": "",
     "output_type": "error",
     "traceback": [
      "\u001b[0;31m---------------------------------------------------------------------------\u001b[0m",
      "\u001b[0;31mKeyboardInterrupt\u001b[0m                         Traceback (most recent call last)",
      "\u001b[1;32m/Users/hyeonhak/Documents/works/01. Development/01. Isogeny/IdIso/02. IdIso/Implementation.ipynb 셀 39\u001b[0m in \u001b[0;36m6\n\u001b[1;32m     <a href='vscode-notebook-cell:/Users/hyeonhak/Documents/works/01.%20Development/01.%20Isogeny/IdIso/02.%20IdIso/Implementation.ipynb#X55sZmlsZQ%3D%3D?line=62'>63</a>\u001b[0m \u001b[39mprint\u001b[39m(j\u001b[39m.\u001b[39mcurve()\u001b[39m.\u001b[39mclebsch_invariants())\n\u001b[1;32m     <a href='vscode-notebook-cell:/Users/hyeonhak/Documents/works/01.%20Development/01.%20Isogeny/IdIso/02.%20IdIso/Implementation.ipynb#X55sZmlsZQ%3D%3D?line=64'>65</a>\u001b[0m kernel33 \u001b[39m=\u001b[39m [Integer(\u001b[39m2\u001b[39m) \u001b[39m*\u001b[39m D \u001b[39mfor\u001b[39;00m D \u001b[39min\u001b[39;00m points[:Integer(\u001b[39m2\u001b[39m)]]\n\u001b[0;32m---> <a href='vscode-notebook-cell:/Users/hyeonhak/Documents/works/01.%20Development/01.%20Isogeny/IdIso/02.%20IdIso/Implementation.ipynb#X55sZmlsZQ%3D%3D?line=65'>66</a>\u001b[0m j, points \u001b[39m=\u001b[39m isogeny_33(kernel33, points, b)\n\u001b[1;32m     <a href='vscode-notebook-cell:/Users/hyeonhak/Documents/works/01.%20Development/01.%20Isogeny/IdIso/02.%20IdIso/Implementation.ipynb#X55sZmlsZQ%3D%3D?line=66'>67</a>\u001b[0m \u001b[39mprint\u001b[39m(j\u001b[39m.\u001b[39mcurve()\u001b[39m.\u001b[39mclebsch_invariants())\n\u001b[1;32m     <a href='vscode-notebook-cell:/Users/hyeonhak/Documents/works/01.%20Development/01.%20Isogeny/IdIso/02.%20IdIso/Implementation.ipynb#X55sZmlsZQ%3D%3D?line=68'>69</a>\u001b[0m G1 \u001b[39m=\u001b[39m points[Integer(\u001b[39m0\u001b[39m)][Integer(\u001b[39m0\u001b[39m)]\n",
      "File \u001b[0;32m<string>:949\u001b[0m, in \u001b[0;36misogeny_33\u001b[0;34m(J_kernel, eval_points, n)\u001b[0m\n",
      "File \u001b[0;32m<string>:894\u001b[0m, in \u001b[0;36mBFT_evaluation\u001b[0;34m(kernel, points)\u001b[0m\n",
      "File \u001b[0;32m<string>:707\u001b[0m, in \u001b[0;36mget_rst_transform\u001b[0;34m(Ti)\u001b[0m\n",
      "File \u001b[0;32m/private/var/tmp/sage-10.1-current/local/var/lib/sage/venv-python3.11.1/lib/python3.11/site-packages/sage/structure/element.pyx:1509\u001b[0m, in \u001b[0;36msage.structure.element.Element.__mul__ (build/cythonized/sage/structure/element.c:12307)\u001b[0;34m()\u001b[0m\n\u001b[1;32m   1507\u001b[0m     return (<Element>left)._mul_(right)\n\u001b[1;32m   1508\u001b[0m if BOTH_ARE_ELEMENT(cl):\n\u001b[0;32m-> 1509\u001b[0m     return coercion_model.bin_op(left, right, mul)\n\u001b[1;32m   1510\u001b[0m \n\u001b[1;32m   1511\u001b[0m cdef long value\n",
      "File \u001b[0;32m/private/var/tmp/sage-10.1-current/local/var/lib/sage/venv-python3.11.1/lib/python3.11/site-packages/sage/structure/coerce.pyx:1225\u001b[0m, in \u001b[0;36msage.structure.coerce.CoercionModel.bin_op (build/cythonized/sage/structure/coerce.c:10797)\u001b[0;34m()\u001b[0m\n\u001b[1;32m   1223\u001b[0m     self._record_exception()\n\u001b[1;32m   1224\u001b[0m else:\n\u001b[0;32m-> 1225\u001b[0m     return PyObject_CallObject(op, xy)\n\u001b[1;32m   1226\u001b[0m \n\u001b[1;32m   1227\u001b[0m if op is mul:\n",
      "File \u001b[0;32m/private/var/tmp/sage-10.1-current/local/var/lib/sage/venv-python3.11.1/lib/python3.11/site-packages/sage/structure/element.pyx:1507\u001b[0m, in \u001b[0;36msage.structure.element.Element.__mul__ (build/cythonized/sage/structure/element.c:12272)\u001b[0;34m()\u001b[0m\n\u001b[1;32m   1505\u001b[0m cdef int cl = classify_elements(left, right)\n\u001b[1;32m   1506\u001b[0m if HAVE_SAME_PARENT(cl):\n\u001b[0;32m-> 1507\u001b[0m     return (<Element>left)._mul_(right)\n\u001b[1;32m   1508\u001b[0m if BOTH_ARE_ELEMENT(cl):\n\u001b[1;32m   1509\u001b[0m     return coercion_model.bin_op(left, right, mul)\n",
      "File \u001b[0;32m/private/var/tmp/sage-10.1-current/local/var/lib/sage/venv-python3.11.1/lib/python3.11/site-packages/sage/rings/fraction_field_element.pyx:672\u001b[0m, in \u001b[0;36msage.rings.fraction_field_element.FractionFieldElement._mul_ (build/cythonized/sage/rings/fraction_field_element.c:8117)\u001b[0;34m()\u001b[0m\n\u001b[1;32m    670\u001b[0m if not d2.is_unit():\n\u001b[1;32m    671\u001b[0m     rden = rden // d2\n\u001b[0;32m--> 672\u001b[0m     snum = snum // d2\n\u001b[1;32m    673\u001b[0m tnum = rnum * snum\n\u001b[1;32m    674\u001b[0m tden = rden * sden\n",
      "File \u001b[0;32m/private/var/tmp/sage-10.1-current/local/var/lib/sage/venv-python3.11.1/lib/python3.11/site-packages/sage/rings/polynomial/polynomial_element.pyx:11822\u001b[0m, in \u001b[0;36msage.rings.polynomial.polynomial_element.Polynomial_generic_dense.__floordiv__ (build/cythonized/sage/rings/polynomial/polynomial_element.c:95687)\u001b[0;34m()\u001b[0m\n\u001b[1;32m  11820\u001b[0m \"\"\"\n\u001b[1;32m  11821\u001b[0m if have_same_parent(self, right):\n\u001b[0;32m> 11822\u001b[0m     return (<Polynomial_generic_dense>self)._floordiv_(<Polynomial_generic_dense>right)\n\u001b[1;32m  11823\u001b[0m P = parent(self)\n\u001b[1;32m  11824\u001b[0m d = P.base_ring()(right)\n",
      "File \u001b[0;32m/private/var/tmp/sage-10.1-current/local/var/lib/sage/venv-python3.11.1/lib/python3.11/site-packages/sage/rings/polynomial/polynomial_element.pyx:2926\u001b[0m, in \u001b[0;36msage.rings.polynomial.polynomial_element.Polynomial._floordiv_ (build/cythonized/sage/rings/polynomial/polynomial_element.c:30538)\u001b[0;34m()\u001b[0m\n\u001b[1;32m   2924\u001b[0m     # quite typical when removing gcds...\n\u001b[1;32m   2925\u001b[0m     return self\n\u001b[0;32m-> 2926\u001b[0m Q, _ = self.quo_rem(right)\n\u001b[1;32m   2927\u001b[0m return Q\n\u001b[1;32m   2928\u001b[0m \n",
      "File \u001b[0;32m/private/var/tmp/sage-10.1-current/local/var/lib/sage/venv-python3.11.1/lib/python3.11/site-packages/sage/structure/element.pyx:4524\u001b[0m, in \u001b[0;36msage.structure.element.coerce_binop.new_method (build/cythonized/sage/structure/element.c:28131)\u001b[0;34m()\u001b[0m\n\u001b[1;32m   4522\u001b[0m def new_method(self, other, *args, **kwargs):\n\u001b[1;32m   4523\u001b[0m     if have_same_parent(self, other):\n\u001b[0;32m-> 4524\u001b[0m         return method(self, other, *args, **kwargs)\n\u001b[1;32m   4525\u001b[0m     else:\n\u001b[1;32m   4526\u001b[0m         a, b = coercion_model.canonical_coercion(self, other)\n",
      "File \u001b[0;32m/private/var/tmp/sage-10.1-current/local/var/lib/sage/venv-python3.11.1/lib/python3.11/site-packages/sage/rings/polynomial/polynomial_element.pyx:12093\u001b[0m, in \u001b[0;36msage.rings.polynomial.polynomial_element.Polynomial_generic_dense.quo_rem (build/cythonized/sage/rings/polynomial/polynomial_element.c:98764)\u001b[0;34m()\u001b[0m\n\u001b[1;32m  12091\u001b[0m if convert:\n\u001b[1;32m  12092\u001b[0m     for k from m-n >= k >= 0:\n\u001b[0;32m> 12093\u001b[0m         q = x[n+k-1] * inv\n\u001b[1;32m  12094\u001b[0m         try:\n\u001b[1;32m  12095\u001b[0m             q = R(q)\n",
      "File \u001b[0;32m/private/var/tmp/sage-10.1-current/local/var/lib/sage/venv-python3.11.1/lib/python3.11/site-packages/sage/structure/element.pyx:1509\u001b[0m, in \u001b[0;36msage.structure.element.Element.__mul__ (build/cythonized/sage/structure/element.c:12307)\u001b[0;34m()\u001b[0m\n\u001b[1;32m   1507\u001b[0m     return (<Element>left)._mul_(right)\n\u001b[1;32m   1508\u001b[0m if BOTH_ARE_ELEMENT(cl):\n\u001b[0;32m-> 1509\u001b[0m     return coercion_model.bin_op(left, right, mul)\n\u001b[1;32m   1510\u001b[0m \n\u001b[1;32m   1511\u001b[0m cdef long value\n",
      "File \u001b[0;32m/private/var/tmp/sage-10.1-current/local/var/lib/sage/venv-python3.11.1/lib/python3.11/site-packages/sage/structure/coerce.pyx:1225\u001b[0m, in \u001b[0;36msage.structure.coerce.CoercionModel.bin_op (build/cythonized/sage/structure/coerce.c:10797)\u001b[0;34m()\u001b[0m\n\u001b[1;32m   1223\u001b[0m     self._record_exception()\n\u001b[1;32m   1224\u001b[0m else:\n\u001b[0;32m-> 1225\u001b[0m     return PyObject_CallObject(op, xy)\n\u001b[1;32m   1226\u001b[0m \n\u001b[1;32m   1227\u001b[0m if op is mul:\n",
      "File \u001b[0;32m/private/var/tmp/sage-10.1-current/local/var/lib/sage/venv-python3.11.1/lib/python3.11/site-packages/sage/structure/element.pyx:1507\u001b[0m, in \u001b[0;36msage.structure.element.Element.__mul__ (build/cythonized/sage/structure/element.c:12272)\u001b[0;34m()\u001b[0m\n\u001b[1;32m   1505\u001b[0m cdef int cl = classify_elements(left, right)\n\u001b[1;32m   1506\u001b[0m if HAVE_SAME_PARENT(cl):\n\u001b[0;32m-> 1507\u001b[0m     return (<Element>left)._mul_(right)\n\u001b[1;32m   1508\u001b[0m if BOTH_ARE_ELEMENT(cl):\n\u001b[1;32m   1509\u001b[0m     return coercion_model.bin_op(left, right, mul)\n",
      "File \u001b[0;32m/private/var/tmp/sage-10.1-current/local/var/lib/sage/venv-python3.11.1/lib/python3.11/site-packages/sage/rings/fraction_field_element.pyx:666\u001b[0m, in \u001b[0;36msage.rings.fraction_field_element.FractionFieldElement._mul_ (build/cythonized/sage/rings/fraction_field_element.c:8001)\u001b[0;34m()\u001b[0m\n\u001b[1;32m    664\u001b[0m try:\n\u001b[1;32m    665\u001b[0m     d1 = rnum.gcd(sden)\n\u001b[0;32m--> 666\u001b[0m     d2 = snum.gcd(rden)\n\u001b[1;32m    667\u001b[0m     if not d1.is_unit():\n\u001b[1;32m    668\u001b[0m         rnum = rnum // d1\n",
      "File \u001b[0;32m/private/var/tmp/sage-10.1-current/local/var/lib/sage/venv-python3.11.1/lib/python3.11/site-packages/sage/rings/polynomial/multi_polynomial.pyx:2131\u001b[0m, in \u001b[0;36msage.rings.polynomial.multi_polynomial.MPolynomial.gcd (build/cythonized/sage/rings/polynomial/multi_polynomial.c:21292)\u001b[0;34m()\u001b[0m\n\u001b[1;32m   2129\u001b[0m         raise NotImplementedError(\"GCD is not implemented for multivariate polynomials over {}\".format(self._parent._mpoly_base_ring()))\n\u001b[1;32m   2130\u001b[0m     else:\n\u001b[0;32m-> 2131\u001b[0m         return self.parent()(doit(uniself, other.polynomial(x)))\n\u001b[1;32m   2132\u001b[0m \n\u001b[1;32m   2133\u001b[0m def nth_root(self, n):\n",
      "File \u001b[0;32m/private/var/tmp/sage-10.1-current/local/var/lib/sage/venv-python3.11.1/lib/python3.11/site-packages/sage/categories/unique_factorization_domains.py:190\u001b[0m, in \u001b[0;36mUniqueFactorizationDomains.ParentMethods._gcd_univariate_polynomial\u001b[0;34m(self, f, g)\u001b[0m\n\u001b[1;32m    187\u001b[0m     \u001b[39mif\u001b[39;00m b\u001b[39m.\u001b[39mis_one():\n\u001b[1;32m    188\u001b[0m         \u001b[39mbreak\u001b[39;00m\n\u001b[0;32m--> 190\u001b[0m d \u001b[39m=\u001b[39m a\u001b[39m.\u001b[39mgcd(b)\n\u001b[1;32m    191\u001b[0m A \u001b[39m=\u001b[39m A \u001b[39m/\u001b[39m\u001b[39m/\u001b[39m a\n\u001b[1;32m    192\u001b[0m B \u001b[39m=\u001b[39m B \u001b[39m/\u001b[39m\u001b[39m/\u001b[39m b\n",
      "File \u001b[0;32m/private/var/tmp/sage-10.1-current/local/var/lib/sage/venv-python3.11.1/lib/python3.11/site-packages/sage/rings/polynomial/multi_polynomial.pyx:2131\u001b[0m, in \u001b[0;36msage.rings.polynomial.multi_polynomial.MPolynomial.gcd (build/cythonized/sage/rings/polynomial/multi_polynomial.c:21292)\u001b[0;34m()\u001b[0m\n\u001b[1;32m   2129\u001b[0m         raise NotImplementedError(\"GCD is not implemented for multivariate polynomials over {}\".format(self._parent._mpoly_base_ring()))\n\u001b[1;32m   2130\u001b[0m     else:\n\u001b[0;32m-> 2131\u001b[0m         return self.parent()(doit(uniself, other.polynomial(x)))\n\u001b[1;32m   2132\u001b[0m \n\u001b[1;32m   2133\u001b[0m def nth_root(self, n):\n",
      "File \u001b[0;32m/private/var/tmp/sage-10.1-current/local/var/lib/sage/venv-python3.11.1/lib/python3.11/site-packages/sage/categories/unique_factorization_domains.py:190\u001b[0m, in \u001b[0;36mUniqueFactorizationDomains.ParentMethods._gcd_univariate_polynomial\u001b[0;34m(self, f, g)\u001b[0m\n\u001b[1;32m    187\u001b[0m     \u001b[39mif\u001b[39;00m b\u001b[39m.\u001b[39mis_one():\n\u001b[1;32m    188\u001b[0m         \u001b[39mbreak\u001b[39;00m\n\u001b[0;32m--> 190\u001b[0m d \u001b[39m=\u001b[39m a\u001b[39m.\u001b[39mgcd(b)\n\u001b[1;32m    191\u001b[0m A \u001b[39m=\u001b[39m A \u001b[39m/\u001b[39m\u001b[39m/\u001b[39m a\n\u001b[1;32m    192\u001b[0m B \u001b[39m=\u001b[39m B \u001b[39m/\u001b[39m\u001b[39m/\u001b[39m b\n",
      "    \u001b[0;31m[... skipping similar frames: UniqueFactorizationDomains.ParentMethods._gcd_univariate_polynomial at line 190 (2 times), sage.rings.polynomial.multi_polynomial.MPolynomial.gcd (build/cythonized/sage/rings/polynomial/multi_polynomial.c:21292) at line 2131 (2 times)]\u001b[0m\n",
      "File \u001b[0;32m/private/var/tmp/sage-10.1-current/local/var/lib/sage/venv-python3.11.1/lib/python3.11/site-packages/sage/rings/polynomial/multi_polynomial.pyx:2131\u001b[0m, in \u001b[0;36msage.rings.polynomial.multi_polynomial.MPolynomial.gcd (build/cythonized/sage/rings/polynomial/multi_polynomial.c:21292)\u001b[0;34m()\u001b[0m\n\u001b[1;32m   2129\u001b[0m         raise NotImplementedError(\"GCD is not implemented for multivariate polynomials over {}\".format(self._parent._mpoly_base_ring()))\n\u001b[1;32m   2130\u001b[0m     else:\n\u001b[0;32m-> 2131\u001b[0m         return self.parent()(doit(uniself, other.polynomial(x)))\n\u001b[1;32m   2132\u001b[0m \n\u001b[1;32m   2133\u001b[0m def nth_root(self, n):\n",
      "File \u001b[0;32m/private/var/tmp/sage-10.1-current/local/var/lib/sage/venv-python3.11.1/lib/python3.11/site-packages/sage/categories/unique_factorization_domains.py:190\u001b[0m, in \u001b[0;36mUniqueFactorizationDomains.ParentMethods._gcd_univariate_polynomial\u001b[0;34m(self, f, g)\u001b[0m\n\u001b[1;32m    187\u001b[0m     \u001b[39mif\u001b[39;00m b\u001b[39m.\u001b[39mis_one():\n\u001b[1;32m    188\u001b[0m         \u001b[39mbreak\u001b[39;00m\n\u001b[0;32m--> 190\u001b[0m d \u001b[39m=\u001b[39m a\u001b[39m.\u001b[39mgcd(b)\n\u001b[1;32m    191\u001b[0m A \u001b[39m=\u001b[39m A \u001b[39m/\u001b[39m\u001b[39m/\u001b[39m a\n\u001b[1;32m    192\u001b[0m B \u001b[39m=\u001b[39m B \u001b[39m/\u001b[39m\u001b[39m/\u001b[39m b\n",
      "File \u001b[0;32m/private/var/tmp/sage-10.1-current/local/var/lib/sage/venv-python3.11.1/lib/python3.11/site-packages/sage/rings/polynomial/multi_polynomial.pyx:2124\u001b[0m, in \u001b[0;36msage.rings.polynomial.multi_polynomial.MPolynomial.gcd (build/cythonized/sage/rings/polynomial/multi_polynomial.c:21136)\u001b[0;34m()\u001b[0m\n\u001b[1;32m   2122\u001b[0m \n\u001b[1;32m   2123\u001b[0m         x = self._parent.gens()[-1]\n\u001b[0;32m-> 2124\u001b[0m         uniself = self.polynomial(x)\n\u001b[1;32m   2125\u001b[0m         unibase = uniself.base_ring()\n\u001b[1;32m   2126\u001b[0m         try:\n",
      "File \u001b[0;32m/private/var/tmp/sage-10.1-current/local/var/lib/sage/venv-python3.11.1/lib/python3.11/site-packages/sage/rings/polynomial/multi_polynomial.pyx:418\u001b[0m, in \u001b[0;36msage.rings.polynomial.multi_polynomial.MPolynomial.polynomial (build/cythonized/sage/rings/polynomial/multi_polynomial.c:7465)\u001b[0;34m()\u001b[0m\n\u001b[1;32m    416\u001b[0m \n\u001b[1;32m    417\u001b[0m         # Make polynomial ring over all variables except var.\n\u001b[0;32m--> 418\u001b[0m         S = R.base_ring()[tuple(Z)]\n\u001b[1;32m    419\u001b[0m         ring = S[var]\n\u001b[1;32m    420\u001b[0m         if not self:\n",
      "File \u001b[0;32m/private/var/tmp/sage-10.1-current/local/var/lib/sage/venv-python3.11.1/lib/python3.11/site-packages/sage/structure/parent.pyx:1279\u001b[0m, in \u001b[0;36msage.structure.parent.Parent.__getitem__ (build/cythonized/sage/structure/parent.c:11474)\u001b[0;34m()\u001b[0m\n\u001b[1;32m   1277\u001b[0m         except AttributeError:\n\u001b[1;32m   1278\u001b[0m             return self.list()[n]\n\u001b[0;32m-> 1279\u001b[0m     return meth(n)\n\u001b[1;32m   1280\u001b[0m \n\u001b[1;32m   1281\u001b[0m #########################################################################\n",
      "File \u001b[0;32m/private/var/tmp/sage-10.1-current/local/var/lib/sage/venv-python3.11.1/lib/python3.11/site-packages/sage/categories/rings.py:1253\u001b[0m, in \u001b[0;36mRings.ParentMethods.__getitem__\u001b[0;34m(self, arg)\u001b[0m\n\u001b[1;32m   1250\u001b[0m \u001b[39m# 2. Otherwise, try to return a polynomial ring\u001b[39;00m\n\u001b[1;32m   1252\u001b[0m \u001b[39mfrom\u001b[39;00m \u001b[39msage\u001b[39;00m\u001b[39m.\u001b[39;00m\u001b[39mrings\u001b[39;00m\u001b[39m.\u001b[39;00m\u001b[39mpolynomial\u001b[39;00m\u001b[39m.\u001b[39;00m\u001b[39mpolynomial_ring_constructor\u001b[39;00m \u001b[39mimport\u001b[39;00m PolynomialRing\n\u001b[0;32m-> 1253\u001b[0m \u001b[39mreturn\u001b[39;00m PolynomialRing(\u001b[39mself\u001b[39;49m, elts)\n",
      "File \u001b[0;32m/private/var/tmp/sage-10.1-current/local/var/lib/sage/venv-python3.11.1/lib/python3.11/site-packages/sage/rings/polynomial/polynomial_ring_constructor.py:59\u001b[0m, in \u001b[0;36mPolynomialRing\u001b[0;34m(base_ring, *args, **kwds)\u001b[0m\n\u001b[1;32m     53\u001b[0m _cache \u001b[39m=\u001b[39m sage\u001b[39m.\u001b[39mmisc\u001b[39m.\u001b[39mweak_dict\u001b[39m.\u001b[39mWeakValueDictionary()\n\u001b[1;32m     56\u001b[0m \u001b[39m# The signature for this function is too complicated to express sensibly\u001b[39;00m\n\u001b[1;32m     57\u001b[0m \u001b[39m# in any other way besides *args and **kwds (in Python 3 or Cython, we\u001b[39;00m\n\u001b[1;32m     58\u001b[0m \u001b[39m# could probably do better thanks to PEP 3102).\u001b[39;00m\n\u001b[0;32m---> 59\u001b[0m \u001b[39mdef\u001b[39;00m \u001b[39mPolynomialRing\u001b[39m(base_ring, \u001b[39m*\u001b[39margs, \u001b[39m*\u001b[39m\u001b[39m*\u001b[39mkwds):\n\u001b[1;32m     60\u001b[0m     \u001b[39mr\u001b[39m\u001b[39m\"\"\"\u001b[39;00m\n\u001b[1;32m     61\u001b[0m \u001b[39m    Return the globally unique univariate or multivariate polynomial\u001b[39;00m\n\u001b[1;32m     62\u001b[0m \u001b[39m    ring with given properties and variable name or names.\u001b[39;00m\n\u001b[0;32m   (...)\u001b[0m\n\u001b[1;32m    619\u001b[0m \u001b[39m        sage: TestSuite(R).run(skip=['_test_elements', '_test_elements_eq_transitive'])\u001b[39;00m\n\u001b[1;32m    620\u001b[0m \u001b[39m    \"\"\"\u001b[39;00m\n\u001b[1;32m    621\u001b[0m     \u001b[39mif\u001b[39;00m \u001b[39mnot\u001b[39;00m ring\u001b[39m.\u001b[39mis_Ring(base_ring):\n",
      "File \u001b[0;32msrc/cysignals/signals.pyx:310\u001b[0m, in \u001b[0;36mcysignals.signals.python_check_interrupt\u001b[0;34m()\u001b[0m\n",
      "\u001b[0;31mKeyboardInterrupt\u001b[0m: "
     ]
    }
   ],
   "source": [
    "import random\n",
    "load('../01. jacobian_isogeny/22_isogeny.sage')\n",
    "load('../01. jacobian_isogeny/33_isogeny.sage')\n",
    "\n",
    "# I2_gen = -219 + 4901/10*QA_i + 1/10*QA_j\n",
    "# beta = 4335595445855235293281540 - 123842055992385158191272201*QA_i\n",
    "\n",
    "for case in range(10):\n",
    "    I2_basis = GetReducedBasis(I2.basis())\n",
    "    I2_generator = I2_basis[2]\n",
    "    assert IdealContains(I2, I2_generator)\n",
    "    gram = matrix([[1,0,0,0],[0,1,0,0],[0,0,prime,0],[0,0,0,prime]])\n",
    "    M_O1 = matrix([vector(v.coefficient_tuple()) for v in O1_basis])\n",
    "    G = M_O1 * gram * M_O1.transpose()\n",
    "\n",
    "    x0,x1 = 0, 0\n",
    "    k = 100\n",
    "    for i in range(k^2):\n",
    "        I2_gen = I2_generator + random.randint(-k, k) * I2_basis[1] + random.randint(-k, k) * I2_basis[0]\n",
    "        assert IdealContains(I2, I2_gen)\n",
    "        if gcd(I2_gen.reduced_norm() ,6) != 1: continue\n",
    "        target = 2^e1*3^e2 - I2_gen.reduced_norm()\n",
    "        assert target > 0\n",
    "        if kronecker(-G[1][1], target) != 1: continue\n",
    "        try:\n",
    "            x0,x1 = cornacchia(G[1][1], target)\n",
    "            break\n",
    "        except:\n",
    "            continue\n",
    "    beta = O1_basis[0]*x0 + O1_basis[1]*x1\n",
    "    assert beta.reduced_norm() + I2_gen.reduced_norm() == 2^e1*3^e2\n",
    "    assert gcd(beta.reduced_norm(), I2_gen.reduced_norm()) == 1\n",
    "    print(I2_gen)\n",
    "    print(I2_gen.reduced_norm().factor())\n",
    "    print(beta)\n",
    "    print(beta.reduced_norm().factor())\n",
    "\n",
    "    N = 2^e1*3^e2\n",
    "    N_alpha = I2_gen.reduced_norm()\n",
    "    N_beta = beta.reduced_norm()\n",
    "    x_value = Integer(mod(N_beta, N)^-1)\n",
    "\n",
    "    P1, Q1 = get_basis(E1, N)\n",
    "\n",
    "    psi_P1 = eval_endomorphism(x_value * I2_gen * beta, P1, N, phi1, phi1_dual)\n",
    "    psi_Q1 = eval_endomorphism(x_value * I2_gen * beta, Q1, N, phi1, phi1_dual)\n",
    "\n",
    "    points = [P1, Q1, psi_P1, psi_Q1]\n",
    "    points = [E1((e[0], e[1])) for e in points]\n",
    "    assert points[0].weil_pairing(points[1], N)*points[2].weil_pairing(points[3], N) == 1\n",
    "    ell_P, ell_Q = get_basis(E1, ell)\n",
    "    points = points + [ell_P, ell_Q]\n",
    "\n",
    "    points = [(points[0], points[2]), (points[1], points[3]), (points[4], E1(0)), (points[5], E1(0))]\n",
    "    a, b = 148, 16\n",
    "    kernel2 = [(3^b*2^(a-1)*D[0], 3^b*2^(a-1)*D[1]) for D in [points[0], points[1]]]\n",
    "    E_start = E1\n",
    "    h, points, isog = Gluing22(E_start, E_start, kernel2, eval_points = points)\n",
    "    print(h.clebsch_invariants())\n",
    "\n",
    "    kernel22 = [3^b * 2 * D for D in points[:2]]\n",
    "    j, points = isogeny_22(kernel22, points, a-2)\n",
    "    print(j.curve().clebsch_invariants())\n",
    "\n",
    "    kernel33 = [2 * D for D in points[:2]]\n",
    "    j, points = isogeny_33(kernel33, points, b)\n",
    "    print(j.curve().clebsch_invariants())\n",
    "\n",
    "    G1 = points[0][0]\n",
    "    G2 = points[1][0]\n",
    "    h = j.curve().hyperelliptic_polynomials()[0]\n",
    "    G3, r3 = h.quo_rem(G1*G2)\n",
    "    assert r3 == 0\n",
    "    delta = Matrix(G.padded_list(3) for G in (G1, G2, G3))\n",
    "    if delta.determinant() == 0 : print(\"%d : success\"%(case))\n",
    "    else : print(\"%d : failed\"%(case))"
   ]
  },
  {
   "cell_type": "code",
   "execution_count": null,
   "metadata": {},
   "outputs": [],
   "source": [
    "load('../01. jacobian_isogeny/22_isogeny.sage')\n",
    "kernel22 = [D for D in points[:2]]\n",
    "prodE, eval_points = Splitting22(kernel22, [points[2], points[3]])"
   ]
  },
  {
   "cell_type": "code",
   "execution_count": null,
   "metadata": {},
   "outputs": [
    {
     "name": "stdout",
     "output_type": "stream",
     "text": [
      "[((217681384236001118232143045409478000596796809013471*Fp2_i^2 + 213052435544866963096056658728022462815072557879709 : 217575137782513305318290947178346955315997005146879*Fp2_i^3 + 354512674135835281378964823815002048206768340628496*Fp2_i : 1), (157271264800523852986476289815525272233912789229822*Fp2_i^2 + 56880086213987454445252619131375661647846608821902 : 144777345766818464557002921507128515193559612507604*Fp2_i^3 + 249949666982062834605542624331672405197171330592696*Fp2_i : 1)), ((366001795385812304401668034514116123212454592161177*Fp2_i^2 + 268360151052555436165135994966191533776122252746445 : 354151999919731032642549544607893411255953191331973*Fp2_i^3 + 309251391409297574738728199143362245425129164853364*Fp2_i : 1), (341999281521453162741513911253593759989459549463812*Fp2_i^2 + 191476377378440474857750183759707383215810818261188 : 211765567622185912025873313411961799971766465496595*Fp2_i^3 + 7811662083241675113916649488081804563423427885595*Fp2_i : 1))]\n"
     ]
    }
   ],
   "source": [
    "print(eval_points)"
   ]
  },
  {
   "cell_type": "code",
   "execution_count": null,
   "metadata": {},
   "outputs": [
    {
     "name": "stdout",
     "output_type": "stream",
     "text": [
      "second kernel : (190109187736188721217378289285843068400227307187967*Fp2_i^2 + 215889668914670661327335186988343309364958840599297 : 326102712949964461182852671185483986295906132819430*Fp2_i^2 + 335029515558269756534411781187261354934571241310845 : 1)\n"
     ]
    }
   ],
   "source": [
    "assert E1.j_invariant() in [T.j_invariant() for T in prodE]\n",
    "P, Q = E1(0), E1(0)\n",
    "if prodE[0].j_invariant() == E1.j_invariant():\n",
    "    P, Q = eval_points[0][0], eval_points[1][0]\n",
    "else:\n",
    "    P, Q = eval_points[0][1], eval_points[1][1]\n",
    "\n",
    "second_kernel = E1(0)\n",
    "if P.is_zero(): second_kernel = ell_Q\n",
    "elif Q.is_zero(): second_kernel = ell_P\n",
    "else:\n",
    "    assert P.weil_pairing(Q, P.order()) == 1\n",
    "\n",
    "    r = P.discrete_log(Q)\n",
    "    second_kernel = ell_P * r - ell_Q\n",
    "print(\"second kernel :\", second_kernel)\n"
   ]
  },
  {
   "cell_type": "code",
   "execution_count": null,
   "metadata": {},
   "outputs": [],
   "source": [
    "O2 = I2.right_order()"
   ]
  },
  {
   "cell_type": "code",
   "execution_count": null,
   "metadata": {},
   "outputs": [],
   "source": [
    "I3 = I2.conjugate() * I1.conjugate() * I\n",
    "I3 = I3.scale(ell^-2)\n",
    "ellO2 = QA.ideal(O2.basis()).scale(ell)\n",
    "I3 = AddIdeal(I3, ellO2)\n",
    "assert I3.norm() == ell and I3.left_order() == O2"
   ]
  },
  {
   "cell_type": "code",
   "execution_count": null,
   "metadata": {},
   "outputs": [],
   "source": [
    "load('isogeny.sage')\n",
    "phi2 = Isogeny(phi1.codomain_coeff, second_kernel, 2^e1*3^e2*ell)"
   ]
  },
  {
   "cell_type": "code",
   "execution_count": null,
   "metadata": {},
   "outputs": [],
   "source": [
    "load('isogeny.sage')\n",
    "E2 = phi2.codomain_curve\n",
    "phi2_dual = phi2.dual_isogeny()"
   ]
  },
  {
   "cell_type": "code",
   "execution_count": null,
   "metadata": {},
   "outputs": [],
   "source": [
    "cofactor = phi2_dual.domain_P.order() // 3^16\n",
    "T = cofactor * phi2_dual.codomain_P\n",
    "ellT = phi2.eval(T)\n",
    "if ellT != phi2.degree * cofactor * phi2_dual.domain_P:\n",
    "    phi2_dual.codomain_P *= -1\n",
    "    phi2_dual.codomain_Q *= -1\n",
    "    assert -ellT == phi2.degree * cofactor * phi2_dual.domain_P\n",
    "else: assert ellT == phi2.degree * cofactor * phi2_dual.domain_P\n",
    "\n",
    "T = cofactor * phi2.codomain_P\n",
    "ellT = phi2_dual.eval(T)\n",
    "assert ellT == phi2_dual.degree * cofactor * phi2.domain_P"
   ]
  },
  {
   "cell_type": "code",
   "execution_count": null,
   "metadata": {},
   "outputs": [],
   "source": [
    "I3_generator = ideal_generator(I3)"
   ]
  },
  {
   "cell_type": "code",
   "execution_count": null,
   "metadata": {},
   "outputs": [],
   "source": [
    "O2_basis = GetReducedBasis(O2.basis())"
   ]
  },
  {
   "attachments": {},
   "cell_type": "markdown",
   "metadata": {},
   "source": [
    "### Computing $\\beta$ such that $n(\\beta) + n(\\alpha_3) = 2^{e_1}\\times 3^{e_2}$"
   ]
  },
  {
   "cell_type": "code",
   "execution_count": null,
   "metadata": {},
   "outputs": [],
   "source": [
    "import random\n",
    "I3_basis = GetReducedBasis(I3.basis())\n",
    "I3_generator = I3_basis[2]\n",
    "e1 = 148\n",
    "e2 = 16\n",
    "gram = matrix([[1,0,0,0],[0,1,0,0],[0,0,prime,0],[0,0,0,prime]])\n",
    "M_O2 = matrix([vector(v.coefficient_tuple()) for v in O2_basis])\n",
    "G = M_O2 * gram * M_O2.transpose()\n",
    "\n",
    "x,y = 0, 0\n",
    "k = 100\n",
    "for i in range(k^2):\n",
    "    I3_gen = I3_generator + random.randint(-k, k) * I3_basis[1] + random.randint(-k, k) * I3_basis[0]\n",
    "    if gcd(I3_gen.reduced_norm() ,6) != 1: continue\n",
    "    target = 2^e1*3^e2 - I3_gen.reduced_norm()\n",
    "    assert target > 0\n",
    "    if kronecker(-G[1][1], target) != 1: continue\n",
    "    try:\n",
    "        x,y = cornacchia(G[1][1], target)\n",
    "        break\n",
    "    except:\n",
    "        continue\n",
    "beta = O2_basis[0]*x + O2_basis[1]*y\n",
    "assert (beta.reduced_norm() + I3_gen.reduced_norm()) == 2^e1*3^e2\n",
    "assert gcd(beta.reduced_norm(), I3_gen.reduced_norm()) == 1"
   ]
  },
  {
   "attachments": {},
   "cell_type": "markdown",
   "metadata": {},
   "source": [
    "### Compute $x \\equiv \\beta^{-1} \\mod N$ "
   ]
  },
  {
   "cell_type": "code",
   "execution_count": null,
   "metadata": {},
   "outputs": [],
   "source": [
    "N = 2^e1*3^e2\n",
    "N_alpha = I3_gen.reduced_norm()\n",
    "N_beta = beta.reduced_norm()\n",
    "x_value = Integer(mod(N_beta, N)^-1)"
   ]
  },
  {
   "cell_type": "code",
   "execution_count": null,
   "metadata": {},
   "outputs": [
    {
     "data": {
      "text/plain": [
       "True"
      ]
     },
     "execution_count": 133,
     "metadata": {},
     "output_type": "execute_result"
    }
   ],
   "source": [
    "P1, Q1 = get_basis(phi2.codomain_curve, N)\n",
    "E2.is_on_curve(P1[0], P1[1])"
   ]
  },
  {
   "cell_type": "code",
   "execution_count": null,
   "metadata": {},
   "outputs": [],
   "source": [
    "load('isogeny.sage')\n",
    "isog = IsogenyChain([phi1, phi2])\n",
    "isog_dual = IsogenyChain([phi2_dual, phi1_dual])\n",
    "psi_P1 = eval_endomorphism(x_value * I3_gen * beta, P1, N, isog, isog_dual)\n",
    "psi_Q1 = eval_endomorphism(x_value * I3_gen * beta, Q1, N, isog, isog_dual)"
   ]
  },
  {
   "attachments": {},
   "cell_type": "markdown",
   "metadata": {},
   "source": [
    "#### Check if $e_N((P, \\phi(P)), (Q, \\phi(Q))) = e_N(P, Q)\\cdot e_N(\\phi(P), \\phi(Q))$\n",
    "+ where $\\phi = [x] \\circ \\theta_{\\alpha} \\circ \\theta_{\\beta}$\n",
    "+ $\\theta_{\\alpha}$ and $\\theta_{\\beta}$ are separable endomorphisms"
   ]
  },
  {
   "cell_type": "code",
   "execution_count": null,
   "metadata": {},
   "outputs": [],
   "source": [
    "points = [P1, Q1, psi_P1, psi_Q1]\n",
    "points = [E2((e[0], e[1])) for e in points]\n",
    "assert points[0].weil_pairing(points[1], N)*points[2].weil_pairing(points[3], N) == 1\n",
    "[ell_P, ell_Q] = get_basis(E2, ell)\n",
    "points = points + [ell_P, ell_Q]"
   ]
  },
  {
   "attachments": {},
   "cell_type": "markdown",
   "metadata": {},
   "source": [
    "### Computing Isogeny in hyperelliptic curves"
   ]
  },
  {
   "cell_type": "code",
   "execution_count": null,
   "metadata": {},
   "outputs": [],
   "source": [
    "load('../01. jacobian_isogeny/22_isogeny.sage')\n",
    "points = [(points[0], points[2]), (points[1], points[3]), (points[4], E1(0)), (points[5], E1(0))]\n",
    "a, b = 148, 16\n",
    "kernel2 = [(3^b*2^(a-1)*D[0], 3^b*2^(a-1)*D[1]) for D in [points[0], points[1]]]\n",
    "E_start = E2\n",
    "h, points, isog = Gluing22(E_start, E_start, kernel2, eval_points = points)"
   ]
  },
  {
   "cell_type": "code",
   "execution_count": null,
   "metadata": {},
   "outputs": [],
   "source": [
    "kernel22 = [3^b * 2 * D for D in points[:2]]\n",
    "j, points = isogeny_22(kernel22, points, a-2)"
   ]
  },
  {
   "cell_type": "code",
   "execution_count": null,
   "metadata": {},
   "outputs": [
    {
     "name": "stdout",
     "output_type": "stream",
     "text": [
      "Interrupting Singular...\n"
     ]
    },
    {
     "ename": "KeyboardInterrupt",
     "evalue": "Restarting Singular (WARNING: all variables defined in previous session are now invalid)",
     "output_type": "error",
     "traceback": [
      "\u001b[0;31m---------------------------------------------------------------------------\u001b[0m",
      "\u001b[0;31mKeyError\u001b[0m                                  Traceback (most recent call last)",
      "\u001b[0;32m/opt/sagemath-9.3/local/lib/python3.7/site-packages/sage/structure/category_object.pyx\u001b[0m in \u001b[0;36msage.structure.category_object.CategoryObject.getattr_from_category (build/cythonized/sage/structure/category_object.c:7074)\u001b[0;34m()\u001b[0m\n\u001b[1;32m    838\u001b[0m         \u001b[0;32mtry\u001b[0m\u001b[0;34m:\u001b[0m\u001b[0;34m\u001b[0m\u001b[0;34m\u001b[0m\u001b[0m\n\u001b[0;32m--> 839\u001b[0;31m             \u001b[0;32mreturn\u001b[0m \u001b[0mself\u001b[0m\u001b[0;34m.\u001b[0m\u001b[0m__cached_methods\u001b[0m\u001b[0;34m[\u001b[0m\u001b[0mname\u001b[0m\u001b[0;34m]\u001b[0m\u001b[0;34m\u001b[0m\u001b[0;34m\u001b[0m\u001b[0m\n\u001b[0m\u001b[1;32m    840\u001b[0m         \u001b[0;32mexcept\u001b[0m \u001b[0mKeyError\u001b[0m\u001b[0;34m:\u001b[0m\u001b[0;34m\u001b[0m\u001b[0;34m\u001b[0m\u001b[0m\n",
      "\u001b[0;31mKeyError\u001b[0m: '_PolynomialRing_singular_repr__singular'",
      "\nDuring handling of the above exception, another exception occurred:\n",
      "\u001b[0;31mAttributeError\u001b[0m                            Traceback (most recent call last)",
      "\u001b[0;32m/opt/sagemath-9.3/local/lib/python3.7/site-packages/sage/rings/polynomial/polynomial_singular_interface.py\u001b[0m in \u001b[0;36m_singular_\u001b[0;34m(self, singular)\u001b[0m\n\u001b[1;32m    214\u001b[0m         \u001b[0;32mtry\u001b[0m\u001b[0;34m:\u001b[0m\u001b[0;34m\u001b[0m\u001b[0;34m\u001b[0m\u001b[0m\n\u001b[0;32m--> 215\u001b[0;31m             \u001b[0mR\u001b[0m \u001b[0;34m=\u001b[0m \u001b[0mself\u001b[0m\u001b[0;34m.\u001b[0m\u001b[0m__singular\u001b[0m\u001b[0;34m\u001b[0m\u001b[0;34m\u001b[0m\u001b[0m\n\u001b[0m\u001b[1;32m    216\u001b[0m             \u001b[0;32mif\u001b[0m \u001b[0;32mnot\u001b[0m \u001b[0;34m(\u001b[0m\u001b[0mR\u001b[0m\u001b[0;34m.\u001b[0m\u001b[0mparent\u001b[0m\u001b[0;34m(\u001b[0m\u001b[0;34m)\u001b[0m \u001b[0;32mis\u001b[0m \u001b[0msingular\u001b[0m\u001b[0;34m)\u001b[0m\u001b[0;34m:\u001b[0m\u001b[0;34m\u001b[0m\u001b[0;34m\u001b[0m\u001b[0m\n",
      "\u001b[0;32m/opt/sagemath-9.3/local/lib/python3.7/site-packages/sage/structure/category_object.pyx\u001b[0m in \u001b[0;36msage.structure.category_object.CategoryObject.__getattr__ (build/cythonized/sage/structure/category_object.c:6993)\u001b[0;34m()\u001b[0m\n\u001b[1;32m    832\u001b[0m         \"\"\"\n\u001b[0;32m--> 833\u001b[0;31m         \u001b[0;32mreturn\u001b[0m \u001b[0mself\u001b[0m\u001b[0;34m.\u001b[0m\u001b[0mgetattr_from_category\u001b[0m\u001b[0;34m(\u001b[0m\u001b[0mname\u001b[0m\u001b[0;34m)\u001b[0m\u001b[0;34m\u001b[0m\u001b[0;34m\u001b[0m\u001b[0m\n\u001b[0m\u001b[1;32m    834\u001b[0m \u001b[0;34m\u001b[0m\u001b[0m\n",
      "\u001b[0;32m/opt/sagemath-9.3/local/lib/python3.7/site-packages/sage/structure/category_object.pyx\u001b[0m in \u001b[0;36msage.structure.category_object.CategoryObject.getattr_from_category (build/cythonized/sage/structure/category_object.c:7159)\u001b[0;34m()\u001b[0m\n\u001b[1;32m    847\u001b[0m \u001b[0;34m\u001b[0m\u001b[0m\n\u001b[0;32m--> 848\u001b[0;31m             \u001b[0mattr\u001b[0m \u001b[0;34m=\u001b[0m \u001b[0mgetattr_from_other_class\u001b[0m\u001b[0;34m(\u001b[0m\u001b[0mself\u001b[0m\u001b[0;34m,\u001b[0m \u001b[0mcls\u001b[0m\u001b[0;34m,\u001b[0m \u001b[0mname\u001b[0m\u001b[0;34m)\u001b[0m\u001b[0;34m\u001b[0m\u001b[0;34m\u001b[0m\u001b[0m\n\u001b[0m\u001b[1;32m    849\u001b[0m             \u001b[0mself\u001b[0m\u001b[0;34m.\u001b[0m\u001b[0m__cached_methods\u001b[0m\u001b[0;34m[\u001b[0m\u001b[0mname\u001b[0m\u001b[0;34m]\u001b[0m \u001b[0;34m=\u001b[0m \u001b[0mattr\u001b[0m\u001b[0;34m\u001b[0m\u001b[0;34m\u001b[0m\u001b[0m\n",
      "\u001b[0;32m/opt/sagemath-9.3/local/lib/python3.7/site-packages/sage/cpython/getattr.pyx\u001b[0m in \u001b[0;36msage.cpython.getattr.getattr_from_other_class (build/cythonized/sage/cpython/getattr.c:2551)\u001b[0;34m()\u001b[0m\n\u001b[1;32m    366\u001b[0m         \u001b[0mdummy_error_message\u001b[0m\u001b[0;34m.\u001b[0m\u001b[0mname\u001b[0m \u001b[0;34m=\u001b[0m \u001b[0mname\u001b[0m\u001b[0;34m\u001b[0m\u001b[0;34m\u001b[0m\u001b[0m\n\u001b[0;32m--> 367\u001b[0;31m         \u001b[0;32mraise\u001b[0m \u001b[0mAttributeError\u001b[0m\u001b[0;34m(\u001b[0m\u001b[0mdummy_error_message\u001b[0m\u001b[0;34m)\u001b[0m\u001b[0;34m\u001b[0m\u001b[0;34m\u001b[0m\u001b[0m\n\u001b[0m\u001b[1;32m    368\u001b[0m     \u001b[0mcdef\u001b[0m \u001b[0mPyObject\u001b[0m\u001b[0;34m*\u001b[0m \u001b[0mattr\u001b[0m \u001b[0;34m=\u001b[0m \u001b[0minstance_getattr\u001b[0m\u001b[0;34m(\u001b[0m\u001b[0mcls\u001b[0m\u001b[0;34m,\u001b[0m \u001b[0mname\u001b[0m\u001b[0;34m)\u001b[0m\u001b[0;34m\u001b[0m\u001b[0;34m\u001b[0m\u001b[0m\n",
      "\u001b[0;31mAttributeError\u001b[0m: 'Singular' object has no attribute '__custom_name'",
      "\nDuring handling of the above exception, another exception occurred:\n",
      "\u001b[0;31mKeyboardInterrupt\u001b[0m                         Traceback (most recent call last)",
      "\u001b[0;32m/opt/sagemath-9.3/local/lib/python3.7/site-packages/sage/interfaces/expect.py\u001b[0m in \u001b[0;36m_eval_line\u001b[0;34m(self, line, allow_use_file, wait_for_prompt, restart_if_needed)\u001b[0m\n\u001b[1;32m    982\u001b[0m                     \u001b[0;32melse\u001b[0m\u001b[0;34m:\u001b[0m\u001b[0;34m\u001b[0m\u001b[0;34m\u001b[0m\u001b[0m\n\u001b[0;32m--> 983\u001b[0;31m                         \u001b[0mE\u001b[0m\u001b[0;34m.\u001b[0m\u001b[0mexpect\u001b[0m\u001b[0;34m(\u001b[0m\u001b[0mself\u001b[0m\u001b[0;34m.\u001b[0m\u001b[0m_prompt\u001b[0m\u001b[0;34m)\u001b[0m\u001b[0;34m\u001b[0m\u001b[0;34m\u001b[0m\u001b[0m\n\u001b[0m\u001b[1;32m    984\u001b[0m                 \u001b[0;32mexcept\u001b[0m \u001b[0mpexpect\u001b[0m\u001b[0;34m.\u001b[0m\u001b[0mEOF\u001b[0m \u001b[0;32mas\u001b[0m \u001b[0mmsg\u001b[0m\u001b[0;34m:\u001b[0m\u001b[0;34m\u001b[0m\u001b[0;34m\u001b[0m\u001b[0m\n",
      "\u001b[0;32m/opt/sagemath-9.3/local/lib/python3.7/site-packages/pexpect/spawnbase.py\u001b[0m in \u001b[0;36mexpect\u001b[0;34m(self, pattern, timeout, searchwindowsize, async_, **kw)\u001b[0m\n\u001b[1;32m    343\u001b[0m         return self.expect_list(compiled_pattern_list,\n\u001b[0;32m--> 344\u001b[0;31m                 timeout, searchwindowsize, async_)\n\u001b[0m\u001b[1;32m    345\u001b[0m \u001b[0;34m\u001b[0m\u001b[0m\n",
      "\u001b[0;32m/opt/sagemath-9.3/local/lib/python3.7/site-packages/pexpect/spawnbase.py\u001b[0m in \u001b[0;36mexpect_list\u001b[0;34m(self, pattern_list, timeout, searchwindowsize, async_, **kw)\u001b[0m\n\u001b[1;32m    371\u001b[0m         \u001b[0;32melse\u001b[0m\u001b[0;34m:\u001b[0m\u001b[0;34m\u001b[0m\u001b[0;34m\u001b[0m\u001b[0m\n\u001b[0;32m--> 372\u001b[0;31m             \u001b[0;32mreturn\u001b[0m \u001b[0mexp\u001b[0m\u001b[0;34m.\u001b[0m\u001b[0mexpect_loop\u001b[0m\u001b[0;34m(\u001b[0m\u001b[0mtimeout\u001b[0m\u001b[0;34m)\u001b[0m\u001b[0;34m\u001b[0m\u001b[0;34m\u001b[0m\u001b[0m\n\u001b[0m\u001b[1;32m    373\u001b[0m \u001b[0;34m\u001b[0m\u001b[0m\n",
      "\u001b[0;32m/opt/sagemath-9.3/local/lib/python3.7/site-packages/pexpect/expect.py\u001b[0m in \u001b[0;36mexpect_loop\u001b[0;34m(self, timeout)\u001b[0m\n\u001b[1;32m    168\u001b[0m                 \u001b[0;31m# Still have time left, so read more data\u001b[0m\u001b[0;34m\u001b[0m\u001b[0;34m\u001b[0m\u001b[0;34m\u001b[0m\u001b[0m\n\u001b[0;32m--> 169\u001b[0;31m                 \u001b[0mincoming\u001b[0m \u001b[0;34m=\u001b[0m \u001b[0mspawn\u001b[0m\u001b[0;34m.\u001b[0m\u001b[0mread_nonblocking\u001b[0m\u001b[0;34m(\u001b[0m\u001b[0mspawn\u001b[0m\u001b[0;34m.\u001b[0m\u001b[0mmaxread\u001b[0m\u001b[0;34m,\u001b[0m \u001b[0mtimeout\u001b[0m\u001b[0;34m)\u001b[0m\u001b[0;34m\u001b[0m\u001b[0;34m\u001b[0m\u001b[0m\n\u001b[0m\u001b[1;32m    170\u001b[0m                 \u001b[0;32mif\u001b[0m \u001b[0mself\u001b[0m\u001b[0;34m.\u001b[0m\u001b[0mspawn\u001b[0m\u001b[0;34m.\u001b[0m\u001b[0mdelayafterread\u001b[0m \u001b[0;32mis\u001b[0m \u001b[0;32mnot\u001b[0m \u001b[0;32mNone\u001b[0m\u001b[0;34m:\u001b[0m\u001b[0;34m\u001b[0m\u001b[0;34m\u001b[0m\u001b[0m\n",
      "\u001b[0;32m/opt/sagemath-9.3/local/lib/python3.7/site-packages/pexpect/pty_spawn.py\u001b[0m in \u001b[0;36mread_nonblocking\u001b[0;34m(self, size, timeout)\u001b[0m\n\u001b[1;32m    459\u001b[0m             \u001b[0;32mtry\u001b[0m\u001b[0;34m:\u001b[0m\u001b[0;34m\u001b[0m\u001b[0;34m\u001b[0m\u001b[0m\n\u001b[0;32m--> 460\u001b[0;31m                 \u001b[0mincoming\u001b[0m \u001b[0;34m=\u001b[0m \u001b[0msuper\u001b[0m\u001b[0;34m(\u001b[0m\u001b[0mspawn\u001b[0m\u001b[0;34m,\u001b[0m \u001b[0mself\u001b[0m\u001b[0;34m)\u001b[0m\u001b[0;34m.\u001b[0m\u001b[0mread_nonblocking\u001b[0m\u001b[0;34m(\u001b[0m\u001b[0msize\u001b[0m\u001b[0;34m)\u001b[0m\u001b[0;34m\u001b[0m\u001b[0;34m\u001b[0m\u001b[0m\n\u001b[0m\u001b[1;32m    461\u001b[0m             \u001b[0;32mexcept\u001b[0m \u001b[0mEOF\u001b[0m\u001b[0;34m:\u001b[0m\u001b[0;34m\u001b[0m\u001b[0;34m\u001b[0m\u001b[0m\n",
      "\u001b[0;32m/opt/sagemath-9.3/local/lib/python3.7/site-packages/pexpect/spawnbase.py\u001b[0m in \u001b[0;36mread_nonblocking\u001b[0;34m(self, size, timeout)\u001b[0m\n\u001b[1;32m    168\u001b[0m         \u001b[0;32mtry\u001b[0m\u001b[0;34m:\u001b[0m\u001b[0;34m\u001b[0m\u001b[0;34m\u001b[0m\u001b[0m\n\u001b[0;32m--> 169\u001b[0;31m             \u001b[0ms\u001b[0m \u001b[0;34m=\u001b[0m \u001b[0mos\u001b[0m\u001b[0;34m.\u001b[0m\u001b[0mread\u001b[0m\u001b[0;34m(\u001b[0m\u001b[0mself\u001b[0m\u001b[0;34m.\u001b[0m\u001b[0mchild_fd\u001b[0m\u001b[0;34m,\u001b[0m \u001b[0msize\u001b[0m\u001b[0;34m)\u001b[0m\u001b[0;34m\u001b[0m\u001b[0;34m\u001b[0m\u001b[0m\n\u001b[0m\u001b[1;32m    170\u001b[0m         \u001b[0;32mexcept\u001b[0m \u001b[0mOSError\u001b[0m \u001b[0;32mas\u001b[0m \u001b[0merr\u001b[0m\u001b[0;34m:\u001b[0m\u001b[0;34m\u001b[0m\u001b[0;34m\u001b[0m\u001b[0m\n",
      "\u001b[0;32msrc/cysignals/signals.pyx\u001b[0m in \u001b[0;36mcysignals.signals.python_check_interrupt\u001b[0;34m()\u001b[0m\n",
      "\u001b[0;31mKeyboardInterrupt\u001b[0m: ",
      "\nDuring handling of the above exception, another exception occurred:\n",
      "\u001b[0;31mKeyboardInterrupt\u001b[0m                         Traceback (most recent call last)",
      "\u001b[0;32m<ipython-input-138-3a730cc99e80>\u001b[0m in \u001b[0;36m<module>\u001b[0;34m\u001b[0m\n\u001b[1;32m      2\u001b[0m \u001b[0mkernel33\u001b[0m \u001b[0;34m=\u001b[0m \u001b[0;34m[\u001b[0m\u001b[0mInteger\u001b[0m\u001b[0;34m(\u001b[0m\u001b[0;36m2\u001b[0m\u001b[0;34m)\u001b[0m \u001b[0;34m*\u001b[0m \u001b[0mD\u001b[0m \u001b[0;32mfor\u001b[0m \u001b[0mD\u001b[0m \u001b[0;32min\u001b[0m \u001b[0mpoints\u001b[0m\u001b[0;34m[\u001b[0m\u001b[0;34m:\u001b[0m\u001b[0mInteger\u001b[0m\u001b[0;34m(\u001b[0m\u001b[0;36m2\u001b[0m\u001b[0;34m)\u001b[0m\u001b[0;34m]\u001b[0m\u001b[0;34m]\u001b[0m\u001b[0;34m\u001b[0m\u001b[0;34m\u001b[0m\u001b[0m\n\u001b[1;32m      3\u001b[0m \u001b[0mK\u001b[0m \u001b[0;34m=\u001b[0m \u001b[0mFp\u001b[0m\u001b[0;34m\u001b[0m\u001b[0;34m\u001b[0m\u001b[0m\n\u001b[0;32m----> 4\u001b[0;31m \u001b[0mj\u001b[0m\u001b[0;34m,\u001b[0m \u001b[0mpoints\u001b[0m \u001b[0;34m=\u001b[0m \u001b[0misogeny_33\u001b[0m\u001b[0;34m(\u001b[0m\u001b[0mkernel33\u001b[0m\u001b[0;34m,\u001b[0m \u001b[0mpoints\u001b[0m\u001b[0;34m,\u001b[0m \u001b[0mb\u001b[0m\u001b[0;34m)\u001b[0m\u001b[0;34m\u001b[0m\u001b[0;34m\u001b[0m\u001b[0m\n\u001b[0m",
      "\u001b[0;32m<string>\u001b[0m in \u001b[0;36misogeny_33\u001b[0;34m(J_kernel, eval_points, n)\u001b[0m\n",
      "\u001b[0;32m<string>\u001b[0m in \u001b[0;36mBFT_evaluation\u001b[0;34m(kernel, points)\u001b[0m\n",
      "\u001b[0;32m/opt/sagemath-9.3/local/lib/python3.7/site-packages/sage/schemes/hyperelliptic_curves/kummer_surface.py\u001b[0m in \u001b[0;36m__init__\u001b[0;34m(self, J)\u001b[0m\n\u001b[1;32m     93\u001b[0m         \u001b[0;32mif\u001b[0m \u001b[0ma0\u001b[0m \u001b[0;34m==\u001b[0m \u001b[0;36m0\u001b[0m\u001b[0;34m:\u001b[0m\u001b[0;34m\u001b[0m\u001b[0;34m\u001b[0m\u001b[0m\n\u001b[1;32m     94\u001b[0m             \u001b[0ma0\u001b[0m \u001b[0;34m=\u001b[0m \u001b[0ma2\u001b[0m\u001b[0;34m\u001b[0m\u001b[0;34m\u001b[0m\u001b[0m\n\u001b[0;32m---> 95\u001b[0;31m         \u001b[0mphi\u001b[0m \u001b[0;34m=\u001b[0m \u001b[0mHom\u001b[0m\u001b[0;34m(\u001b[0m\u001b[0mC\u001b[0m\u001b[0;34m,\u001b[0m \u001b[0mself\u001b[0m\u001b[0;34m)\u001b[0m\u001b[0;34m(\u001b[0m\u001b[0;34m[\u001b[0m\u001b[0mX\u001b[0m\u001b[0;34m.\u001b[0m\u001b[0mparent\u001b[0m\u001b[0;34m(\u001b[0m\u001b[0;34m)\u001b[0m\u001b[0;34m.\u001b[0m\u001b[0mzero\u001b[0m\u001b[0;34m(\u001b[0m\u001b[0;34m)\u001b[0m\u001b[0;34m,\u001b[0m \u001b[0mZ\u001b[0m\u001b[0;34m**\u001b[0m\u001b[0;36m2\u001b[0m\u001b[0;34m,\u001b[0m \u001b[0mX\u001b[0m\u001b[0;34m*\u001b[0m\u001b[0mZ\u001b[0m\u001b[0;34m,\u001b[0m \u001b[0ma0\u001b[0m\u001b[0;34m*\u001b[0m\u001b[0mX\u001b[0m\u001b[0;34m**\u001b[0m\u001b[0;36m2\u001b[0m\u001b[0;34m]\u001b[0m\u001b[0;34m,\u001b[0m \u001b[0mSchemes\u001b[0m\u001b[0;34m(\u001b[0m\u001b[0;34m)\u001b[0m\u001b[0;34m)\u001b[0m\u001b[0;34m\u001b[0m\u001b[0;34m\u001b[0m\u001b[0m\n\u001b[0m\u001b[1;32m     96\u001b[0m         \u001b[0mC\u001b[0m\u001b[0;34m.\u001b[0m\u001b[0m_kummer_morphism\u001b[0m \u001b[0;34m=\u001b[0m \u001b[0mphi\u001b[0m\u001b[0;34m\u001b[0m\u001b[0;34m\u001b[0m\u001b[0m\n\u001b[1;32m     97\u001b[0m         \u001b[0mJ\u001b[0m\u001b[0;34m.\u001b[0m\u001b[0m_kummer_surface\u001b[0m \u001b[0;34m=\u001b[0m \u001b[0mself\u001b[0m\u001b[0;34m\u001b[0m\u001b[0;34m\u001b[0m\u001b[0m\n",
      "\u001b[0;32m/opt/sagemath-9.3/local/lib/python3.7/site-packages/sage/schemes/generic/homset.py\u001b[0m in \u001b[0;36m__call__\u001b[0;34m(self, *args, **kwds)\u001b[0m\n\u001b[1;32m    272\u001b[0m         \"\"\"\n\u001b[1;32m    273\u001b[0m         \u001b[0;31m# Homset (base of HomsetWithBase) overrides __call__ @#$\u001b[0m\u001b[0;34m\u001b[0m\u001b[0;34m\u001b[0m\u001b[0;34m\u001b[0m\u001b[0m\n\u001b[0;32m--> 274\u001b[0;31m         \u001b[0;32mreturn\u001b[0m \u001b[0mSet_generic\u001b[0m\u001b[0;34m.\u001b[0m\u001b[0m__call__\u001b[0m\u001b[0;34m(\u001b[0m\u001b[0mself\u001b[0m\u001b[0;34m,\u001b[0m \u001b[0;34m*\u001b[0m\u001b[0margs\u001b[0m\u001b[0;34m,\u001b[0m \u001b[0;34m**\u001b[0m\u001b[0mkwds\u001b[0m\u001b[0;34m)\u001b[0m\u001b[0;34m\u001b[0m\u001b[0;34m\u001b[0m\u001b[0m\n\u001b[0m\u001b[1;32m    275\u001b[0m \u001b[0;34m\u001b[0m\u001b[0m\n\u001b[1;32m    276\u001b[0m     \u001b[0;32mdef\u001b[0m \u001b[0m_repr_\u001b[0m\u001b[0;34m(\u001b[0m\u001b[0mself\u001b[0m\u001b[0;34m)\u001b[0m\u001b[0;34m:\u001b[0m\u001b[0;34m\u001b[0m\u001b[0;34m\u001b[0m\u001b[0m\n",
      "\u001b[0;32m/opt/sagemath-9.3/local/lib/python3.7/site-packages/sage/structure/parent.pyx\u001b[0m in \u001b[0;36msage.structure.parent.Parent.__call__ (build/cythonized/sage/structure/parent.c:9363)\u001b[0;34m()\u001b[0m\n\u001b[1;32m    898\u001b[0m                 \u001b[0;32mreturn\u001b[0m \u001b[0mmor\u001b[0m\u001b[0;34m.\u001b[0m\u001b[0m_call_\u001b[0m\u001b[0;34m(\u001b[0m\u001b[0mx\u001b[0m\u001b[0;34m)\u001b[0m\u001b[0;34m\u001b[0m\u001b[0;34m\u001b[0m\u001b[0m\n\u001b[1;32m    899\u001b[0m             \u001b[0;32melse\u001b[0m\u001b[0;34m:\u001b[0m\u001b[0;34m\u001b[0m\u001b[0;34m\u001b[0m\u001b[0m\n\u001b[0;32m--> 900\u001b[0;31m                 \u001b[0;32mreturn\u001b[0m \u001b[0mmor\u001b[0m\u001b[0;34m.\u001b[0m\u001b[0m_call_with_args\u001b[0m\u001b[0;34m(\u001b[0m\u001b[0mx\u001b[0m\u001b[0;34m,\u001b[0m \u001b[0margs\u001b[0m\u001b[0;34m,\u001b[0m \u001b[0mkwds\u001b[0m\u001b[0;34m)\u001b[0m\u001b[0;34m\u001b[0m\u001b[0;34m\u001b[0m\u001b[0m\n\u001b[0m\u001b[1;32m    901\u001b[0m \u001b[0;34m\u001b[0m\u001b[0m\n\u001b[1;32m    902\u001b[0m         \u001b[0;32mraise\u001b[0m \u001b[0mTypeError\u001b[0m\u001b[0;34m(\u001b[0m\u001b[0m_LazyString\u001b[0m\u001b[0;34m(\u001b[0m\u001b[0m_lazy_format\u001b[0m\u001b[0;34m,\u001b[0m \u001b[0;34m(\u001b[0m\u001b[0;34m\"No conversion defined from %s to %s\"\u001b[0m\u001b[0;34m,\u001b[0m \u001b[0mR\u001b[0m\u001b[0;34m,\u001b[0m \u001b[0mself\u001b[0m\u001b[0;34m)\u001b[0m\u001b[0;34m,\u001b[0m \u001b[0;34m{\u001b[0m\u001b[0;34m}\u001b[0m\u001b[0;34m)\u001b[0m\u001b[0;34m)\u001b[0m\u001b[0;34m\u001b[0m\u001b[0;34m\u001b[0m\u001b[0m\n",
      "\u001b[0;32m/opt/sagemath-9.3/local/lib/python3.7/site-packages/sage/structure/coerce_maps.pyx\u001b[0m in \u001b[0;36msage.structure.coerce_maps.DefaultConvertMap_unique._call_with_args (build/cythonized/sage/structure/coerce_maps.c:4993)\u001b[0;34m()\u001b[0m\n\u001b[1;32m    171\u001b[0m             \u001b[0;32melse\u001b[0m\u001b[0;34m:\u001b[0m\u001b[0;34m\u001b[0m\u001b[0;34m\u001b[0m\u001b[0m\n\u001b[1;32m    172\u001b[0m                 \u001b[0;32mif\u001b[0m \u001b[0mlen\u001b[0m\u001b[0;34m(\u001b[0m\u001b[0mkwds\u001b[0m\u001b[0;34m)\u001b[0m \u001b[0;34m==\u001b[0m \u001b[0;36m0\u001b[0m\u001b[0;34m:\u001b[0m\u001b[0;34m\u001b[0m\u001b[0;34m\u001b[0m\u001b[0m\n\u001b[0;32m--> 173\u001b[0;31m                     \u001b[0;32mreturn\u001b[0m \u001b[0mC\u001b[0m\u001b[0;34m.\u001b[0m\u001b[0m_element_constructor\u001b[0m\u001b[0;34m(\u001b[0m\u001b[0mx\u001b[0m\u001b[0;34m,\u001b[0m \u001b[0;34m*\u001b[0m\u001b[0margs\u001b[0m\u001b[0;34m)\u001b[0m\u001b[0;34m\u001b[0m\u001b[0;34m\u001b[0m\u001b[0m\n\u001b[0m\u001b[1;32m    174\u001b[0m                 \u001b[0;32melse\u001b[0m\u001b[0;34m:\u001b[0m\u001b[0;34m\u001b[0m\u001b[0;34m\u001b[0m\u001b[0m\n\u001b[1;32m    175\u001b[0m                     \u001b[0;32mreturn\u001b[0m \u001b[0mC\u001b[0m\u001b[0;34m.\u001b[0m\u001b[0m_element_constructor\u001b[0m\u001b[0;34m(\u001b[0m\u001b[0mx\u001b[0m\u001b[0;34m,\u001b[0m \u001b[0;34m*\u001b[0m\u001b[0margs\u001b[0m\u001b[0;34m,\u001b[0m \u001b[0;34m**\u001b[0m\u001b[0mkwds\u001b[0m\u001b[0;34m)\u001b[0m\u001b[0;34m\u001b[0m\u001b[0;34m\u001b[0m\u001b[0m\n",
      "\u001b[0;32m/opt/sagemath-9.3/local/lib/python3.7/site-packages/sage/schemes/generic/homset.py\u001b[0m in \u001b[0;36m_element_constructor_\u001b[0;34m(self, x, check)\u001b[0m\n\u001b[1;32m    381\u001b[0m         \"\"\"\n\u001b[1;32m    382\u001b[0m         \u001b[0;32mif\u001b[0m \u001b[0misinstance\u001b[0m\u001b[0;34m(\u001b[0m\u001b[0mx\u001b[0m\u001b[0;34m,\u001b[0m \u001b[0;34m(\u001b[0m\u001b[0mlist\u001b[0m\u001b[0;34m,\u001b[0m \u001b[0mtuple\u001b[0m\u001b[0;34m)\u001b[0m\u001b[0;34m)\u001b[0m\u001b[0;34m:\u001b[0m\u001b[0;34m\u001b[0m\u001b[0;34m\u001b[0m\u001b[0m\n\u001b[0;32m--> 383\u001b[0;31m             \u001b[0;32mreturn\u001b[0m \u001b[0mself\u001b[0m\u001b[0;34m.\u001b[0m\u001b[0mdomain\u001b[0m\u001b[0;34m(\u001b[0m\u001b[0;34m)\u001b[0m\u001b[0;34m.\u001b[0m\u001b[0m_morphism\u001b[0m\u001b[0;34m(\u001b[0m\u001b[0mself\u001b[0m\u001b[0;34m,\u001b[0m \u001b[0mx\u001b[0m\u001b[0;34m,\u001b[0m \u001b[0mcheck\u001b[0m\u001b[0;34m=\u001b[0m\u001b[0mcheck\u001b[0m\u001b[0;34m)\u001b[0m\u001b[0;34m\u001b[0m\u001b[0;34m\u001b[0m\u001b[0m\n\u001b[0m\u001b[1;32m    384\u001b[0m \u001b[0;34m\u001b[0m\u001b[0m\n\u001b[1;32m    385\u001b[0m         \u001b[0;32mfrom\u001b[0m \u001b[0msage\u001b[0m\u001b[0;34m.\u001b[0m\u001b[0mcategories\u001b[0m\u001b[0;34m.\u001b[0m\u001b[0mmap\u001b[0m \u001b[0;32mimport\u001b[0m \u001b[0mMap\u001b[0m\u001b[0;34m\u001b[0m\u001b[0;34m\u001b[0m\u001b[0m\n",
      "\u001b[0;32m/opt/sagemath-9.3/local/lib/python3.7/site-packages/sage/schemes/projective/projective_subscheme.py\u001b[0m in \u001b[0;36m_morphism\u001b[0;34m(self, *args, **kwds)\u001b[0m\n\u001b[1;32m   1282\u001b[0m                 \u001b[0;34m(\u001b[0m\u001b[0mx\u001b[0m\u001b[0;34m^\u001b[0m\u001b[0;36m2\u001b[0m \u001b[0;34m:\u001b[0m \u001b[0mx\u001b[0m\u001b[0;34m*\u001b[0m\u001b[0my\u001b[0m \u001b[0;34m:\u001b[0m \u001b[0my\u001b[0m\u001b[0;34m^\u001b[0m\u001b[0;36m2\u001b[0m\u001b[0;34m)\u001b[0m\u001b[0;34m\u001b[0m\u001b[0;34m\u001b[0m\u001b[0m\n\u001b[1;32m   1283\u001b[0m         \"\"\"\n\u001b[0;32m-> 1284\u001b[0;31m         \u001b[0;32mreturn\u001b[0m \u001b[0mSchemeMorphism_polynomial_projective_subscheme_field\u001b[0m\u001b[0;34m(\u001b[0m\u001b[0;34m*\u001b[0m\u001b[0margs\u001b[0m\u001b[0;34m,\u001b[0m \u001b[0;34m**\u001b[0m\u001b[0mkwds\u001b[0m\u001b[0;34m)\u001b[0m\u001b[0;34m\u001b[0m\u001b[0;34m\u001b[0m\u001b[0m\n\u001b[0m\u001b[1;32m   1285\u001b[0m \u001b[0;34m\u001b[0m\u001b[0m\n\u001b[1;32m   1286\u001b[0m     \u001b[0;32mdef\u001b[0m \u001b[0mChow_form\u001b[0m\u001b[0;34m(\u001b[0m\u001b[0mself\u001b[0m\u001b[0;34m)\u001b[0m\u001b[0;34m:\u001b[0m\u001b[0;34m\u001b[0m\u001b[0;34m\u001b[0m\u001b[0m\n",
      "\u001b[0;32m/opt/sagemath-9.3/local/lib/python3.7/site-packages/sage/schemes/projective/projective_morphism.py\u001b[0m in \u001b[0;36m__init__\u001b[0;34m(self, parent, polys, check)\u001b[0m\n\u001b[1;32m    267\u001b[0m                         \u001b[0;32mraise\u001b[0m \u001b[0mValueError\u001b[0m\u001b[0;34m(\u001b[0m\u001b[0;34m\"polys (={}) must be of the same degree\"\u001b[0m\u001b[0;34m.\u001b[0m\u001b[0mformat\u001b[0m\u001b[0;34m(\u001b[0m\u001b[0mpolys\u001b[0m\u001b[0;34m)\u001b[0m\u001b[0;34m)\u001b[0m\u001b[0;34m\u001b[0m\u001b[0;34m\u001b[0m\u001b[0m\n\u001b[1;32m    268\u001b[0m \u001b[0;34m\u001b[0m\u001b[0m\n\u001b[0;32m--> 269\u001b[0;31m                     \u001b[0mpolys\u001b[0m \u001b[0;34m=\u001b[0m \u001b[0;34m[\u001b[0m\u001b[0;34m(\u001b[0m\u001b[0ml\u001b[0m\u001b[0;34m*\u001b[0m\u001b[0mf\u001b[0m\u001b[0;34m)\u001b[0m\u001b[0;34m.\u001b[0m\u001b[0mnumerator\u001b[0m\u001b[0;34m(\u001b[0m\u001b[0;34m)\u001b[0m \u001b[0;32mfor\u001b[0m \u001b[0mf\u001b[0m \u001b[0;32min\u001b[0m \u001b[0mpolys\u001b[0m\u001b[0;34m]\u001b[0m\u001b[0;34m\u001b[0m\u001b[0;34m\u001b[0m\u001b[0m\n\u001b[0m\u001b[1;32m    270\u001b[0m                 \u001b[0;32melif\u001b[0m \u001b[0mparent\u001b[0m\u001b[0;34m.\u001b[0m\u001b[0mcodomain\u001b[0m\u001b[0;34m(\u001b[0m\u001b[0;34m)\u001b[0m\u001b[0;34m.\u001b[0m\u001b[0mis_affine\u001b[0m\u001b[0;34m(\u001b[0m\u001b[0;34m)\u001b[0m\u001b[0;34m:\u001b[0m\u001b[0;34m\u001b[0m\u001b[0;34m\u001b[0m\u001b[0m\n\u001b[1;32m    271\u001b[0m                     \u001b[0;32mfor\u001b[0m \u001b[0mf\u001b[0m \u001b[0;32min\u001b[0m \u001b[0mpolys\u001b[0m\u001b[0;34m:\u001b[0m\u001b[0;34m\u001b[0m\u001b[0;34m\u001b[0m\u001b[0m\n",
      "\u001b[0;32m/opt/sagemath-9.3/local/lib/python3.7/site-packages/sage/schemes/projective/projective_morphism.py\u001b[0m in \u001b[0;36m<listcomp>\u001b[0;34m(.0)\u001b[0m\n\u001b[1;32m    267\u001b[0m                         \u001b[0;32mraise\u001b[0m \u001b[0mValueError\u001b[0m\u001b[0;34m(\u001b[0m\u001b[0;34m\"polys (={}) must be of the same degree\"\u001b[0m\u001b[0;34m.\u001b[0m\u001b[0mformat\u001b[0m\u001b[0;34m(\u001b[0m\u001b[0mpolys\u001b[0m\u001b[0;34m)\u001b[0m\u001b[0;34m)\u001b[0m\u001b[0;34m\u001b[0m\u001b[0;34m\u001b[0m\u001b[0m\n\u001b[1;32m    268\u001b[0m \u001b[0;34m\u001b[0m\u001b[0m\n\u001b[0;32m--> 269\u001b[0;31m                     \u001b[0mpolys\u001b[0m \u001b[0;34m=\u001b[0m \u001b[0;34m[\u001b[0m\u001b[0;34m(\u001b[0m\u001b[0ml\u001b[0m\u001b[0;34m*\u001b[0m\u001b[0mf\u001b[0m\u001b[0;34m)\u001b[0m\u001b[0;34m.\u001b[0m\u001b[0mnumerator\u001b[0m\u001b[0;34m(\u001b[0m\u001b[0;34m)\u001b[0m \u001b[0;32mfor\u001b[0m \u001b[0mf\u001b[0m \u001b[0;32min\u001b[0m \u001b[0mpolys\u001b[0m\u001b[0;34m]\u001b[0m\u001b[0;34m\u001b[0m\u001b[0;34m\u001b[0m\u001b[0m\n\u001b[0m\u001b[1;32m    270\u001b[0m                 \u001b[0;32melif\u001b[0m \u001b[0mparent\u001b[0m\u001b[0;34m.\u001b[0m\u001b[0mcodomain\u001b[0m\u001b[0;34m(\u001b[0m\u001b[0;34m)\u001b[0m\u001b[0;34m.\u001b[0m\u001b[0mis_affine\u001b[0m\u001b[0;34m(\u001b[0m\u001b[0;34m)\u001b[0m\u001b[0;34m:\u001b[0m\u001b[0;34m\u001b[0m\u001b[0;34m\u001b[0m\u001b[0m\n\u001b[1;32m    271\u001b[0m                     \u001b[0;32mfor\u001b[0m \u001b[0mf\u001b[0m \u001b[0;32min\u001b[0m \u001b[0mpolys\u001b[0m\u001b[0;34m:\u001b[0m\u001b[0;34m\u001b[0m\u001b[0;34m\u001b[0m\u001b[0m\n",
      "\u001b[0;32m/opt/sagemath-9.3/local/lib/python3.7/site-packages/sage/structure/element.pyx\u001b[0m in \u001b[0;36msage.structure.element.Element.__mul__ (build/cythonized/sage/structure/element.c:12205)\u001b[0;34m()\u001b[0m\n\u001b[1;32m   1513\u001b[0m             \u001b[0;32mreturn\u001b[0m \u001b[0;34m(\u001b[0m\u001b[0;34m<\u001b[0m\u001b[0mElement\u001b[0m\u001b[0;34m>\u001b[0m\u001b[0mleft\u001b[0m\u001b[0;34m)\u001b[0m\u001b[0;34m.\u001b[0m\u001b[0m_mul_\u001b[0m\u001b[0;34m(\u001b[0m\u001b[0mright\u001b[0m\u001b[0;34m)\u001b[0m\u001b[0;34m\u001b[0m\u001b[0;34m\u001b[0m\u001b[0m\n\u001b[1;32m   1514\u001b[0m         \u001b[0;32mif\u001b[0m \u001b[0mBOTH_ARE_ELEMENT\u001b[0m\u001b[0;34m(\u001b[0m\u001b[0mcl\u001b[0m\u001b[0;34m)\u001b[0m\u001b[0;34m:\u001b[0m\u001b[0;34m\u001b[0m\u001b[0;34m\u001b[0m\u001b[0m\n\u001b[0;32m-> 1515\u001b[0;31m             \u001b[0;32mreturn\u001b[0m \u001b[0mcoercion_model\u001b[0m\u001b[0;34m.\u001b[0m\u001b[0mbin_op\u001b[0m\u001b[0;34m(\u001b[0m\u001b[0mleft\u001b[0m\u001b[0;34m,\u001b[0m \u001b[0mright\u001b[0m\u001b[0;34m,\u001b[0m \u001b[0mmul\u001b[0m\u001b[0;34m)\u001b[0m\u001b[0;34m\u001b[0m\u001b[0;34m\u001b[0m\u001b[0m\n\u001b[0m\u001b[1;32m   1516\u001b[0m \u001b[0;34m\u001b[0m\u001b[0m\n\u001b[1;32m   1517\u001b[0m         \u001b[0mcdef\u001b[0m \u001b[0mlong\u001b[0m \u001b[0mvalue\u001b[0m\u001b[0;34m\u001b[0m\u001b[0;34m\u001b[0m\u001b[0m\n",
      "\u001b[0;32m/opt/sagemath-9.3/local/lib/python3.7/site-packages/sage/structure/coerce.pyx\u001b[0m in \u001b[0;36msage.structure.coerce.CoercionModel.bin_op (build/cythonized/sage/structure/coerce.c:10648)\u001b[0;34m()\u001b[0m\n\u001b[1;32m   1198\u001b[0m         \u001b[0;31m# Now coerce to a common parent and do the operation there\u001b[0m\u001b[0;34m\u001b[0m\u001b[0;34m\u001b[0m\u001b[0;34m\u001b[0m\u001b[0m\n\u001b[1;32m   1199\u001b[0m         \u001b[0;32mtry\u001b[0m\u001b[0;34m:\u001b[0m\u001b[0;34m\u001b[0m\u001b[0;34m\u001b[0m\u001b[0m\n\u001b[0;32m-> 1200\u001b[0;31m             \u001b[0mxy\u001b[0m \u001b[0;34m=\u001b[0m \u001b[0mself\u001b[0m\u001b[0;34m.\u001b[0m\u001b[0mcanonical_coercion\u001b[0m\u001b[0;34m(\u001b[0m\u001b[0mx\u001b[0m\u001b[0;34m,\u001b[0m \u001b[0my\u001b[0m\u001b[0;34m)\u001b[0m\u001b[0;34m\u001b[0m\u001b[0;34m\u001b[0m\u001b[0m\n\u001b[0m\u001b[1;32m   1201\u001b[0m         \u001b[0;32mexcept\u001b[0m \u001b[0mTypeError\u001b[0m\u001b[0;34m:\u001b[0m\u001b[0;34m\u001b[0m\u001b[0;34m\u001b[0m\u001b[0m\n\u001b[1;32m   1202\u001b[0m             \u001b[0mself\u001b[0m\u001b[0;34m.\u001b[0m\u001b[0m_record_exception\u001b[0m\u001b[0;34m(\u001b[0m\u001b[0;34m)\u001b[0m\u001b[0;34m\u001b[0m\u001b[0;34m\u001b[0m\u001b[0m\n",
      "\u001b[0;32m/opt/sagemath-9.3/local/lib/python3.7/site-packages/sage/structure/coerce.pyx\u001b[0m in \u001b[0;36msage.structure.coerce.CoercionModel.canonical_coercion (build/cythonized/sage/structure/coerce.c:12123)\u001b[0;34m()\u001b[0m\n\u001b[1;32m   1309\u001b[0m             \u001b[0mx_map\u001b[0m\u001b[0;34m,\u001b[0m \u001b[0my_map\u001b[0m \u001b[0;34m=\u001b[0m \u001b[0mcoercions\u001b[0m\u001b[0;34m\u001b[0m\u001b[0;34m\u001b[0m\u001b[0m\n\u001b[1;32m   1310\u001b[0m             \u001b[0;32mif\u001b[0m \u001b[0mx_map\u001b[0m \u001b[0;32mis\u001b[0m \u001b[0;32mnot\u001b[0m \u001b[0;32mNone\u001b[0m\u001b[0;34m:\u001b[0m\u001b[0;34m\u001b[0m\u001b[0;34m\u001b[0m\u001b[0m\n\u001b[0;32m-> 1311\u001b[0;31m                 \u001b[0mx_elt\u001b[0m \u001b[0;34m=\u001b[0m \u001b[0;34m(\u001b[0m\u001b[0;34m<\u001b[0m\u001b[0mMap\u001b[0m\u001b[0;34m>\u001b[0m\u001b[0mx_map\u001b[0m\u001b[0;34m)\u001b[0m\u001b[0;34m.\u001b[0m\u001b[0m_call_\u001b[0m\u001b[0;34m(\u001b[0m\u001b[0mx\u001b[0m\u001b[0;34m)\u001b[0m\u001b[0;34m\u001b[0m\u001b[0;34m\u001b[0m\u001b[0m\n\u001b[0m\u001b[1;32m   1312\u001b[0m             \u001b[0;32melse\u001b[0m\u001b[0;34m:\u001b[0m\u001b[0;34m\u001b[0m\u001b[0;34m\u001b[0m\u001b[0m\n\u001b[1;32m   1313\u001b[0m                 \u001b[0mx_elt\u001b[0m \u001b[0;34m=\u001b[0m \u001b[0mx\u001b[0m\u001b[0;34m\u001b[0m\u001b[0;34m\u001b[0m\u001b[0m\n",
      "\u001b[0;32m/opt/sagemath-9.3/local/lib/python3.7/site-packages/sage/structure/coerce_maps.pyx\u001b[0m in \u001b[0;36msage.structure.coerce_maps.DefaultConvertMap_unique._call_ (build/cythonized/sage/structure/coerce_maps.c:4514)\u001b[0;34m()\u001b[0m\n\u001b[1;32m    154\u001b[0m         \u001b[0mcdef\u001b[0m \u001b[0mParent\u001b[0m \u001b[0mC\u001b[0m \u001b[0;34m=\u001b[0m \u001b[0mself\u001b[0m\u001b[0;34m.\u001b[0m\u001b[0m_codomain\u001b[0m\u001b[0;34m\u001b[0m\u001b[0;34m\u001b[0m\u001b[0m\n\u001b[1;32m    155\u001b[0m         \u001b[0;32mtry\u001b[0m\u001b[0;34m:\u001b[0m\u001b[0;34m\u001b[0m\u001b[0;34m\u001b[0m\u001b[0m\n\u001b[0;32m--> 156\u001b[0;31m             \u001b[0;32mreturn\u001b[0m \u001b[0mC\u001b[0m\u001b[0;34m.\u001b[0m\u001b[0m_element_constructor\u001b[0m\u001b[0;34m(\u001b[0m\u001b[0mx\u001b[0m\u001b[0;34m)\u001b[0m\u001b[0;34m\u001b[0m\u001b[0;34m\u001b[0m\u001b[0m\n\u001b[0m\u001b[1;32m    157\u001b[0m         \u001b[0;32mexcept\u001b[0m \u001b[0mException\u001b[0m\u001b[0;34m:\u001b[0m\u001b[0;34m\u001b[0m\u001b[0;34m\u001b[0m\u001b[0m\n\u001b[1;32m    158\u001b[0m             \u001b[0;32mif\u001b[0m \u001b[0mprint_warnings\u001b[0m\u001b[0;34m:\u001b[0m\u001b[0;34m\u001b[0m\u001b[0;34m\u001b[0m\u001b[0m\n",
      "\u001b[0;32m/opt/sagemath-9.3/local/lib/python3.7/site-packages/sage/rings/fraction_field.py\u001b[0m in \u001b[0;36m_element_constructor_\u001b[0;34m(self, x, y, coerce)\u001b[0m\n\u001b[1;32m    624\u001b[0m             \u001b[0mring_one\u001b[0m \u001b[0;34m=\u001b[0m \u001b[0mself\u001b[0m\u001b[0;34m.\u001b[0m\u001b[0mring\u001b[0m\u001b[0;34m(\u001b[0m\u001b[0;34m)\u001b[0m\u001b[0;34m.\u001b[0m\u001b[0mone\u001b[0m\u001b[0;34m(\u001b[0m\u001b[0;34m)\u001b[0m\u001b[0;34m\u001b[0m\u001b[0;34m\u001b[0m\u001b[0m\n\u001b[1;32m    625\u001b[0m             \u001b[0;32mtry\u001b[0m\u001b[0;34m:\u001b[0m\u001b[0;34m\u001b[0m\u001b[0;34m\u001b[0m\u001b[0m\n\u001b[0;32m--> 626\u001b[0;31m                 \u001b[0;32mreturn\u001b[0m \u001b[0mself\u001b[0m\u001b[0;34m.\u001b[0m\u001b[0m_element_class\u001b[0m\u001b[0;34m(\u001b[0m\u001b[0mself\u001b[0m\u001b[0;34m,\u001b[0m \u001b[0mx\u001b[0m\u001b[0;34m,\u001b[0m \u001b[0mring_one\u001b[0m\u001b[0;34m,\u001b[0m \u001b[0mcoerce\u001b[0m\u001b[0;34m=\u001b[0m\u001b[0mcoerce\u001b[0m\u001b[0;34m)\u001b[0m\u001b[0;34m\u001b[0m\u001b[0;34m\u001b[0m\u001b[0m\n\u001b[0m\u001b[1;32m    627\u001b[0m             \u001b[0;32mexcept\u001b[0m \u001b[0;34m(\u001b[0m\u001b[0mTypeError\u001b[0m\u001b[0;34m,\u001b[0m \u001b[0mValueError\u001b[0m\u001b[0;34m)\u001b[0m\u001b[0;34m:\u001b[0m\u001b[0;34m\u001b[0m\u001b[0;34m\u001b[0m\u001b[0m\n\u001b[1;32m    628\u001b[0m                 \u001b[0;32mpass\u001b[0m\u001b[0;34m\u001b[0m\u001b[0;34m\u001b[0m\u001b[0m\n",
      "\u001b[0;32m/opt/sagemath-9.3/local/lib/python3.7/site-packages/sage/rings/fraction_field_element.pyx\u001b[0m in \u001b[0;36msage.rings.fraction_field_element.FractionFieldElement.__init__ (build/cythonized/sage/rings/fraction_field_element.c:3119)\u001b[0;34m()\u001b[0m\n\u001b[1;32m    119\u001b[0m         \u001b[0;32mif\u001b[0m \u001b[0mreduce\u001b[0m \u001b[0;32mand\u001b[0m \u001b[0mparent\u001b[0m\u001b[0;34m.\u001b[0m\u001b[0mis_exact\u001b[0m\u001b[0;34m(\u001b[0m\u001b[0;34m)\u001b[0m\u001b[0;34m:\u001b[0m\u001b[0;34m\u001b[0m\u001b[0;34m\u001b[0m\u001b[0m\n\u001b[1;32m    120\u001b[0m             \u001b[0;32mtry\u001b[0m\u001b[0;34m:\u001b[0m\u001b[0;34m\u001b[0m\u001b[0;34m\u001b[0m\u001b[0m\n\u001b[0;32m--> 121\u001b[0;31m                 \u001b[0mself\u001b[0m\u001b[0;34m.\u001b[0m\u001b[0mreduce\u001b[0m\u001b[0;34m(\u001b[0m\u001b[0;34m)\u001b[0m\u001b[0;34m\u001b[0m\u001b[0;34m\u001b[0m\u001b[0m\n\u001b[0m\u001b[1;32m    122\u001b[0m             \u001b[0;32mexcept\u001b[0m \u001b[0mArithmeticError\u001b[0m\u001b[0;34m:\u001b[0m\u001b[0;34m\u001b[0m\u001b[0;34m\u001b[0m\u001b[0m\n\u001b[1;32m    123\u001b[0m                 \u001b[0;32mpass\u001b[0m\u001b[0;34m\u001b[0m\u001b[0;34m\u001b[0m\u001b[0m\n",
      "\u001b[0;32m/opt/sagemath-9.3/local/lib/python3.7/site-packages/sage/rings/fraction_field_element.pyx\u001b[0m in \u001b[0;36msage.rings.fraction_field_element.FractionFieldElement.reduce (build/cythonized/sage/rings/fraction_field_element.c:3655)\u001b[0;34m()\u001b[0m\n\u001b[1;32m    195\u001b[0m             \u001b[0;32mreturn\u001b[0m\u001b[0;34m\u001b[0m\u001b[0;34m\u001b[0m\u001b[0m\n\u001b[1;32m    196\u001b[0m         \u001b[0;32mtry\u001b[0m\u001b[0;34m:\u001b[0m\u001b[0;34m\u001b[0m\u001b[0;34m\u001b[0m\u001b[0m\n\u001b[0;32m--> 197\u001b[0;31m             \u001b[0mg\u001b[0m \u001b[0;34m=\u001b[0m \u001b[0mself\u001b[0m\u001b[0;34m.\u001b[0m\u001b[0m__numerator\u001b[0m\u001b[0;34m.\u001b[0m\u001b[0mgcd\u001b[0m\u001b[0;34m(\u001b[0m\u001b[0mself\u001b[0m\u001b[0;34m.\u001b[0m\u001b[0m__denominator\u001b[0m\u001b[0;34m)\u001b[0m\u001b[0;34m\u001b[0m\u001b[0;34m\u001b[0m\u001b[0m\n\u001b[0m\u001b[1;32m    198\u001b[0m             \u001b[0;32mif\u001b[0m \u001b[0;32mnot\u001b[0m \u001b[0mg\u001b[0m\u001b[0;34m.\u001b[0m\u001b[0mis_unit\u001b[0m\u001b[0;34m(\u001b[0m\u001b[0;34m)\u001b[0m\u001b[0;34m:\u001b[0m\u001b[0;34m\u001b[0m\u001b[0;34m\u001b[0m\u001b[0m\n\u001b[1;32m    199\u001b[0m                 \u001b[0mself\u001b[0m\u001b[0;34m.\u001b[0m\u001b[0m__numerator\u001b[0m \u001b[0;34m//=\u001b[0m \u001b[0mg\u001b[0m\u001b[0;34m\u001b[0m\u001b[0;34m\u001b[0m\u001b[0m\n",
      "\u001b[0;32m/opt/sagemath-9.3/local/lib/python3.7/site-packages/sage/rings/polynomial/multi_polynomial.pyx\u001b[0m in \u001b[0;36msage.rings.polynomial.multi_polynomial.MPolynomial.gcd (build/cythonized/sage/rings/polynomial/multi_polynomial.c:21080)\u001b[0;34m()\u001b[0m\n\u001b[1;32m   2093\u001b[0m             \u001b[0;32mraise\u001b[0m \u001b[0mNotImplementedError\u001b[0m\u001b[0;34m(\u001b[0m\u001b[0;34m\"GCD is not implemented for multivariate polynomials over {}\"\u001b[0m\u001b[0;34m.\u001b[0m\u001b[0mformat\u001b[0m\u001b[0;34m(\u001b[0m\u001b[0mself\u001b[0m\u001b[0;34m.\u001b[0m\u001b[0m_parent\u001b[0m\u001b[0;34m.\u001b[0m\u001b[0m_mpoly_base_ring\u001b[0m\u001b[0;34m(\u001b[0m\u001b[0;34m)\u001b[0m\u001b[0;34m)\u001b[0m\u001b[0;34m)\u001b[0m\u001b[0;34m\u001b[0m\u001b[0;34m\u001b[0m\u001b[0m\n\u001b[1;32m   2094\u001b[0m         \u001b[0;32melse\u001b[0m\u001b[0;34m:\u001b[0m\u001b[0;34m\u001b[0m\u001b[0;34m\u001b[0m\u001b[0m\n\u001b[0;32m-> 2095\u001b[0;31m             \u001b[0;32mreturn\u001b[0m \u001b[0mself\u001b[0m\u001b[0;34m.\u001b[0m\u001b[0mparent\u001b[0m\u001b[0;34m(\u001b[0m\u001b[0;34m)\u001b[0m\u001b[0;34m(\u001b[0m\u001b[0mdoit\u001b[0m\u001b[0;34m(\u001b[0m\u001b[0muniself\u001b[0m\u001b[0;34m,\u001b[0m \u001b[0mother\u001b[0m\u001b[0;34m.\u001b[0m\u001b[0mpolynomial\u001b[0m\u001b[0;34m(\u001b[0m\u001b[0mx\u001b[0m\u001b[0;34m)\u001b[0m\u001b[0;34m)\u001b[0m\u001b[0;34m)\u001b[0m\u001b[0;34m\u001b[0m\u001b[0;34m\u001b[0m\u001b[0m\n\u001b[0m\u001b[1;32m   2096\u001b[0m \u001b[0;34m\u001b[0m\u001b[0m\n\u001b[1;32m   2097\u001b[0m     \u001b[0;32mdef\u001b[0m \u001b[0mnth_root\u001b[0m\u001b[0;34m(\u001b[0m\u001b[0mself\u001b[0m\u001b[0;34m,\u001b[0m \u001b[0mn\u001b[0m\u001b[0;34m)\u001b[0m\u001b[0;34m:\u001b[0m\u001b[0;34m\u001b[0m\u001b[0;34m\u001b[0m\u001b[0m\n",
      "\u001b[0;32m/opt/sagemath-9.3/local/lib/python3.7/site-packages/sage/categories/unique_factorization_domains.py\u001b[0m in \u001b[0;36m_gcd_univariate_polynomial\u001b[0;34m(self, f, g)\u001b[0m\n\u001b[1;32m    178\u001b[0m                     \u001b[0;32mbreak\u001b[0m\u001b[0;34m\u001b[0m\u001b[0;34m\u001b[0m\u001b[0m\n\u001b[1;32m    179\u001b[0m             \u001b[0;32mfor\u001b[0m \u001b[0mc\u001b[0m \u001b[0;32min\u001b[0m \u001b[0mB\u001b[0m\u001b[0;34m.\u001b[0m\u001b[0mcoefficients\u001b[0m\u001b[0;34m(\u001b[0m\u001b[0;34m)\u001b[0m\u001b[0;34m:\u001b[0m\u001b[0;34m\u001b[0m\u001b[0;34m\u001b[0m\u001b[0m\n\u001b[0;32m--> 180\u001b[0;31m                 \u001b[0mb\u001b[0m \u001b[0;34m=\u001b[0m \u001b[0mb\u001b[0m\u001b[0;34m.\u001b[0m\u001b[0mgcd\u001b[0m\u001b[0;34m(\u001b[0m\u001b[0mc\u001b[0m\u001b[0;34m)\u001b[0m\u001b[0;34m\u001b[0m\u001b[0;34m\u001b[0m\u001b[0m\n\u001b[0m\u001b[1;32m    181\u001b[0m                 \u001b[0;32mif\u001b[0m \u001b[0mb\u001b[0m\u001b[0;34m.\u001b[0m\u001b[0mis_one\u001b[0m\u001b[0;34m(\u001b[0m\u001b[0;34m)\u001b[0m\u001b[0;34m:\u001b[0m\u001b[0;34m\u001b[0m\u001b[0;34m\u001b[0m\u001b[0m\n\u001b[1;32m    182\u001b[0m                     \u001b[0;32mbreak\u001b[0m\u001b[0;34m\u001b[0m\u001b[0;34m\u001b[0m\u001b[0m\n",
      "\u001b[0;32m/opt/sagemath-9.3/local/lib/python3.7/site-packages/sage/rings/polynomial/multi_polynomial.pyx\u001b[0m in \u001b[0;36msage.rings.polynomial.multi_polynomial.MPolynomial.gcd (build/cythonized/sage/rings/polynomial/multi_polynomial.c:20731)\u001b[0;34m()\u001b[0m\n\u001b[1;32m   2079\u001b[0m \u001b[0;34m\u001b[0m\u001b[0m\n\u001b[1;32m   2080\u001b[0m         \u001b[0;32mtry\u001b[0m\u001b[0;34m:\u001b[0m\u001b[0;34m\u001b[0m\u001b[0;34m\u001b[0m\u001b[0m\n\u001b[0;32m-> 2081\u001b[0;31m             \u001b[0mself\u001b[0m\u001b[0;34m.\u001b[0m\u001b[0m_parent\u001b[0m\u001b[0;34m.\u001b[0m\u001b[0m_singular_\u001b[0m\u001b[0;34m(\u001b[0m\u001b[0;34m)\u001b[0m\u001b[0;34m.\u001b[0m\u001b[0mset_ring\u001b[0m\u001b[0;34m(\u001b[0m\u001b[0;34m)\u001b[0m\u001b[0;34m\u001b[0m\u001b[0;34m\u001b[0m\u001b[0m\n\u001b[0m\u001b[1;32m   2082\u001b[0m             \u001b[0mg\u001b[0m \u001b[0;34m=\u001b[0m \u001b[0mself\u001b[0m\u001b[0;34m.\u001b[0m\u001b[0m_singular_\u001b[0m\u001b[0;34m(\u001b[0m\u001b[0;34m)\u001b[0m\u001b[0;34m.\u001b[0m\u001b[0mgcd\u001b[0m\u001b[0;34m(\u001b[0m\u001b[0mother\u001b[0m\u001b[0;34m.\u001b[0m\u001b[0m_singular_\u001b[0m\u001b[0;34m(\u001b[0m\u001b[0;34m)\u001b[0m\u001b[0;34m)\u001b[0m\u001b[0;34m\u001b[0m\u001b[0;34m\u001b[0m\u001b[0m\n\u001b[1;32m   2083\u001b[0m             \u001b[0;32mreturn\u001b[0m \u001b[0mself\u001b[0m\u001b[0;34m.\u001b[0m\u001b[0m_parent\u001b[0m\u001b[0;34m(\u001b[0m\u001b[0mg\u001b[0m\u001b[0;34m)\u001b[0m\u001b[0;34m\u001b[0m\u001b[0;34m\u001b[0m\u001b[0m\n",
      "\u001b[0;32m/opt/sagemath-9.3/local/lib/python3.7/site-packages/sage/rings/polynomial/polynomial_singular_interface.py\u001b[0m in \u001b[0;36m_singular_\u001b[0;34m(self, singular)\u001b[0m\n\u001b[1;32m    228\u001b[0m             \u001b[0;32mreturn\u001b[0m \u001b[0mR\u001b[0m\u001b[0;34m\u001b[0m\u001b[0;34m\u001b[0m\u001b[0m\n\u001b[1;32m    229\u001b[0m         \u001b[0;32mexcept\u001b[0m \u001b[0;34m(\u001b[0m\u001b[0mAttributeError\u001b[0m\u001b[0;34m,\u001b[0m \u001b[0mValueError\u001b[0m\u001b[0;34m)\u001b[0m\u001b[0;34m:\u001b[0m\u001b[0;34m\u001b[0m\u001b[0;34m\u001b[0m\u001b[0m\n\u001b[0;32m--> 230\u001b[0;31m             \u001b[0;32mreturn\u001b[0m \u001b[0mself\u001b[0m\u001b[0;34m.\u001b[0m\u001b[0m_singular_init_\u001b[0m\u001b[0;34m(\u001b[0m\u001b[0msingular\u001b[0m\u001b[0;34m)\u001b[0m\u001b[0;34m\u001b[0m\u001b[0;34m\u001b[0m\u001b[0m\n\u001b[0m\u001b[1;32m    231\u001b[0m \u001b[0;34m\u001b[0m\u001b[0m\n\u001b[1;32m    232\u001b[0m     \u001b[0;32mdef\u001b[0m \u001b[0m_singular_init_\u001b[0m\u001b[0;34m(\u001b[0m\u001b[0mself\u001b[0m\u001b[0;34m,\u001b[0m \u001b[0msingular\u001b[0m\u001b[0;34m=\u001b[0m\u001b[0msingular\u001b[0m\u001b[0;34m)\u001b[0m\u001b[0;34m:\u001b[0m\u001b[0;34m\u001b[0m\u001b[0;34m\u001b[0m\u001b[0m\n",
      "\u001b[0;32m/opt/sagemath-9.3/local/lib/python3.7/site-packages/sage/rings/polynomial/polynomial_singular_interface.py\u001b[0m in \u001b[0;36m_singular_init_\u001b[0;34m(self, singular)\u001b[0m\n\u001b[1;32m    288\u001b[0m             \u001b[0;31m# not the prime field!\u001b[0m\u001b[0;34m\u001b[0m\u001b[0;34m\u001b[0m\u001b[0;34m\u001b[0m\u001b[0m\n\u001b[1;32m    289\u001b[0m             \u001b[0mgen\u001b[0m \u001b[0;34m=\u001b[0m \u001b[0mstr\u001b[0m\u001b[0;34m(\u001b[0m\u001b[0mbase_ring\u001b[0m\u001b[0;34m.\u001b[0m\u001b[0mgen\u001b[0m\u001b[0;34m(\u001b[0m\u001b[0;34m)\u001b[0m\u001b[0;34m)\u001b[0m\u001b[0;34m\u001b[0m\u001b[0;34m\u001b[0m\u001b[0m\n\u001b[0;32m--> 290\u001b[0;31m             \u001b[0mr\u001b[0m \u001b[0;34m=\u001b[0m \u001b[0msingular\u001b[0m\u001b[0;34m.\u001b[0m\u001b[0mring\u001b[0m\u001b[0;34m(\u001b[0m \u001b[0;34m\"(%s,%s)\"\u001b[0m\u001b[0;34m%\u001b[0m\u001b[0;34m(\u001b[0m\u001b[0mself\u001b[0m\u001b[0;34m.\u001b[0m\u001b[0mcharacteristic\u001b[0m\u001b[0;34m(\u001b[0m\u001b[0;34m)\u001b[0m\u001b[0;34m,\u001b[0m\u001b[0mgen\u001b[0m\u001b[0;34m)\u001b[0m\u001b[0;34m,\u001b[0m \u001b[0m_vars\u001b[0m\u001b[0;34m,\u001b[0m \u001b[0morder\u001b[0m\u001b[0;34m=\u001b[0m\u001b[0morder\u001b[0m\u001b[0;34m,\u001b[0m \u001b[0mcheck\u001b[0m\u001b[0;34m=\u001b[0m\u001b[0;32mFalse\u001b[0m\u001b[0;34m)\u001b[0m\u001b[0;34m\u001b[0m\u001b[0;34m\u001b[0m\u001b[0m\n\u001b[0m\u001b[1;32m    291\u001b[0m \u001b[0;34m\u001b[0m\u001b[0m\n\u001b[1;32m    292\u001b[0m             \u001b[0mself\u001b[0m\u001b[0;34m.\u001b[0m\u001b[0m__minpoly\u001b[0m \u001b[0;34m=\u001b[0m \u001b[0;34m(\u001b[0m\u001b[0mstr\u001b[0m\u001b[0;34m(\u001b[0m\u001b[0mbase_ring\u001b[0m\u001b[0;34m.\u001b[0m\u001b[0mmodulus\u001b[0m\u001b[0;34m(\u001b[0m\u001b[0;34m)\u001b[0m\u001b[0;34m)\u001b[0m\u001b[0;34m.\u001b[0m\u001b[0mreplace\u001b[0m\u001b[0;34m(\u001b[0m\u001b[0;34m\"x\"\u001b[0m\u001b[0;34m,\u001b[0m\u001b[0mgen\u001b[0m\u001b[0;34m)\u001b[0m\u001b[0;34m)\u001b[0m\u001b[0;34m.\u001b[0m\u001b[0mreplace\u001b[0m\u001b[0;34m(\u001b[0m\u001b[0;34m\" \"\u001b[0m\u001b[0;34m,\u001b[0m\u001b[0;34m\"\"\u001b[0m\u001b[0;34m)\u001b[0m\u001b[0;34m\u001b[0m\u001b[0;34m\u001b[0m\u001b[0m\n",
      "\u001b[0;32m/opt/sagemath-9.3/local/lib/python3.7/site-packages/sage/interfaces/singular.py\u001b[0m in \u001b[0;36mring\u001b[0;34m(self, char, vars, order, check)\u001b[0m\n\u001b[1;32m   1148\u001b[0m                 \u001b[0;32mif\u001b[0m \u001b[0;32mnot\u001b[0m \u001b[0mn\u001b[0m\u001b[0;34m.\u001b[0m\u001b[0mis_prime\u001b[0m\u001b[0;34m(\u001b[0m\u001b[0;34m)\u001b[0m\u001b[0;34m:\u001b[0m\u001b[0;34m\u001b[0m\u001b[0;34m\u001b[0m\u001b[0m\n\u001b[1;32m   1149\u001b[0m                     \u001b[0;32mraise\u001b[0m \u001b[0mValueError\u001b[0m\u001b[0;34m(\u001b[0m\u001b[0;34m\"the characteristic must be 0 or prime\"\u001b[0m\u001b[0;34m)\u001b[0m\u001b[0;34m\u001b[0m\u001b[0;34m\u001b[0m\u001b[0m\n\u001b[0;32m-> 1150\u001b[0;31m         \u001b[0mR\u001b[0m \u001b[0;34m=\u001b[0m \u001b[0mself\u001b[0m\u001b[0;34m(\u001b[0m\u001b[0;34m'%s,%s,%s'\u001b[0m\u001b[0;34m%\u001b[0m\u001b[0;34m(\u001b[0m\u001b[0mchar\u001b[0m\u001b[0;34m,\u001b[0m \u001b[0mvars\u001b[0m\u001b[0;34m,\u001b[0m \u001b[0morder\u001b[0m\u001b[0;34m)\u001b[0m\u001b[0;34m,\u001b[0m \u001b[0;34m'ring'\u001b[0m\u001b[0;34m)\u001b[0m\u001b[0;34m\u001b[0m\u001b[0;34m\u001b[0m\u001b[0m\n\u001b[0m\u001b[1;32m   1151\u001b[0m         \u001b[0mself\u001b[0m\u001b[0;34m.\u001b[0m\u001b[0meval\u001b[0m\u001b[0;34m(\u001b[0m\u001b[0;34m'short=0'\u001b[0m\u001b[0;34m)\u001b[0m  \u001b[0;31m# make output include *'s for multiplication for *THIS* ring.\u001b[0m\u001b[0;34m\u001b[0m\u001b[0;34m\u001b[0m\u001b[0m\n\u001b[1;32m   1152\u001b[0m         \u001b[0;32mreturn\u001b[0m \u001b[0mR\u001b[0m\u001b[0;34m\u001b[0m\u001b[0;34m\u001b[0m\u001b[0m\n",
      "\u001b[0;32m/opt/sagemath-9.3/local/lib/python3.7/site-packages/sage/interfaces/singular.py\u001b[0m in \u001b[0;36m__call__\u001b[0;34m(self, x, type)\u001b[0m\n\u001b[1;32m    811\u001b[0m             \u001b[0mx\u001b[0m \u001b[0;34m=\u001b[0m \u001b[0mstr\u001b[0m\u001b[0;34m(\u001b[0m\u001b[0mx\u001b[0m\u001b[0;34m)\u001b[0m\u001b[0;34m[\u001b[0m\u001b[0;36m1\u001b[0m\u001b[0;34m:\u001b[0m\u001b[0;34m-\u001b[0m\u001b[0;36m1\u001b[0m\u001b[0;34m]\u001b[0m\u001b[0;34m\u001b[0m\u001b[0;34m\u001b[0m\u001b[0m\n\u001b[1;32m    812\u001b[0m \u001b[0;34m\u001b[0m\u001b[0m\n\u001b[0;32m--> 813\u001b[0;31m         \u001b[0;32mreturn\u001b[0m \u001b[0mSingularElement\u001b[0m\u001b[0;34m(\u001b[0m\u001b[0mself\u001b[0m\u001b[0;34m,\u001b[0m \u001b[0mtype\u001b[0m\u001b[0;34m,\u001b[0m \u001b[0mx\u001b[0m\u001b[0;34m,\u001b[0m \u001b[0;32mFalse\u001b[0m\u001b[0;34m)\u001b[0m\u001b[0;34m\u001b[0m\u001b[0;34m\u001b[0m\u001b[0m\n\u001b[0m\u001b[1;32m    814\u001b[0m \u001b[0;34m\u001b[0m\u001b[0m\n\u001b[1;32m    815\u001b[0m     \u001b[0;32mdef\u001b[0m \u001b[0m_coerce_map_from_\u001b[0m\u001b[0;34m(\u001b[0m\u001b[0mself\u001b[0m\u001b[0;34m,\u001b[0m \u001b[0mS\u001b[0m\u001b[0;34m)\u001b[0m\u001b[0;34m:\u001b[0m\u001b[0;34m\u001b[0m\u001b[0;34m\u001b[0m\u001b[0m\n",
      "\u001b[0;32m/opt/sagemath-9.3/local/lib/python3.7/site-packages/sage/interfaces/singular.py\u001b[0m in \u001b[0;36m__init__\u001b[0;34m(self, parent, type, value, is_name)\u001b[0m\n\u001b[1;32m   1369\u001b[0m         \u001b[0;32mif\u001b[0m \u001b[0;32mnot\u001b[0m \u001b[0mis_name\u001b[0m\u001b[0;34m:\u001b[0m\u001b[0;34m\u001b[0m\u001b[0;34m\u001b[0m\u001b[0m\n\u001b[1;32m   1370\u001b[0m             \u001b[0;32mtry\u001b[0m\u001b[0;34m:\u001b[0m\u001b[0;34m\u001b[0m\u001b[0;34m\u001b[0m\u001b[0m\n\u001b[0;32m-> 1371\u001b[0;31m                 \u001b[0mself\u001b[0m\u001b[0;34m.\u001b[0m\u001b[0m_name\u001b[0m \u001b[0;34m=\u001b[0m \u001b[0mparent\u001b[0m\u001b[0;34m.\u001b[0m\u001b[0m_create\u001b[0m\u001b[0;34m(\u001b[0m\u001b[0mvalue\u001b[0m\u001b[0;34m,\u001b[0m \u001b[0mtype\u001b[0m\u001b[0;34m)\u001b[0m\u001b[0;34m\u001b[0m\u001b[0;34m\u001b[0m\u001b[0m\n\u001b[0m\u001b[1;32m   1372\u001b[0m             \u001b[0;31m# Convert SingularError to TypeError for\u001b[0m\u001b[0;34m\u001b[0m\u001b[0;34m\u001b[0m\u001b[0;34m\u001b[0m\u001b[0m\n\u001b[1;32m   1373\u001b[0m             \u001b[0;31m# coercion to work properly.\u001b[0m\u001b[0;34m\u001b[0m\u001b[0;34m\u001b[0m\u001b[0;34m\u001b[0m\u001b[0m\n",
      "\u001b[0;32m/opt/sagemath-9.3/local/lib/python3.7/site-packages/sage/interfaces/singular.py\u001b[0m in \u001b[0;36m_create\u001b[0;34m(self, value, type)\u001b[0m\n\u001b[1;32m    772\u001b[0m         \"\"\"\n\u001b[1;32m    773\u001b[0m         \u001b[0mname\u001b[0m \u001b[0;34m=\u001b[0m \u001b[0mself\u001b[0m\u001b[0;34m.\u001b[0m\u001b[0m_next_var_name\u001b[0m\u001b[0;34m(\u001b[0m\u001b[0;34m)\u001b[0m\u001b[0;34m\u001b[0m\u001b[0;34m\u001b[0m\u001b[0m\n\u001b[0;32m--> 774\u001b[0;31m         \u001b[0mself\u001b[0m\u001b[0;34m.\u001b[0m\u001b[0mset\u001b[0m\u001b[0;34m(\u001b[0m\u001b[0mtype\u001b[0m\u001b[0;34m,\u001b[0m \u001b[0mname\u001b[0m\u001b[0;34m,\u001b[0m \u001b[0mvalue\u001b[0m\u001b[0;34m)\u001b[0m\u001b[0;34m\u001b[0m\u001b[0;34m\u001b[0m\u001b[0m\n\u001b[0m\u001b[1;32m    775\u001b[0m         \u001b[0;32mreturn\u001b[0m \u001b[0mname\u001b[0m\u001b[0;34m\u001b[0m\u001b[0;34m\u001b[0m\u001b[0m\n\u001b[1;32m    776\u001b[0m \u001b[0;34m\u001b[0m\u001b[0m\n",
      "\u001b[0;32m/opt/sagemath-9.3/local/lib/python3.7/site-packages/sage/interfaces/singular.py\u001b[0m in \u001b[0;36mset\u001b[0;34m(self, type, name, value)\u001b[0m\n\u001b[1;32m    715\u001b[0m         \u001b[0mcmd\u001b[0m \u001b[0;34m+=\u001b[0m \u001b[0;34m'%s %s=%s;'\u001b[0m\u001b[0;34m%\u001b[0m\u001b[0;34m(\u001b[0m\u001b[0mtype\u001b[0m\u001b[0;34m,\u001b[0m \u001b[0mname\u001b[0m\u001b[0;34m,\u001b[0m \u001b[0mvalue\u001b[0m\u001b[0;34m)\u001b[0m\u001b[0;34m\u001b[0m\u001b[0;34m\u001b[0m\u001b[0m\n\u001b[1;32m    716\u001b[0m         \u001b[0mself\u001b[0m\u001b[0;34m.\u001b[0m\u001b[0m__to_clear\u001b[0m \u001b[0;34m=\u001b[0m \u001b[0;34m[\u001b[0m\u001b[0;34m]\u001b[0m\u001b[0;34m\u001b[0m\u001b[0;34m\u001b[0m\u001b[0m\n\u001b[0;32m--> 717\u001b[0;31m         \u001b[0mself\u001b[0m\u001b[0;34m.\u001b[0m\u001b[0meval\u001b[0m\u001b[0;34m(\u001b[0m\u001b[0mcmd\u001b[0m\u001b[0;34m)\u001b[0m\u001b[0;34m\u001b[0m\u001b[0;34m\u001b[0m\u001b[0m\n\u001b[0m\u001b[1;32m    718\u001b[0m \u001b[0;34m\u001b[0m\u001b[0m\n\u001b[1;32m    719\u001b[0m     \u001b[0;32mdef\u001b[0m \u001b[0mget\u001b[0m\u001b[0;34m(\u001b[0m\u001b[0mself\u001b[0m\u001b[0;34m,\u001b[0m \u001b[0mvar\u001b[0m\u001b[0;34m)\u001b[0m\u001b[0;34m:\u001b[0m\u001b[0;34m\u001b[0m\u001b[0;34m\u001b[0m\u001b[0m\n",
      "\u001b[0;32m/opt/sagemath-9.3/local/lib/python3.7/site-packages/sage/interfaces/singular.py\u001b[0m in \u001b[0;36meval\u001b[0;34m(self, x, allow_semicolon, strip, **kwds)\u001b[0m\n\u001b[1;32m    668\u001b[0m             \u001b[0mx\u001b[0m \u001b[0;34m+=\u001b[0m \u001b[0;34m';'\u001b[0m\u001b[0;34m\u001b[0m\u001b[0;34m\u001b[0m\u001b[0m\n\u001b[1;32m    669\u001b[0m \u001b[0;34m\u001b[0m\u001b[0m\n\u001b[0;32m--> 670\u001b[0;31m         \u001b[0ms\u001b[0m \u001b[0;34m=\u001b[0m \u001b[0mExpect\u001b[0m\u001b[0;34m.\u001b[0m\u001b[0meval\u001b[0m\u001b[0;34m(\u001b[0m\u001b[0mself\u001b[0m\u001b[0;34m,\u001b[0m \u001b[0mx\u001b[0m\u001b[0;34m,\u001b[0m \u001b[0;34m**\u001b[0m\u001b[0mkwds\u001b[0m\u001b[0;34m)\u001b[0m\u001b[0;34m\u001b[0m\u001b[0;34m\u001b[0m\u001b[0m\n\u001b[0m\u001b[1;32m    671\u001b[0m \u001b[0;34m\u001b[0m\u001b[0m\n\u001b[1;32m    672\u001b[0m         \u001b[0;31m# \"Segment fault\" is not a typo:\u001b[0m\u001b[0;34m\u001b[0m\u001b[0;34m\u001b[0m\u001b[0;34m\u001b[0m\u001b[0m\n",
      "\u001b[0;32m/opt/sagemath-9.3/local/lib/python3.7/site-packages/sage/interfaces/expect.py\u001b[0m in \u001b[0;36meval\u001b[0;34m(self, code, strip, synchronize, locals, allow_use_file, split_lines, **kwds)\u001b[0m\n\u001b[1;32m   1380\u001b[0m                 \u001b[0;32melif\u001b[0m \u001b[0msplit_lines\u001b[0m\u001b[0;34m:\u001b[0m\u001b[0;34m\u001b[0m\u001b[0;34m\u001b[0m\u001b[0m\n\u001b[1;32m   1381\u001b[0m                     return '\\n'.join([self._eval_line(L, allow_use_file=allow_use_file, **kwds)\n\u001b[0;32m-> 1382\u001b[0;31m                                         for L in code.split('\\n') if L != ''])\n\u001b[0m\u001b[1;32m   1383\u001b[0m                 \u001b[0;32melse\u001b[0m\u001b[0;34m:\u001b[0m\u001b[0;34m\u001b[0m\u001b[0;34m\u001b[0m\u001b[0m\n\u001b[1;32m   1384\u001b[0m                     \u001b[0;32mreturn\u001b[0m \u001b[0mself\u001b[0m\u001b[0;34m.\u001b[0m\u001b[0m_eval_line\u001b[0m\u001b[0;34m(\u001b[0m\u001b[0mcode\u001b[0m\u001b[0;34m,\u001b[0m \u001b[0mallow_use_file\u001b[0m\u001b[0;34m=\u001b[0m\u001b[0mallow_use_file\u001b[0m\u001b[0;34m,\u001b[0m \u001b[0;34m**\u001b[0m\u001b[0mkwds\u001b[0m\u001b[0;34m)\u001b[0m\u001b[0;34m\u001b[0m\u001b[0;34m\u001b[0m\u001b[0m\n",
      "\u001b[0;32m/opt/sagemath-9.3/local/lib/python3.7/site-packages/sage/interfaces/expect.py\u001b[0m in \u001b[0;36m<listcomp>\u001b[0;34m(.0)\u001b[0m\n\u001b[1;32m   1380\u001b[0m                 \u001b[0;32melif\u001b[0m \u001b[0msplit_lines\u001b[0m\u001b[0;34m:\u001b[0m\u001b[0;34m\u001b[0m\u001b[0;34m\u001b[0m\u001b[0m\n\u001b[1;32m   1381\u001b[0m                     return '\\n'.join([self._eval_line(L, allow_use_file=allow_use_file, **kwds)\n\u001b[0;32m-> 1382\u001b[0;31m                                         for L in code.split('\\n') if L != ''])\n\u001b[0m\u001b[1;32m   1383\u001b[0m                 \u001b[0;32melse\u001b[0m\u001b[0;34m:\u001b[0m\u001b[0;34m\u001b[0m\u001b[0;34m\u001b[0m\u001b[0m\n\u001b[1;32m   1384\u001b[0m                     \u001b[0;32mreturn\u001b[0m \u001b[0mself\u001b[0m\u001b[0;34m.\u001b[0m\u001b[0m_eval_line\u001b[0m\u001b[0;34m(\u001b[0m\u001b[0mcode\u001b[0m\u001b[0;34m,\u001b[0m \u001b[0mallow_use_file\u001b[0m\u001b[0;34m=\u001b[0m\u001b[0mallow_use_file\u001b[0m\u001b[0;34m,\u001b[0m \u001b[0;34m**\u001b[0m\u001b[0mkwds\u001b[0m\u001b[0;34m)\u001b[0m\u001b[0;34m\u001b[0m\u001b[0;34m\u001b[0m\u001b[0m\n",
      "\u001b[0;32m/opt/sagemath-9.3/local/lib/python3.7/site-packages/sage/interfaces/expect.py\u001b[0m in \u001b[0;36m_eval_line\u001b[0;34m(self, line, allow_use_file, wait_for_prompt, restart_if_needed)\u001b[0m\n\u001b[1;32m   1012\u001b[0m                     \u001b[0mout\u001b[0m \u001b[0;34m=\u001b[0m \u001b[0;34m''\u001b[0m\u001b[0;34m\u001b[0m\u001b[0;34m\u001b[0m\u001b[0m\n\u001b[1;32m   1013\u001b[0m         \u001b[0;32mexcept\u001b[0m \u001b[0mKeyboardInterrupt\u001b[0m\u001b[0;34m:\u001b[0m\u001b[0;34m\u001b[0m\u001b[0;34m\u001b[0m\u001b[0m\n\u001b[0;32m-> 1014\u001b[0;31m             \u001b[0mself\u001b[0m\u001b[0;34m.\u001b[0m\u001b[0m_keyboard_interrupt\u001b[0m\u001b[0;34m(\u001b[0m\u001b[0;34m)\u001b[0m\u001b[0;34m\u001b[0m\u001b[0;34m\u001b[0m\u001b[0m\n\u001b[0m\u001b[1;32m   1015\u001b[0m             \u001b[0;32mraise\u001b[0m \u001b[0mKeyboardInterrupt\u001b[0m\u001b[0;34m(\u001b[0m\u001b[0;34m\"Ctrl-c pressed while running %s\"\u001b[0m \u001b[0;34m%\u001b[0m \u001b[0mself\u001b[0m\u001b[0;34m)\u001b[0m\u001b[0;34m\u001b[0m\u001b[0;34m\u001b[0m\u001b[0m\n\u001b[1;32m   1016\u001b[0m         \u001b[0;32mif\u001b[0m \u001b[0mself\u001b[0m\u001b[0;34m.\u001b[0m\u001b[0m_terminal_echo\u001b[0m\u001b[0;34m:\u001b[0m\u001b[0;34m\u001b[0m\u001b[0;34m\u001b[0m\u001b[0m\n",
      "\u001b[0;32m/opt/sagemath-9.3/local/lib/python3.7/site-packages/sage/interfaces/singular.py\u001b[0m in \u001b[0;36m_keyboard_interrupt\u001b[0;34m(self)\u001b[0m\n\u001b[1;32m   1351\u001b[0m             \u001b[0;32mraise\u001b[0m \u001b[0mpexpect\u001b[0m\u001b[0;34m.\u001b[0m\u001b[0mExceptionPexpect\u001b[0m\u001b[0;34m(\u001b[0m\u001b[0;34m\"THIS IS A BUG -- PLEASE REPORT. This should never happen.\\n\"\u001b[0m \u001b[0;34m+\u001b[0m \u001b[0mmsg\u001b[0m\u001b[0;34m)\u001b[0m\u001b[0;34m\u001b[0m\u001b[0;34m\u001b[0m\u001b[0m\n\u001b[1;32m   1352\u001b[0m         \u001b[0mself\u001b[0m\u001b[0;34m.\u001b[0m\u001b[0m_start\u001b[0m\u001b[0;34m(\u001b[0m\u001b[0;34m)\u001b[0m\u001b[0;34m\u001b[0m\u001b[0;34m\u001b[0m\u001b[0m\n\u001b[0;32m-> 1353\u001b[0;31m         \u001b[0;32mraise\u001b[0m \u001b[0mKeyboardInterrupt\u001b[0m\u001b[0;34m(\u001b[0m\u001b[0;34m\"Restarting %s (WARNING: all variables defined in previous session are now invalid)\"\u001b[0m \u001b[0;34m%\u001b[0m \u001b[0mself\u001b[0m\u001b[0;34m)\u001b[0m\u001b[0;34m\u001b[0m\u001b[0;34m\u001b[0m\u001b[0m\n\u001b[0m\u001b[1;32m   1354\u001b[0m \u001b[0;34m\u001b[0m\u001b[0m\n\u001b[1;32m   1355\u001b[0m \u001b[0;34m\u001b[0m\u001b[0m\n",
      "\u001b[0;31mKeyboardInterrupt\u001b[0m: Restarting Singular (WARNING: all variables defined in previous session are now invalid)"
     ]
    }
   ],
   "source": [
    "load('../01. jacobian_isogeny/33_isogeny.sage')\n",
    "kernel33 = [2 * D for D in points[:2]]\n",
    "K = Fp\n",
    "j, points = isogeny_33(kernel33, points, b)"
   ]
  },
  {
   "cell_type": "code",
   "execution_count": null,
   "metadata": {},
   "outputs": [
    {
     "ename": "AssertionError",
     "evalue": "",
     "output_type": "error",
     "traceback": [
      "\u001b[0;31m---------------------------------------------------------------------------\u001b[0m",
      "\u001b[0;31mAssertionError\u001b[0m                            Traceback (most recent call last)",
      "\u001b[0;32m<ipython-input-99-dc92845386f6>\u001b[0m in \u001b[0;36m<module>\u001b[0;34m\u001b[0m\n\u001b[1;32m      5\u001b[0m \u001b[0;32massert\u001b[0m \u001b[0mr3\u001b[0m \u001b[0;34m==\u001b[0m \u001b[0mInteger\u001b[0m\u001b[0;34m(\u001b[0m\u001b[0;36m0\u001b[0m\u001b[0;34m)\u001b[0m\u001b[0;34m\u001b[0m\u001b[0;34m\u001b[0m\u001b[0m\n\u001b[1;32m      6\u001b[0m \u001b[0mdelta\u001b[0m \u001b[0;34m=\u001b[0m \u001b[0mMatrix\u001b[0m\u001b[0;34m(\u001b[0m\u001b[0mG\u001b[0m\u001b[0;34m.\u001b[0m\u001b[0mpadded_list\u001b[0m\u001b[0;34m(\u001b[0m\u001b[0mInteger\u001b[0m\u001b[0;34m(\u001b[0m\u001b[0;36m3\u001b[0m\u001b[0;34m)\u001b[0m\u001b[0;34m)\u001b[0m \u001b[0;32mfor\u001b[0m \u001b[0mG\u001b[0m \u001b[0;32min\u001b[0m \u001b[0;34m(\u001b[0m\u001b[0mG1\u001b[0m\u001b[0;34m,\u001b[0m \u001b[0mG2\u001b[0m\u001b[0;34m,\u001b[0m \u001b[0mG3\u001b[0m\u001b[0;34m)\u001b[0m\u001b[0;34m)\u001b[0m\u001b[0;34m\u001b[0m\u001b[0;34m\u001b[0m\u001b[0m\n\u001b[0;32m----> 7\u001b[0;31m \u001b[0;32massert\u001b[0m \u001b[0mdelta\u001b[0m\u001b[0;34m.\u001b[0m\u001b[0mdeterminant\u001b[0m\u001b[0;34m(\u001b[0m\u001b[0;34m)\u001b[0m \u001b[0;34m==\u001b[0m \u001b[0mInteger\u001b[0m\u001b[0;34m(\u001b[0m\u001b[0;36m0\u001b[0m\u001b[0;34m)\u001b[0m\u001b[0;34m\u001b[0m\u001b[0;34m\u001b[0m\u001b[0m\n\u001b[0m",
      "\u001b[0;31mAssertionError\u001b[0m: "
     ]
    }
   ],
   "source": [
    "G1 = points[0][0]\n",
    "G2 = points[1][0]\n",
    "h = j.curve().hyperelliptic_polynomials()[0]\n",
    "G3, r3 = h.quo_rem(G1*G2)\n",
    "assert r3 == 0\n",
    "delta = Matrix(G.padded_list(3) for G in (G1, G2, G3))\n",
    "assert delta.determinant() == 0"
   ]
  },
  {
   "cell_type": "code",
   "execution_count": null,
   "metadata": {},
   "outputs": [],
   "source": [
    "print(I3_gen.reduced_norm().factor())\n",
    "print(beta.reduced_norm().factor())"
   ]
  },
  {
   "cell_type": "code",
   "execution_count": null,
   "metadata": {},
   "outputs": [],
   "source": [
    "print(I3_gen)"
   ]
  },
  {
   "cell_type": "code",
   "execution_count": null,
   "metadata": {},
   "outputs": [],
   "source": []
  }
 ],
 "metadata": {
  "kernelspec": {
   "display_name": "SageMath 9.5",
   "language": "sage",
   "name": "sagemath"
  },
  "language_info": {
   "codemirror_mode": {
    "name": "ipython",
    "version": 3
   },
   "file_extension": ".py",
   "mimetype": "text/x-python",
   "name": "python",
   "nbconvert_exporter": "python",
   "pygments_lexer": "ipython3",
   "version": "3.10.12"
  }
 },
 "nbformat": 4,
 "nbformat_minor": 4
}
