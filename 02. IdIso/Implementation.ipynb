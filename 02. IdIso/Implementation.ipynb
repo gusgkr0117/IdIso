{
 "cells": [
  {
   "cell_type": "markdown",
   "metadata": {},
   "source": [
    "#  <font color=\"blue\">Implementation of IdealToIsogeny algorithm</font>"
   ]
  },
  {
   "cell_type": "markdown",
   "metadata": {},
   "source": [
    "## <font color=\"blue\">1. Prerequisites</font>"
   ]
  },
  {
   "cell_type": "markdown",
   "metadata": {},
   "source": [
    "### Load required libraries"
   ]
  },
  {
   "cell_type": "code",
   "execution_count": 7,
   "metadata": {},
   "outputs": [],
   "source": [
    "load('quaternion_tools.sage')\n",
    "load('isogeny.sage')\n",
    "load('richelot.sage')\n",
    "load('const.sage')"
   ]
  },
  {
   "cell_type": "markdown",
   "metadata": {},
   "source": [
    "### Cornaccia algorithm"
   ]
  },
  {
   "cell_type": "code",
   "execution_count": 8,
   "metadata": {},
   "outputs": [],
   "source": [
    "def cornacchia(d, m):\n",
    "    try: \n",
    "        (x,y) = DiagonalQuadraticForm(QQ, [1,d]).solve(m)\n",
    "        if not x.is_integer() or not y.is_integer() : raise Exception(\"No solution\")\n",
    "        return x, y\n",
    "    except: raise Exception(\"No solution\")"
   ]
  },
  {
   "cell_type": "markdown",
   "metadata": {},
   "source": [
    "## <font color=\"blue\">2. Setting the lab environment</font>"
   ]
  },
  {
   "cell_type": "markdown",
   "metadata": {},
   "source": [
    "### 1. Get a random ideal $I$ of norm $\\ell^e$"
   ]
  },
  {
   "cell_type": "code",
   "execution_count": 9,
   "metadata": {},
   "outputs": [],
   "source": [
    "I = GetRandomIdealElle()\n",
    "assert(I.norm() == ell^6)"
   ]
  },
  {
   "cell_type": "markdown",
   "metadata": {},
   "source": [
    "### 2. Extract the first ideal factor $I_1$\n",
    "+ $I = I_1 \\cdot I_2 \\cdot ... \\cdot I_k$ and $n(I_i) = \\ell$"
   ]
  },
  {
   "cell_type": "code",
   "execution_count": 12,
   "metadata": {},
   "outputs": [],
   "source": [
    "ellO0 = QA.ideal(O0.basis()).scale(ell)\n",
    "I1 = AddIdeal(I, ellO0)"
   ]
  },
  {
   "cell_type": "markdown",
   "metadata": {},
   "source": [
    "### 3. Compute corresponding isogeny $\\phi_1$ to $I_1$\n",
    "+ $ker(\\phi_1) = ker(I_1)$"
   ]
  },
  {
   "cell_type": "code",
   "execution_count": 13,
   "metadata": {},
   "outputs": [],
   "source": [
    "phi1_kernel_generator = left_O0_ideal_to_isogeny_kernel(I1)\n",
    "phi1 = Isogeny(Fp(0), phi1_kernel_generator)\n",
    "assert(I1.norm() == ell)"
   ]
  },
  {
   "cell_type": "markdown",
   "metadata": {},
   "source": [
    "### 4. Get the codomain curve $E_1$ of $\\phi_1$ and the dual isogeny $\\hat{\\phi}_1$"
   ]
  },
  {
   "cell_type": "code",
   "execution_count": 14,
   "metadata": {},
   "outputs": [],
   "source": [
    "E1 = phi1.codomain_curve\n",
    "phi1_dual = phi1.dual_isogeny()"
   ]
  },
  {
   "cell_type": "markdown",
   "metadata": {},
   "source": [
    "### 5. Compute the right order $\\mathcal{O}_1$ of $I_1$\n",
    "+ $\\mathcal{O}_1 \\cong End(E_1)$"
   ]
  },
  {
   "cell_type": "code",
   "execution_count": 15,
   "metadata": {},
   "outputs": [],
   "source": [
    "O1 = I1.right_order()"
   ]
  },
  {
   "cell_type": "markdown",
   "metadata": {},
   "source": [
    "### 6. Extract the second ideal factor $I_2$\n",
    "+ $\\bar{I_1} I \\cap \\ell \\mathcal{O}_1 = I_2$"
   ]
  },
  {
   "cell_type": "code",
   "execution_count": 16,
   "metadata": {},
   "outputs": [],
   "source": [
    "I2 = I1.conjugate() * I\n",
    "I2 = I2.scale(1/ell)\n",
    "ellO1 = QA.ideal(O1.basis()).scale(ell)\n",
    "I2 = AddIdeal(I2, ellO1)\n",
    "\n",
    "assert(I2.norm() == ell and I2.left_order() == O1)"
   ]
  },
  {
   "cell_type": "markdown",
   "metadata": {},
   "source": [
    "## <font color=\"blue\">3. Experiments</font>"
   ]
  },
  {
   "cell_type": "markdown",
   "metadata": {},
   "source": [
    "+ Compute the generator $\\alpha_2$ of $I_2$ such that $I_2 = \\alpha_2 \\mathcal{O_1} + \\ell \\mathcal{O_1}$\n",
    "+ Hopefully $n(\\alpha_2)$ is as small as possible\n",
    "+ Note that $\\alpha_2 \\in I_2 \\subset \\mathcal{O}_1$"
   ]
  },
  {
   "cell_type": "code",
   "execution_count": 18,
   "metadata": {},
   "outputs": [],
   "source": [
    "I2_generator = ideal_generator(I2)"
   ]
  },
  {
   "cell_type": "markdown",
   "metadata": {},
   "source": [
    "+ Compute the reduced basis $\\{o_{11}, o_{12}, o_{13}, o_{14}\\}$ of $\\mathcal{O_1}$"
   ]
  },
  {
   "cell_type": "code",
   "execution_count": 20,
   "metadata": {},
   "outputs": [],
   "source": [
    "O1_basis = GetReducedBasis(O1.basis())"
   ]
  },
  {
   "cell_type": "markdown",
   "metadata": {},
   "source": [
    "+ Try to find the $\\beta \\in \\mathcal{O}_1$ such that $n(\\alpha_2) + n(\\beta) = 2^e | \\sqrt{\\#E_1(\\mathbb{F}_{p^k})}$\n",
    "+ $\\mathrm{ord}_{2}(\\#E_1(\\mathbb{F}_{p^k})) \\approx \\mathrm{ord}_2(\\#E_1(\\mathbb{F}_{p^2}))=2 \\times \\mathrm{ord}_2(p+1)$ regardless of the extension size $k$\n",
    "    + So it must be satisfied that $2^e < (p+1)$\n",
    "+ Find the coefficients $\\{c_1, c_2, c_3, c_4\\}$ such that $n(\\beta) = n(\\sum_{i}{c_i o_{1i}}) = 2^e - n(\\alpha_2)$"
   ]
  },
  {
   "cell_type": "code",
   "execution_count": 35,
   "metadata": {},
   "outputs": [
    {
     "name": "stdout",
     "output_type": "stream",
     "text": [
      "2^42 * 3^2 * 5^2 * 17^2 * 37^2 * 313^2 * 9769^2 * 218453^2 * 23216004013^2 * 28389975360007889^2\n",
      "2^36 * 5^2\n"
     ]
    }
   ],
   "source": [
    "testFp = GF(prime^16)\n",
    "testE0 = EllipticCurve(testFp, [0, 0, 0, 1, 0])\n",
    "print(testE0.cardinality().factor())\n",
    "print(((prime + 1)^2).factor())"
   ]
  },
  {
   "cell_type": "code",
   "execution_count": null,
   "metadata": {},
   "outputs": [],
   "source": []
  }
 ],
 "metadata": {
  "kernelspec": {
   "display_name": "SageMath 9.3",
   "language": "sage",
   "name": "sagemath"
  },
  "language_info": {
   "codemirror_mode": {
    "name": "ipython",
    "version": 3
   },
   "file_extension": ".py",
   "mimetype": "text/x-python",
   "name": "python",
   "nbconvert_exporter": "python",
   "pygments_lexer": "ipython3",
   "version": "3.7.10"
  }
 },
 "nbformat": 4,
 "nbformat_minor": 4
}
