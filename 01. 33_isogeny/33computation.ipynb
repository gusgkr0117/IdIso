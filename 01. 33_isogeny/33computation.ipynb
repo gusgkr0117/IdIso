{
 "cells": [
  {
   "cell_type": "code",
   "execution_count": 3,
   "metadata": {},
   "outputs": [
    {
     "name": "stdout",
     "output_type": "stream",
     "text": [
      "/home/sage/Documents/works/12. Developments/07. sage/01. 33_isogeny\n"
     ]
    }
   ],
   "source": [
    "cd \"/home/sage/Documents/works/12. Developments/07. sage/01. 33_isogeny\""
   ]
  },
  {
   "cell_type": "code",
   "execution_count": 4,
   "metadata": {},
   "outputs": [],
   "source": [
    "prime = 20*3^80 - 1\n",
    "assert(prime.is_prime())"
   ]
  },
  {
   "cell_type": "code",
   "execution_count": 5,
   "metadata": {},
   "outputs": [],
   "source": [
    "K = GF(prime)\n",
    "Kx.<x> = PolynomialRing(K)\n",
    "K.<twist> = K.extension(x^2 + 3)\n",
    "Kx.<x> = PolynomialRing(K)\n",
    "\n",
    "INV2 = K(1/2); INV3 = K(1/3); INV4 = K(1/4); INV16 = K(1/16); INV216 = K(1/216); INV864 = K(1/864);\n",
    "INV103680 = K(1/103680); INV213408 = K(1/213408); INV13837824 = K(1/13837824); INV8115344640 = K(1/8115344640); INV327019680 = K(1/327019680);"
   ]
  },
  {
   "cell_type": "code",
   "execution_count": 6,
   "metadata": {},
   "outputs": [],
   "source": [
    "f = (1553371936413153072743907537770247355840*twist + 2082337710644265386807243814325583099509)*x^6 + (297507054352813646945159546041942422624*twist + 2152493905806207414873849811330295195801)*x^5 + (1575004021715451089672123283798420131272*twist + 693873685380562641426671061694799418061)*x^4 + (2464593207674982589580695219370419406165*twist + 488635973198613181188407474574241908970)*x^3 + (2506348069544373361693935842513198675337*twist + 1389065747312376943875999815111443432343)*x^2 + (1269085104740582058526622761247889959503*twist + 2216921303657040404420212823114606971197)*x + 1160822072619205705134779893309325900028*twist + 118765667139638179259147731752279069473"
   ]
  },
  {
   "cell_type": "code",
   "execution_count": 7,
   "metadata": {},
   "outputs": [
    {
     "name": "stdout",
     "output_type": "stream",
     "text": [
      "verbose 0 (3837: multi_polynomial_ideal.py, groebner_basis) Warning: falling back to very slow toy implementation.\n",
      "verbose 0 (1080: multi_polynomial_ideal.py, dimension) Warning: falling back to very slow toy implementation.\n"
     ]
    }
   ],
   "source": [
    "C = HyperellipticCurve(f)\n",
    "J = C.jacobian()"
   ]
  },
  {
   "cell_type": "code",
   "execution_count": 8,
   "metadata": {},
   "outputs": [],
   "source": [
    "P1 = J([x^2 + (2764653499373027320641011583870164748991*twist + 1591210230433450263934922023028619581904)*x + 1577943139698643136937585397941634444804*twist + 453801353912036043527336113709833929736, (967986290832185334972034005304407008909*twist + 1572156633867205171746009432509033013626)*x + 182928102136811691466878049069020189800*twist + 1007618304149301569984086823138032043187])\n",
    "P2 = J([x^2 + (1563896044945573641907197332984905186711*twist + 615309634900300028762231090923349632519)*x + 1468924704688126517798551775203494864263*twist + 2332333517485259892795780192352524727639, (1432399167343654265463612147923380327781*twist + 648888872541621034641367061701748386261)*x + 196653646156254538356772124364016805939*twist + 1488356948688330853391887215000508174718])\n",
    "Q1 = J([x^2 + (643697117906860804067557287695832272421*twist + 324855874973310655645492539237251873778)*x + 874009044412247157074633316842363310309*twist + 1529568043878433725852871172382026801981, (2551174313693266290559839465873371904224*twist + 922484229541153409564323103262705841864)*x + 354790912279988900088143888567738853820*twist + 2116031478365706410765748568343545560036])\n",
    "Q2 = J([x^2 + (545938022548915977489156937715868573221*twist + 2170930186183655350283733857370416272716)*x + 1583846819465859431472359170864144110666*twist + 1176152816848288119793507114686490463784, (829021274608714861587494146544415369950*twist + 1998074480778719310172617722293052644638)*x + 1625921754338385675799920061464951714596*twist + 1314236608225757200692046681238390489170])"
   ]
  },
  {
   "cell_type": "code",
   "execution_count": 9,
   "metadata": {},
   "outputs": [],
   "source": [
    "import random\n",
    "message = [randrange(1, 3^(valuation(prime + 1, 3))) for i in range(3)]\n",
    "T1 = P1 + message[0] * Q1 + message[1] * Q2\n",
    "T2 = P2 + message[1] * Q1 + message[2] * Q2"
   ]
  },
  {
   "cell_type": "code",
   "execution_count": 10,
   "metadata": {},
   "outputs": [],
   "source": [
    "newT1, newT2 = 3^79 * T1, 3^79 * T2"
   ]
  },
  {
   "cell_type": "code",
   "execution_count": 43,
   "metadata": {},
   "outputs": [
    {
     "name": "stdout",
     "output_type": "stream",
     "text": [
      "debug0\n",
      "debug1\n",
      "debug2\n"
     ]
    },
    {
     "ename": "TypeError",
     "evalue": "self (=(x^2 + (1900981286134908631058142775223272442715*twist + 1181515559371806146766049128474298355802)*x + 457185243011791189431060368090461337033*twist + 1625816755855873109181555994233173409458, y + (353037897138200225800902023547528405847*twist + 2883554720259318845187269311880158370706)*x + 2749367219293618560506644000285140019562*twist + 1977835776881586306117615255221117159849)) domain must equal right (=(x^2 + (643697117906860804067557287695832272421*twist + 324855874973310655645492539237251873778)*x + 874009044412247157074633316842363310309*twist + 1529568043878433725852871172382026801981, y + (405002274593652175761824738254294047795*twist + 2033692358745765056757341100864960110155)*x + 2601385676006929566233520315559927098199*twist + 840145109921212055555915635784120391983)) codomain",
     "output_type": "error",
     "traceback": [
      "\u001b[0;31m---------------------------------------------------------------------------\u001b[0m",
      "\u001b[0;31mTypeError\u001b[0m                                 Traceback (most recent call last)",
      "\u001b[0;32m<ipython-input-43-df42f8460ede>\u001b[0m in \u001b[0;36m<module>\u001b[0;34m\u001b[0m\n\u001b[1;32m      1\u001b[0m \u001b[0mload\u001b[0m\u001b[0;34m(\u001b[0m\u001b[0;34m'kummer_transform.sage'\u001b[0m\u001b[0;34m)\u001b[0m\u001b[0;34m\u001b[0m\u001b[0;34m\u001b[0m\u001b[0m\n\u001b[0;32m----> 2\u001b[0;31m \u001b[0mh\u001b[0m \u001b[0;34m=\u001b[0m \u001b[0mhash_new\u001b[0m\u001b[0;34m(\u001b[0m\u001b[0;34m[\u001b[0m\u001b[0mT1\u001b[0m\u001b[0;34m,\u001b[0m \u001b[0mT2\u001b[0m\u001b[0;34m]\u001b[0m\u001b[0;34m,\u001b[0m \u001b[0;34m[\u001b[0m\u001b[0mP1\u001b[0m\u001b[0;34m,\u001b[0m \u001b[0mP2\u001b[0m\u001b[0;34m,\u001b[0m \u001b[0mQ1\u001b[0m\u001b[0;34m,\u001b[0m \u001b[0mQ2\u001b[0m\u001b[0;34m]\u001b[0m\u001b[0;34m)\u001b[0m\u001b[0;34m\u001b[0m\u001b[0;34m\u001b[0m\u001b[0m\n\u001b[0m\u001b[1;32m      3\u001b[0m \u001b[0;34m\u001b[0m\u001b[0m\n",
      "\u001b[0;32m<string>\u001b[0m in \u001b[0;36mhash_new\u001b[0;34m(message, B)\u001b[0m\n",
      "\u001b[0;32m<string>\u001b[0m in \u001b[0;36mkernel_generators_from_message\u001b[0;34m(message, B)\u001b[0m\n",
      "\u001b[0;32m/opt/sagemath-9.3/local/lib/python3.7/site-packages/sage/schemes/generic/morphism.py\u001b[0m in \u001b[0;36m__mul__\u001b[0;34m(self, right)\u001b[0m\n\u001b[1;32m    398\u001b[0m             \u001b[0;32mreturn\u001b[0m \u001b[0mcoercion_model\u001b[0m\u001b[0;34m.\u001b[0m\u001b[0mbin_op\u001b[0m\u001b[0;34m(\u001b[0m\u001b[0mself\u001b[0m\u001b[0;34m,\u001b[0m \u001b[0mright\u001b[0m\u001b[0;34m,\u001b[0m \u001b[0moperator\u001b[0m\u001b[0;34m.\u001b[0m\u001b[0mmul\u001b[0m\u001b[0;34m)\u001b[0m\u001b[0;34m\u001b[0m\u001b[0;34m\u001b[0m\u001b[0m\n\u001b[1;32m    399\u001b[0m         \u001b[0;32mif\u001b[0m \u001b[0mright\u001b[0m\u001b[0;34m.\u001b[0m\u001b[0mcodomain\u001b[0m\u001b[0;34m(\u001b[0m\u001b[0;34m)\u001b[0m \u001b[0;34m!=\u001b[0m \u001b[0mself\u001b[0m\u001b[0;34m.\u001b[0m\u001b[0mdomain\u001b[0m\u001b[0;34m(\u001b[0m\u001b[0;34m)\u001b[0m\u001b[0;34m:\u001b[0m\u001b[0;34m\u001b[0m\u001b[0;34m\u001b[0m\u001b[0m\n\u001b[0;32m--> 400\u001b[0;31m             \u001b[0;32mraise\u001b[0m \u001b[0mTypeError\u001b[0m\u001b[0;34m(\u001b[0m\u001b[0;34m\"self (=%s) domain must equal right (=%s) codomain\"\u001b[0m\u001b[0;34m%\u001b[0m\u001b[0;34m(\u001b[0m\u001b[0mself\u001b[0m\u001b[0;34m,\u001b[0m \u001b[0mright\u001b[0m\u001b[0;34m)\u001b[0m\u001b[0;34m)\u001b[0m\u001b[0;34m\u001b[0m\u001b[0;34m\u001b[0m\u001b[0m\n\u001b[0m\u001b[1;32m    401\u001b[0m         \u001b[0;32mif\u001b[0m \u001b[0misinstance\u001b[0m\u001b[0;34m(\u001b[0m\u001b[0mself\u001b[0m\u001b[0;34m,\u001b[0m \u001b[0mSchemeMorphism_id\u001b[0m\u001b[0;34m)\u001b[0m\u001b[0;34m:\u001b[0m\u001b[0;34m\u001b[0m\u001b[0;34m\u001b[0m\u001b[0m\n\u001b[1;32m    402\u001b[0m             \u001b[0;32mreturn\u001b[0m \u001b[0mright\u001b[0m\u001b[0;34m\u001b[0m\u001b[0;34m\u001b[0m\u001b[0m\n",
      "\u001b[0;31mTypeError\u001b[0m: self (=(x^2 + (1900981286134908631058142775223272442715*twist + 1181515559371806146766049128474298355802)*x + 457185243011791189431060368090461337033*twist + 1625816755855873109181555994233173409458, y + (353037897138200225800902023547528405847*twist + 2883554720259318845187269311880158370706)*x + 2749367219293618560506644000285140019562*twist + 1977835776881586306117615255221117159849)) domain must equal right (=(x^2 + (643697117906860804067557287695832272421*twist + 324855874973310655645492539237251873778)*x + 874009044412247157074633316842363310309*twist + 1529568043878433725852871172382026801981, y + (405002274593652175761824738254294047795*twist + 2033692358745765056757341100864960110155)*x + 2601385676006929566233520315559927098199*twist + 840145109921212055555915635784120391983)) codomain"
     ]
    }
   ],
   "source": [
    "load('kummer_transform.sage')\n",
    "message = [randrange(1, 3^(valuation(prime + 1, 3))) for i in range(3)]\n",
    "h = hash_new(message, [P1, P2, Q1, Q2])\n",
    "\n"
   ]
  },
  {
   "cell_type": "code",
   "execution_count": 33,
   "metadata": {},
   "outputs": [
    {
     "data": {
      "text/plain": [
       "Set of rational points of Jacobian of Hyperelliptic Curve over Finite Field in twist of size 2956176588286918466321664204127665952019^2 defined by y^2 = (1553371936413153072743907537770247355840*twist + 2082337710644265386807243814325583099509)*x^6 + (297507054352813646945159546041942422624*twist + 2152493905806207414873849811330295195801)*x^5 + (1575004021715451089672123283798420131272*twist + 693873685380562641426671061694799418061)*x^4 + (2464593207674982589580695219370419406165*twist + 488635973198613181188407474574241908970)*x^3 + (2506348069544373361693935842513198675337*twist + 1389065747312376943875999815111443432343)*x^2 + (1269085104740582058526622761247889959503*twist + 2216921303657040404420212823114606971197)*x + 1160822072619205705134779893309325900028*twist + 118765667139638179259147731752279069473"
      ]
     },
     "execution_count": 33,
     "metadata": {},
     "output_type": "execute_result"
    }
   ],
   "source": [
    "[P1, P2, Q1, Q2][0].parent()"
   ]
  },
  {
   "cell_type": "code",
   "execution_count": 42,
   "metadata": {},
   "outputs": [
    {
     "data": {
      "text/plain": [
       "Hyperelliptic Curve over Finite Field in twist of size 2956176588286918466321664204127665952019^2 defined by y^2 = (1553371936413153072743907537770247355840*twist + 2082337710644265386807243814325583099509)*x^6 + (297507054352813646945159546041942422624*twist + 2152493905806207414873849811330295195801)*x^5 + (1575004021715451089672123283798420131272*twist + 693873685380562641426671061694799418061)*x^4 + (2464593207674982589580695219370419406165*twist + 488635973198613181188407474574241908970)*x^3 + (2506348069544373361693935842513198675337*twist + 1389065747312376943875999815111443432343)*x^2 + (1269085104740582058526622761247889959503*twist + 2216921303657040404420212823114606971197)*x + 1160822072619205705134779893309325900028*twist + 118765667139638179259147731752279069473"
      ]
     },
     "execution_count": 42,
     "metadata": {},
     "output_type": "execute_result"
    }
   ],
   "source": [
    "C.jac"
   ]
  },
  {
   "cell_type": "code",
   "execution_count": 103,
   "metadata": {},
   "outputs": [],
   "source": [
    "Kab.<alpha, beta, lambda_> = PolynomialRing(K, 3)\n",
    "Kx.<x> = PolynomialRing(Kab)\n",
    "F = newT1.parent().curve().hyperelliptic_polynomials()[0]\n",
    "pol = F - (Kx(newT1[1]) + (alpha * x + beta) * Kx(newT1[0]))^2 - lambda_ * (Kx(newT1[0])^3)"
   ]
  },
  {
   "cell_type": "code",
   "execution_count": 76,
   "metadata": {},
   "outputs": [
    {
     "data": {
      "text/plain": [
       "(x^2 + (1974335989264266708588299201207052041381*twist + 2552949792987466270382851374085664002452)*x + 2066896514746095064422487823821004735084*twist + 1822339165526309024472650636876550918395, y + (2596782800020809240408628184676515265417*twist + 1522800740680334846337441575072253928184)*x + 683578309815504265070946738506291593690*twist + 1804433531542555997854404427474444414248)"
      ]
     },
     "execution_count": 76,
     "metadata": {},
     "output_type": "execute_result"
    }
   ],
   "source": [
    "load('kummer_transform.sage')\n",
    "kummer_point = kummer_surface(JacToKummer(T1, f))\n",
    "J(KummerToJac(kummer_point, f))"
   ]
  },
  {
   "cell_type": "code",
   "execution_count": 74,
   "metadata": {},
   "outputs": [
    {
     "data": {
      "text/plain": [
       "(359393788266109225913036019451150686602*twist + 1433375847606583619984222629055412023835)*x + 2272598278471414201250717465621374358329*twist + 1151743056744362468467259776653221537771"
      ]
     },
     "execution_count": 74,
     "metadata": {},
     "output_type": "execute_result"
    }
   ],
   "source": [
    "T1[1]"
   ]
  },
  {
   "cell_type": "code",
   "execution_count": 66,
   "metadata": {},
   "outputs": [
    {
     "data": {
      "text/plain": [
       "1"
      ]
     },
     "execution_count": 66,
     "metadata": {},
     "output_type": "execute_result"
    }
   ],
   "source": [
    "sqrt(1)"
   ]
  },
  {
   "cell_type": "code",
   "execution_count": 67,
   "metadata": {},
   "outputs": [
    {
     "data": {
      "text/plain": [
       "sqrt(2)"
      ]
     },
     "execution_count": 67,
     "metadata": {},
     "output_type": "execute_result"
    }
   ],
   "source": [
    "sqrt(2)"
   ]
  },
  {
   "cell_type": "code",
   "execution_count": 68,
   "metadata": {},
   "outputs": [
    {
     "data": {
      "text/plain": [
       "x + 1"
      ]
     },
     "execution_count": 68,
     "metadata": {},
     "output_type": "execute_result"
    }
   ],
   "source": [
    "sqrt(x^2 + 2*x + 1)"
   ]
  },
  {
   "cell_type": "code",
   "execution_count": null,
   "metadata": {},
   "outputs": [],
   "source": []
  }
 ],
 "metadata": {
  "kernelspec": {
   "display_name": "SageMath 9.3",
   "language": "sage",
   "name": "sagemath"
  },
  "language_info": {
   "codemirror_mode": {
    "name": "ipython",
    "version": 3
   },
   "file_extension": ".py",
   "mimetype": "text/x-python",
   "name": "python",
   "nbconvert_exporter": "python",
   "pygments_lexer": "ipython3",
   "version": "3.7.10"
  },
  "orig_nbformat": 4
 },
 "nbformat": 4,
 "nbformat_minor": 2
}
