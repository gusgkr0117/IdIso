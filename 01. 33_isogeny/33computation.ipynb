{
 "cells": [
  {
   "cell_type": "code",
   "execution_count": 6,
   "metadata": {},
   "outputs": [
    {
     "name": "stdout",
     "output_type": "stream",
     "text": [
      "/home/sage/Documents/works/02. dev\n"
     ]
    }
   ],
   "source": [
    "cd \"/home/sage/Documents/works/02. dev/\""
   ]
  },
  {
   "cell_type": "code",
   "execution_count": 7,
   "metadata": {},
   "outputs": [],
   "source": [
    "prime = 20*3^80 - 1\n",
    "assert(prime.is_prime())"
   ]
  },
  {
   "cell_type": "code",
   "execution_count": 8,
   "metadata": {},
   "outputs": [],
   "source": [
    "K = GF(prime)\n",
    "Kx.<x> = PolynomialRing(K)\n",
    "K.<twist> = K.extension(x^2 + 3)\n",
    "Kx.<x> = PolynomialRing(K)\n",
    "\n",
    "INV2 = K(1/2); INV3 = K(1/3); INV4 = K(1/4); INV16 = K(1/16); INV216 = K(1/216); INV864 = K(1/864);\n",
    "INV103680 = K(1/103680); INV213408 = K(1/213408); INV13837824 = K(1/13837824); INV8115344640 = K(1/8115344640); INV327019680 = K(1/327019680);"
   ]
  },
  {
   "cell_type": "code",
   "execution_count": 9,
   "metadata": {},
   "outputs": [],
   "source": [
    "f = (1553371936413153072743907537770247355840*twist + 2082337710644265386807243814325583099509)*x^6 + (297507054352813646945159546041942422624*twist + 2152493905806207414873849811330295195801)*x^5 + (1575004021715451089672123283798420131272*twist + 693873685380562641426671061694799418061)*x^4 + (2464593207674982589580695219370419406165*twist + 488635973198613181188407474574241908970)*x^3 + (2506348069544373361693935842513198675337*twist + 1389065747312376943875999815111443432343)*x^2 + (1269085104740582058526622761247889959503*twist + 2216921303657040404420212823114606971197)*x + 1160822072619205705134779893309325900028*twist + 118765667139638179259147731752279069473"
   ]
  },
  {
   "cell_type": "code",
   "execution_count": 10,
   "metadata": {},
   "outputs": [
    {
     "name": "stdout",
     "output_type": "stream",
     "text": [
      "verbose 0 (3837: multi_polynomial_ideal.py, groebner_basis) Warning: falling back to very slow toy implementation.\n",
      "verbose 0 (1080: multi_polynomial_ideal.py, dimension) Warning: falling back to very slow toy implementation.\n"
     ]
    }
   ],
   "source": [
    "C = HyperellipticCurve(f)\n",
    "J = C.jacobian()"
   ]
  },
  {
   "cell_type": "code",
   "execution_count": 11,
   "metadata": {},
   "outputs": [],
   "source": [
    "P1 = J([x^2 + (2764653499373027320641011583870164748991*twist + 1591210230433450263934922023028619581904)*x + 1577943139698643136937585397941634444804*twist + 453801353912036043527336113709833929736, (967986290832185334972034005304407008909*twist + 1572156633867205171746009432509033013626)*x + 182928102136811691466878049069020189800*twist + 1007618304149301569984086823138032043187])\n",
    "P2 = J([x^2 + (1563896044945573641907197332984905186711*twist + 615309634900300028762231090923349632519)*x + 1468924704688126517798551775203494864263*twist + 2332333517485259892795780192352524727639, (1432399167343654265463612147923380327781*twist + 648888872541621034641367061701748386261)*x + 196653646156254538356772124364016805939*twist + 1488356948688330853391887215000508174718])\n",
    "Q1 = J([x^2 + (643697117906860804067557287695832272421*twist + 324855874973310655645492539237251873778)*x + 874009044412247157074633316842363310309*twist + 1529568043878433725852871172382026801981, (2551174313693266290559839465873371904224*twist + 922484229541153409564323103262705841864)*x + 354790912279988900088143888567738853820*twist + 2116031478365706410765748568343545560036])\n",
    "Q2 = J([x^2 + (545938022548915977489156937715868573221*twist + 2170930186183655350283733857370416272716)*x + 1583846819465859431472359170864144110666*twist + 1176152816848288119793507114686490463784, (829021274608714861587494146544415369950*twist + 1998074480778719310172617722293052644638)*x + 1625921754338385675799920061464951714596*twist + 1314236608225757200692046681238390489170])"
   ]
  },
  {
   "cell_type": "code",
   "execution_count": 12,
   "metadata": {},
   "outputs": [],
   "source": [
    "import random\n",
    "message = [randrange(1, 3^(valuation(prime + 1, 3))) for i in range(3)]\n",
    "T1 = P1 + message[0] * Q1 + message[1] * Q2\n",
    "T2 = P2 + message[1] * Q1 + message[2] * Q2"
   ]
  },
  {
   "cell_type": "code",
   "execution_count": 13,
   "metadata": {},
   "outputs": [],
   "source": [
    "newT1, newT2 = 3^79 * T1, 3^79 * T2"
   ]
  },
  {
   "cell_type": "code",
   "execution_count": 15,
   "metadata": {},
   "outputs": [
    {
     "name": "stdout",
     "output_type": "stream",
     "text": [
      "verbose 0 (3837: multi_polynomial_ideal.py, groebner_basis) Warning: falling back to very slow toy implementation.\n",
      "verbose 0 (3837: multi_polynomial_ideal.py, groebner_basis) Warning: falling back to very slow toy implementation.\n",
      "verbose 0 (3837: multi_polynomial_ideal.py, groebner_basis) Warning: falling back to very slow toy implementation.\n",
      "verbose 0 (3837: multi_polynomial_ideal.py, groebner_basis) Warning: falling back to very slow toy implementation.\n",
      "verbose 0 (1080: multi_polynomial_ideal.py, dimension) Warning: falling back to very slow toy implementation.\n",
      "verbose 0 (3837: multi_polynomial_ideal.py, groebner_basis) Warning: falling back to very slow toy implementation.\n",
      "verbose 0 (1080: multi_polynomial_ideal.py, dimension) Warning: falling back to very slow toy implementation.\n"
     ]
    }
   ],
   "source": [
    "load('kummer_transform.sage')\n",
    "kummer_surface = KummerSurface(J)\n",
    "points = [kummer_surface(JacToKummer(p, f)) for p in [T1, T2]]\n",
    "Jnew, codomain_points = BFT_evaluation([newT1, newT2], points)\n",
    "\n"
   ]
  },
  {
   "cell_type": "code",
   "execution_count": 16,
   "metadata": {},
   "outputs": [
    {
     "data": {
      "text/plain": [
       "0"
      ]
     },
     "execution_count": 16,
     "metadata": {},
     "output_type": "execute_result"
    }
   ],
   "source": [
    "floor(1/2)"
   ]
  },
  {
   "cell_type": "code",
   "execution_count": 199,
   "metadata": {},
   "outputs": [
    {
     "name": "stdout",
     "output_type": "stream",
     "text": [
      "verbose 0 (3837: multi_polynomial_ideal.py, groebner_basis) Warning: falling back to very slow toy implementation.\n",
      "verbose 0 (3837: multi_polynomial_ideal.py, groebner_basis) Warning: falling back to very slow toy implementation.\n",
      "verbose 0 (3837: multi_polynomial_ideal.py, groebner_basis) Warning: falling back to very slow toy implementation.\n"
     ]
    },
    {
     "data": {
      "text/plain": [
       "([2185294959236843424022822550748636269316*twist + 600559322307671231243121809420061085711,\n",
       "  1397782378793090412339185084857725629699*twist + 2647635593739866002831234131815102231839,\n",
       "  1062271963473400433968583815494677995159*twist + 2097570008472922452082071686333228985675],\n",
       " [1,\n",
       "  1775961351595386925311645617353103838849*twist + 1724619167810630281767476851910319037633,\n",
       "  64654090000013735453251431590790810879*twist + 931325372623898416340052457238535225696,\n",
       "  1441605559069281537652121501192811810150*twist + 61454691489464176757218038212510946770,\n",
       "  86305573035927337385039710766577406396*twist + 344581324548887248912984679549792555557])"
      ]
     },
     "execution_count": 199,
     "metadata": {},
     "output_type": "execute_result"
    }
   ],
   "source": [
    "load('kummer_transform.sage')\n",
    "get_rst_transform([newT1, newT2])"
   ]
  },
  {
   "cell_type": "code",
   "execution_count": 103,
   "metadata": {},
   "outputs": [],
   "source": [
    "Kab.<alpha, beta, lambda_> = PolynomialRing(K, 3)\n",
    "Kx.<x> = PolynomialRing(Kab)\n",
    "F = newT1.parent().curve().hyperelliptic_polynomials()[0]\n",
    "pol = F - (Kx(newT1[1]) + (alpha * x + beta) * Kx(newT1[0]))^2 - lambda_ * (Kx(newT1[0])^3)"
   ]
  },
  {
   "cell_type": "code",
   "execution_count": 76,
   "metadata": {},
   "outputs": [
    {
     "data": {
      "text/plain": [
       "(x^2 + (1974335989264266708588299201207052041381*twist + 2552949792987466270382851374085664002452)*x + 2066896514746095064422487823821004735084*twist + 1822339165526309024472650636876550918395, y + (2596782800020809240408628184676515265417*twist + 1522800740680334846337441575072253928184)*x + 683578309815504265070946738506291593690*twist + 1804433531542555997854404427474444414248)"
      ]
     },
     "execution_count": 76,
     "metadata": {},
     "output_type": "execute_result"
    }
   ],
   "source": [
    "load('kummer_transform.sage')\n",
    "kummer_point = kummer_surface(JacToKummer(T1, f))\n",
    "J(KummerToJac(kummer_point, f))"
   ]
  },
  {
   "cell_type": "code",
   "execution_count": 74,
   "metadata": {},
   "outputs": [
    {
     "data": {
      "text/plain": [
       "(359393788266109225913036019451150686602*twist + 1433375847606583619984222629055412023835)*x + 2272598278471414201250717465621374358329*twist + 1151743056744362468467259776653221537771"
      ]
     },
     "execution_count": 74,
     "metadata": {},
     "output_type": "execute_result"
    }
   ],
   "source": [
    "T1[1]"
   ]
  },
  {
   "cell_type": "code",
   "execution_count": 66,
   "metadata": {},
   "outputs": [
    {
     "data": {
      "text/plain": [
       "1"
      ]
     },
     "execution_count": 66,
     "metadata": {},
     "output_type": "execute_result"
    }
   ],
   "source": [
    "sqrt(1)"
   ]
  },
  {
   "cell_type": "code",
   "execution_count": 67,
   "metadata": {},
   "outputs": [
    {
     "data": {
      "text/plain": [
       "sqrt(2)"
      ]
     },
     "execution_count": 67,
     "metadata": {},
     "output_type": "execute_result"
    }
   ],
   "source": [
    "sqrt(2)"
   ]
  },
  {
   "cell_type": "code",
   "execution_count": 68,
   "metadata": {},
   "outputs": [
    {
     "data": {
      "text/plain": [
       "x + 1"
      ]
     },
     "execution_count": 68,
     "metadata": {},
     "output_type": "execute_result"
    }
   ],
   "source": [
    "sqrt(x^2 + 2*x + 1)"
   ]
  },
  {
   "cell_type": "code",
   "execution_count": null,
   "metadata": {},
   "outputs": [],
   "source": []
  }
 ],
 "metadata": {
  "kernelspec": {
   "display_name": "SageMath 9.3",
   "language": "sage",
   "name": "sagemath"
  },
  "language_info": {
   "codemirror_mode": {
    "name": "ipython",
    "version": 3
   },
   "file_extension": ".py",
   "mimetype": "text/x-python",
   "name": "python",
   "nbconvert_exporter": "python",
   "pygments_lexer": "ipython3",
   "version": "3.7.10"
  },
  "orig_nbformat": 4
 },
 "nbformat": 4,
 "nbformat_minor": 2
}
